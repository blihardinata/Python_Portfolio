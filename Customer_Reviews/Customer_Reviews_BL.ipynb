{
  "nbformat": 4,
  "nbformat_minor": 0,
  "metadata": {
    "colab": {
      "name": "Customer_Reviews_BL.ipynb",
      "provenance": [],
      "collapsed_sections": [],
      "toc_visible": true
    },
    "kernelspec": {
      "name": "python3",
      "display_name": "Python 3"
    },
    "language_info": {
      "name": "python"
    }
  },
  "cells": [
    {
      "cell_type": "markdown",
      "metadata": {
        "id": "zsqG-TpysZq_"
      },
      "source": [
        "# Program Initialization Section"
      ]
    },
    {
      "cell_type": "markdown",
      "metadata": {
        "id": "mLGhP9qFzVQS"
      },
      "source": [
        "Dataset: https://www.kaggle.com/nicapotato/womens-ecommerce-clothing-reviews"
      ]
    },
    {
      "cell_type": "code",
      "metadata": {
        "id": "A3qZh60osRAf"
      },
      "source": [
        "import pandas as pd\n",
        "import numpy as np\n",
        "import matplotlib.pyplot as plt\n",
        "import seaborn as sns"
      ],
      "execution_count": 4,
      "outputs": []
    },
    {
      "cell_type": "code",
      "metadata": {
        "colab": {
          "base_uri": "https://localhost:8080/",
          "height": 244
        },
        "id": "t58OGznWsha9",
        "outputId": "721eeaa0-0539-438a-b0d5-bb1811f8325c"
      },
      "source": [
        "df = pd.read_csv('https://raw.githubusercontent.com/blihardinata/Python_Portfolio/main/Customer_Reviews/Womens%20Clothing%20E-Commerce%20Reviews.csv')\n",
        "df.head(4)"
      ],
      "execution_count": 5,
      "outputs": [
        {
          "output_type": "execute_result",
          "data": {
            "text/html": [
              "<div>\n",
              "<style scoped>\n",
              "    .dataframe tbody tr th:only-of-type {\n",
              "        vertical-align: middle;\n",
              "    }\n",
              "\n",
              "    .dataframe tbody tr th {\n",
              "        vertical-align: top;\n",
              "    }\n",
              "\n",
              "    .dataframe thead th {\n",
              "        text-align: right;\n",
              "    }\n",
              "</style>\n",
              "<table border=\"1\" class=\"dataframe\">\n",
              "  <thead>\n",
              "    <tr style=\"text-align: right;\">\n",
              "      <th></th>\n",
              "      <th>Unnamed: 0</th>\n",
              "      <th>Clothing ID</th>\n",
              "      <th>Age</th>\n",
              "      <th>Title</th>\n",
              "      <th>Review Text</th>\n",
              "      <th>Rating</th>\n",
              "      <th>Recommended IND</th>\n",
              "      <th>Positive Feedback Count</th>\n",
              "      <th>Division Name</th>\n",
              "      <th>Department Name</th>\n",
              "      <th>Class Name</th>\n",
              "    </tr>\n",
              "  </thead>\n",
              "  <tbody>\n",
              "    <tr>\n",
              "      <th>0</th>\n",
              "      <td>0</td>\n",
              "      <td>767</td>\n",
              "      <td>33</td>\n",
              "      <td>NaN</td>\n",
              "      <td>Absolutely wonderful - silky and sexy and comf...</td>\n",
              "      <td>4</td>\n",
              "      <td>1</td>\n",
              "      <td>0</td>\n",
              "      <td>Initmates</td>\n",
              "      <td>Intimate</td>\n",
              "      <td>Intimates</td>\n",
              "    </tr>\n",
              "    <tr>\n",
              "      <th>1</th>\n",
              "      <td>1</td>\n",
              "      <td>1080</td>\n",
              "      <td>34</td>\n",
              "      <td>NaN</td>\n",
              "      <td>Love this dress!  it's sooo pretty.  i happene...</td>\n",
              "      <td>5</td>\n",
              "      <td>1</td>\n",
              "      <td>4</td>\n",
              "      <td>General</td>\n",
              "      <td>Dresses</td>\n",
              "      <td>Dresses</td>\n",
              "    </tr>\n",
              "    <tr>\n",
              "      <th>2</th>\n",
              "      <td>2</td>\n",
              "      <td>1077</td>\n",
              "      <td>60</td>\n",
              "      <td>Some major design flaws</td>\n",
              "      <td>I had such high hopes for this dress and reall...</td>\n",
              "      <td>3</td>\n",
              "      <td>0</td>\n",
              "      <td>0</td>\n",
              "      <td>General</td>\n",
              "      <td>Dresses</td>\n",
              "      <td>Dresses</td>\n",
              "    </tr>\n",
              "    <tr>\n",
              "      <th>3</th>\n",
              "      <td>3</td>\n",
              "      <td>1049</td>\n",
              "      <td>50</td>\n",
              "      <td>My favorite buy!</td>\n",
              "      <td>I love, love, love this jumpsuit. it's fun, fl...</td>\n",
              "      <td>5</td>\n",
              "      <td>1</td>\n",
              "      <td>0</td>\n",
              "      <td>General Petite</td>\n",
              "      <td>Bottoms</td>\n",
              "      <td>Pants</td>\n",
              "    </tr>\n",
              "  </tbody>\n",
              "</table>\n",
              "</div>"
            ],
            "text/plain": [
              "   Unnamed: 0  Clothing ID  Age  ...   Division Name Department Name  Class Name\n",
              "0           0          767   33  ...       Initmates        Intimate   Intimates\n",
              "1           1         1080   34  ...         General         Dresses     Dresses\n",
              "2           2         1077   60  ...         General         Dresses     Dresses\n",
              "3           3         1049   50  ...  General Petite         Bottoms       Pants\n",
              "\n",
              "[4 rows x 11 columns]"
            ]
          },
          "metadata": {
            "tags": []
          },
          "execution_count": 5
        }
      ]
    },
    {
      "cell_type": "markdown",
      "metadata": {
        "id": "nvjTiGSzCR8I"
      },
      "source": [
        "## Data Exploration"
      ]
    },
    {
      "cell_type": "code",
      "metadata": {
        "colab": {
          "base_uri": "https://localhost:8080/",
          "height": 300
        },
        "id": "OtUZUNyQsnw0",
        "outputId": "38008354-6a07-40a5-f36f-1b51f38a8f64"
      },
      "source": [
        "df.describe()"
      ],
      "execution_count": 6,
      "outputs": [
        {
          "output_type": "execute_result",
          "data": {
            "text/html": [
              "<div>\n",
              "<style scoped>\n",
              "    .dataframe tbody tr th:only-of-type {\n",
              "        vertical-align: middle;\n",
              "    }\n",
              "\n",
              "    .dataframe tbody tr th {\n",
              "        vertical-align: top;\n",
              "    }\n",
              "\n",
              "    .dataframe thead th {\n",
              "        text-align: right;\n",
              "    }\n",
              "</style>\n",
              "<table border=\"1\" class=\"dataframe\">\n",
              "  <thead>\n",
              "    <tr style=\"text-align: right;\">\n",
              "      <th></th>\n",
              "      <th>Unnamed: 0</th>\n",
              "      <th>Clothing ID</th>\n",
              "      <th>Age</th>\n",
              "      <th>Rating</th>\n",
              "      <th>Recommended IND</th>\n",
              "      <th>Positive Feedback Count</th>\n",
              "    </tr>\n",
              "  </thead>\n",
              "  <tbody>\n",
              "    <tr>\n",
              "      <th>count</th>\n",
              "      <td>23486.000000</td>\n",
              "      <td>23486.000000</td>\n",
              "      <td>23486.000000</td>\n",
              "      <td>23486.000000</td>\n",
              "      <td>23486.000000</td>\n",
              "      <td>23486.000000</td>\n",
              "    </tr>\n",
              "    <tr>\n",
              "      <th>mean</th>\n",
              "      <td>11742.500000</td>\n",
              "      <td>918.118709</td>\n",
              "      <td>43.198544</td>\n",
              "      <td>4.196032</td>\n",
              "      <td>0.822362</td>\n",
              "      <td>2.535936</td>\n",
              "    </tr>\n",
              "    <tr>\n",
              "      <th>std</th>\n",
              "      <td>6779.968547</td>\n",
              "      <td>203.298980</td>\n",
              "      <td>12.279544</td>\n",
              "      <td>1.110031</td>\n",
              "      <td>0.382216</td>\n",
              "      <td>5.702202</td>\n",
              "    </tr>\n",
              "    <tr>\n",
              "      <th>min</th>\n",
              "      <td>0.000000</td>\n",
              "      <td>0.000000</td>\n",
              "      <td>18.000000</td>\n",
              "      <td>1.000000</td>\n",
              "      <td>0.000000</td>\n",
              "      <td>0.000000</td>\n",
              "    </tr>\n",
              "    <tr>\n",
              "      <th>25%</th>\n",
              "      <td>5871.250000</td>\n",
              "      <td>861.000000</td>\n",
              "      <td>34.000000</td>\n",
              "      <td>4.000000</td>\n",
              "      <td>1.000000</td>\n",
              "      <td>0.000000</td>\n",
              "    </tr>\n",
              "    <tr>\n",
              "      <th>50%</th>\n",
              "      <td>11742.500000</td>\n",
              "      <td>936.000000</td>\n",
              "      <td>41.000000</td>\n",
              "      <td>5.000000</td>\n",
              "      <td>1.000000</td>\n",
              "      <td>1.000000</td>\n",
              "    </tr>\n",
              "    <tr>\n",
              "      <th>75%</th>\n",
              "      <td>17613.750000</td>\n",
              "      <td>1078.000000</td>\n",
              "      <td>52.000000</td>\n",
              "      <td>5.000000</td>\n",
              "      <td>1.000000</td>\n",
              "      <td>3.000000</td>\n",
              "    </tr>\n",
              "    <tr>\n",
              "      <th>max</th>\n",
              "      <td>23485.000000</td>\n",
              "      <td>1205.000000</td>\n",
              "      <td>99.000000</td>\n",
              "      <td>5.000000</td>\n",
              "      <td>1.000000</td>\n",
              "      <td>122.000000</td>\n",
              "    </tr>\n",
              "  </tbody>\n",
              "</table>\n",
              "</div>"
            ],
            "text/plain": [
              "         Unnamed: 0   Clothing ID  ...  Recommended IND  Positive Feedback Count\n",
              "count  23486.000000  23486.000000  ...     23486.000000             23486.000000\n",
              "mean   11742.500000    918.118709  ...         0.822362                 2.535936\n",
              "std     6779.968547    203.298980  ...         0.382216                 5.702202\n",
              "min        0.000000      0.000000  ...         0.000000                 0.000000\n",
              "25%     5871.250000    861.000000  ...         1.000000                 0.000000\n",
              "50%    11742.500000    936.000000  ...         1.000000                 1.000000\n",
              "75%    17613.750000   1078.000000  ...         1.000000                 3.000000\n",
              "max    23485.000000   1205.000000  ...         1.000000               122.000000\n",
              "\n",
              "[8 rows x 6 columns]"
            ]
          },
          "metadata": {
            "tags": []
          },
          "execution_count": 6
        }
      ]
    },
    {
      "cell_type": "code",
      "metadata": {
        "colab": {
          "base_uri": "https://localhost:8080/"
        },
        "id": "tYrpAiXws3ot",
        "outputId": "5c781f71-65c5-4e4f-ed8f-d4e9757985ea"
      },
      "source": [
        "df.info()"
      ],
      "execution_count": 7,
      "outputs": [
        {
          "output_type": "stream",
          "text": [
            "<class 'pandas.core.frame.DataFrame'>\n",
            "RangeIndex: 23486 entries, 0 to 23485\n",
            "Data columns (total 11 columns):\n",
            " #   Column                   Non-Null Count  Dtype \n",
            "---  ------                   --------------  ----- \n",
            " 0   Unnamed: 0               23486 non-null  int64 \n",
            " 1   Clothing ID              23486 non-null  int64 \n",
            " 2   Age                      23486 non-null  int64 \n",
            " 3   Title                    19676 non-null  object\n",
            " 4   Review Text              22641 non-null  object\n",
            " 5   Rating                   23486 non-null  int64 \n",
            " 6   Recommended IND          23486 non-null  int64 \n",
            " 7   Positive Feedback Count  23486 non-null  int64 \n",
            " 8   Division Name            23472 non-null  object\n",
            " 9   Department Name          23472 non-null  object\n",
            " 10  Class Name               23472 non-null  object\n",
            "dtypes: int64(6), object(5)\n",
            "memory usage: 2.0+ MB\n"
          ],
          "name": "stdout"
        }
      ]
    },
    {
      "cell_type": "code",
      "metadata": {
        "colab": {
          "base_uri": "https://localhost:8080/"
        },
        "id": "1ZWCaGajtvjH",
        "outputId": "e5cfae87-588c-4d76-cec0-398b17cfc104"
      },
      "source": [
        "df.shape"
      ],
      "execution_count": 8,
      "outputs": [
        {
          "output_type": "execute_result",
          "data": {
            "text/plain": [
              "(23486, 11)"
            ]
          },
          "metadata": {
            "tags": []
          },
          "execution_count": 8
        }
      ]
    },
    {
      "cell_type": "code",
      "metadata": {
        "colab": {
          "base_uri": "https://localhost:8080/"
        },
        "id": "WRWnICgpuq4Z",
        "outputId": "bfcb8696-c566-47a1-b5b7-4f81576e66eb"
      },
      "source": [
        "#checking the value counts for recommendation\n",
        "df['Recommended IND'].value_counts()\n",
        "#1 = recommended, 0 = not recommended"
      ],
      "execution_count": 9,
      "outputs": [
        {
          "output_type": "execute_result",
          "data": {
            "text/plain": [
              "1    19314\n",
              "0     4172\n",
              "Name: Recommended IND, dtype: int64"
            ]
          },
          "metadata": {
            "tags": []
          },
          "execution_count": 9
        }
      ]
    },
    {
      "cell_type": "code",
      "metadata": {
        "colab": {
          "base_uri": "https://localhost:8080/"
        },
        "id": "N571I0ZHBp5M",
        "outputId": "a895e0dd-6382-4ce8-904b-fccef5cab0eb"
      },
      "source": [
        "df['Department Name'].unique()"
      ],
      "execution_count": 10,
      "outputs": [
        {
          "output_type": "execute_result",
          "data": {
            "text/plain": [
              "array(['Intimate', 'Dresses', 'Bottoms', 'Tops', 'Jackets', 'Trend', nan],\n",
              "      dtype=object)"
            ]
          },
          "metadata": {
            "tags": []
          },
          "execution_count": 10
        }
      ]
    },
    {
      "cell_type": "code",
      "metadata": {
        "colab": {
          "base_uri": "https://localhost:8080/"
        },
        "id": "s_rZeBucB7eu",
        "outputId": "3bfe3c4c-e7fc-481f-fb74-fbb73be14c2f"
      },
      "source": [
        "df['Class Name'].unique()"
      ],
      "execution_count": 11,
      "outputs": [
        {
          "output_type": "execute_result",
          "data": {
            "text/plain": [
              "array(['Intimates', 'Dresses', 'Pants', 'Blouses', 'Knits', 'Outerwear',\n",
              "       'Lounge', 'Sweaters', 'Skirts', 'Fine gauge', 'Sleep', 'Jackets',\n",
              "       'Swim', 'Trend', 'Jeans', 'Legwear', 'Shorts', 'Layering',\n",
              "       'Casual bottoms', nan, 'Chemises'], dtype=object)"
            ]
          },
          "metadata": {
            "tags": []
          },
          "execution_count": 11
        }
      ]
    },
    {
      "cell_type": "code",
      "metadata": {
        "colab": {
          "base_uri": "https://localhost:8080/"
        },
        "id": "xbk0K4ocCBdh",
        "outputId": "f731505f-b1a2-4b29-fc46-8cdedd0e9f6c"
      },
      "source": [
        "df['Division Name'].unique()"
      ],
      "execution_count": 12,
      "outputs": [
        {
          "output_type": "execute_result",
          "data": {
            "text/plain": [
              "array(['Initmates', 'General', 'General Petite', nan], dtype=object)"
            ]
          },
          "metadata": {
            "tags": []
          },
          "execution_count": 12
        }
      ]
    },
    {
      "cell_type": "markdown",
      "metadata": {
        "id": "-FM2dp6Ou9jq"
      },
      "source": [
        "# Data Cleaning and transformation"
      ]
    },
    {
      "cell_type": "code",
      "metadata": {
        "colab": {
          "base_uri": "https://localhost:8080/"
        },
        "id": "oeOZe2cet0zo",
        "outputId": "0d0bc5ea-76d2-4af5-ed6b-2229bfc95ea8"
      },
      "source": [
        "#checking null\n",
        "df.isnull().sum()"
      ],
      "execution_count": 13,
      "outputs": [
        {
          "output_type": "execute_result",
          "data": {
            "text/plain": [
              "Unnamed: 0                    0\n",
              "Clothing ID                   0\n",
              "Age                           0\n",
              "Title                      3810\n",
              "Review Text                 845\n",
              "Rating                        0\n",
              "Recommended IND               0\n",
              "Positive Feedback Count       0\n",
              "Division Name                14\n",
              "Department Name              14\n",
              "Class Name                   14\n",
              "dtype: int64"
            ]
          },
          "metadata": {
            "tags": []
          },
          "execution_count": 13
        }
      ]
    },
    {
      "cell_type": "code",
      "metadata": {
        "id": "Z0V1Irf6vB1G"
      },
      "source": [
        "#there are too many NA values under title. Hence, we need to delete the whole column\n",
        "df.drop(columns= ['Title', 'Unnamed: 0'], inplace=True)"
      ],
      "execution_count": 14,
      "outputs": []
    },
    {
      "cell_type": "code",
      "metadata": {
        "id": "2fqi6KcewNKR"
      },
      "source": [
        "#Review text, division name, department name, and class name are strings. \n",
        "df.dropna(subset=['Review Text', 'Division Name', 'Department Name', 'Class Name'], inplace= True)"
      ],
      "execution_count": 15,
      "outputs": []
    },
    {
      "cell_type": "code",
      "metadata": {
        "colab": {
          "base_uri": "https://localhost:8080/"
        },
        "id": "HbPS039_w-ir",
        "outputId": "6cdfb789-705c-4f3c-df82-c78eb6dd156a"
      },
      "source": [
        "df.isnull().sum()"
      ],
      "execution_count": 16,
      "outputs": [
        {
          "output_type": "execute_result",
          "data": {
            "text/plain": [
              "Clothing ID                0\n",
              "Age                        0\n",
              "Review Text                0\n",
              "Rating                     0\n",
              "Recommended IND            0\n",
              "Positive Feedback Count    0\n",
              "Division Name              0\n",
              "Department Name            0\n",
              "Class Name                 0\n",
              "dtype: int64"
            ]
          },
          "metadata": {
            "tags": []
          },
          "execution_count": 16
        }
      ]
    },
    {
      "cell_type": "code",
      "metadata": {
        "id": "pGrFabkk0DIp",
        "colab": {
          "base_uri": "https://localhost:8080/"
        },
        "outputId": "0fe7f7ce-ed4a-4f27-f6ea-f741c9ad8fdd"
      },
      "source": [
        "#changing clothing ID into object\n",
        "df['Clothing ID'].astype(str)"
      ],
      "execution_count": 17,
      "outputs": [
        {
          "output_type": "execute_result",
          "data": {
            "text/plain": [
              "0         767\n",
              "1        1080\n",
              "2        1077\n",
              "3        1049\n",
              "4         847\n",
              "         ... \n",
              "23481    1104\n",
              "23482     862\n",
              "23483    1104\n",
              "23484    1084\n",
              "23485    1104\n",
              "Name: Clothing ID, Length: 22628, dtype: object"
            ]
          },
          "metadata": {
            "tags": []
          },
          "execution_count": 17
        }
      ]
    },
    {
      "cell_type": "code",
      "metadata": {
        "colab": {
          "base_uri": "https://localhost:8080/"
        },
        "id": "RYAH6d2X00tC",
        "outputId": "5103ffde-bd85-4e3a-f175-949c6354a8a3"
      },
      "source": [
        "df = df.rename(columns ={\n",
        "    'Review Text':'Review',\n",
        "    'Recommended IND':'Recommended?',\n",
        "    'Division Name':'Division',\n",
        "    'Department Name':'Department',\n",
        "    'Class Name':'Style'\n",
        "})\n",
        "df.columns"
      ],
      "execution_count": 18,
      "outputs": [
        {
          "output_type": "execute_result",
          "data": {
            "text/plain": [
              "Index(['Clothing ID', 'Age', 'Review', 'Rating', 'Recommended?',\n",
              "       'Positive Feedback Count', 'Division', 'Department', 'Style'],\n",
              "      dtype='object')"
            ]
          },
          "metadata": {
            "tags": []
          },
          "execution_count": 18
        }
      ]
    },
    {
      "cell_type": "markdown",
      "metadata": {
        "id": "Oq3HpaEFztyp"
      },
      "source": [
        "# Data Visualization"
      ]
    },
    {
      "cell_type": "markdown",
      "metadata": {
        "id": "-DyMAozHAw6D"
      },
      "source": [
        "## The number of recommended products and ratings\n",
        "- First graph: Number of recommended products\n",
        "- Second graph: Number of ratings"
      ]
    },
    {
      "cell_type": "code",
      "metadata": {
        "colab": {
          "base_uri": "https://localhost:8080/",
          "height": 593
        },
        "id": "0Ve1Rsd9zwz-",
        "outputId": "319cb853-9e78-4746-c9ab-7f4f2b2c242c"
      },
      "source": [
        "#counting recommended index\n",
        "sns.set(font_scale=1.5)\n",
        "plt.figure(figsize=(10,8))\n",
        "sns.countplot(data = df, x='Recommended?', palette=['LightBlue', 'DarkSlateBlue'])\n",
        "plt.title(\"Recommended Items\", y=1.05)\n",
        "plt.legend()"
      ],
      "execution_count": 19,
      "outputs": [
        {
          "output_type": "stream",
          "text": [
            "No handles with labels found to put in legend.\n"
          ],
          "name": "stderr"
        },
        {
          "output_type": "execute_result",
          "data": {
            "text/plain": [
              "<matplotlib.legend.Legend at 0x7efd244c8610>"
            ]
          },
          "metadata": {
            "tags": []
          },
          "execution_count": 19
        },
        {
          "output_type": "display_data",
          "data": {
            "image/png": "[encoded data removed]",
            "text/plain": [
              "<Figure size 720x576 with 1 Axes>"
            ]
          },
          "metadata": {
            "tags": []
          }
        }
      ]
    },
    {
      "cell_type": "code",
      "metadata": {
        "colab": {
          "base_uri": "https://localhost:8080/",
          "height": 593
        },
        "id": "q43-nJ9n6eL9",
        "outputId": "9a0ff05b-f3f2-4792-82e0-6ba797b62100"
      },
      "source": [
        "#counting number of rating\n",
        "sns.set(font_scale=1.5)\n",
        "plt.figure(figsize=(10,8))\n",
        "sns.countplot(data = df, x='Rating', palette=['LightBlue', 'DarkSlateBlue', '#241029','#721C43','#d6a589'])\n",
        "plt.title(\"Number of Rating\", y=1.05)\n",
        "plt.legend()"
      ],
      "execution_count": 20,
      "outputs": [
        {
          "output_type": "stream",
          "text": [
            "No handles with labels found to put in legend.\n"
          ],
          "name": "stderr"
        },
        {
          "output_type": "execute_result",
          "data": {
            "text/plain": [
              "<matplotlib.legend.Legend at 0x7efd24473990>"
            ]
          },
          "metadata": {
            "tags": []
          },
          "execution_count": 20
        },
        {
          "output_type": "display_data",
          "data": {
            "image/png": "[encoded data removed]",
            "text/plain": [
              "<Figure size 720x576 with 1 Axes>"
            ]
          },
          "metadata": {
            "tags": []
          }
        }
      ]
    },
    {
      "cell_type": "markdown",
      "metadata": {
        "id": "1austkvKA3xa"
      },
      "source": [
        "## Relationship between Rating and Recommended"
      ]
    },
    {
      "cell_type": "code",
      "metadata": {
        "id": "wggQSxjA_WAd"
      },
      "source": [
        "rating_pivot = df.loc[:, ['Rating', 'Recommended?']]"
      ],
      "execution_count": 21,
      "outputs": []
    },
    {
      "cell_type": "code",
      "metadata": {
        "colab": {
          "base_uri": "https://localhost:8080/",
          "height": 237
        },
        "id": "f8pzFgwr8xrT",
        "outputId": "17bd2c5f-caeb-4bed-e654-a5720c9a6027"
      },
      "source": [
        "#Review the relationship between rating and recommended items\n",
        "rating_pivot = rating_pivot.pivot_table(index='Rating', columns='Recommended?', values='Recommended?', aggfunc=len)\n",
        "rating_pivot"
      ],
      "execution_count": 22,
      "outputs": [
        {
          "output_type": "execute_result",
          "data": {
            "text/html": [
              "<div>\n",
              "<style scoped>\n",
              "    .dataframe tbody tr th:only-of-type {\n",
              "        vertical-align: middle;\n",
              "    }\n",
              "\n",
              "    .dataframe tbody tr th {\n",
              "        vertical-align: top;\n",
              "    }\n",
              "\n",
              "    .dataframe thead th {\n",
              "        text-align: right;\n",
              "    }\n",
              "</style>\n",
              "<table border=\"1\" class=\"dataframe\">\n",
              "  <thead>\n",
              "    <tr style=\"text-align: right;\">\n",
              "      <th>Recommended?</th>\n",
              "      <th>0</th>\n",
              "      <th>1</th>\n",
              "    </tr>\n",
              "    <tr>\n",
              "      <th>Rating</th>\n",
              "      <th></th>\n",
              "      <th></th>\n",
              "    </tr>\n",
              "  </thead>\n",
              "  <tbody>\n",
              "    <tr>\n",
              "      <th>1</th>\n",
              "      <td>806</td>\n",
              "      <td>15</td>\n",
              "    </tr>\n",
              "    <tr>\n",
              "      <th>2</th>\n",
              "      <td>1455</td>\n",
              "      <td>94</td>\n",
              "    </tr>\n",
              "    <tr>\n",
              "      <th>3</th>\n",
              "      <td>1653</td>\n",
              "      <td>1170</td>\n",
              "    </tr>\n",
              "    <tr>\n",
              "      <th>4</th>\n",
              "      <td>164</td>\n",
              "      <td>4744</td>\n",
              "    </tr>\n",
              "    <tr>\n",
              "      <th>5</th>\n",
              "      <td>23</td>\n",
              "      <td>12504</td>\n",
              "    </tr>\n",
              "  </tbody>\n",
              "</table>\n",
              "</div>"
            ],
            "text/plain": [
              "Recommended?     0      1\n",
              "Rating                   \n",
              "1              806     15\n",
              "2             1455     94\n",
              "3             1653   1170\n",
              "4              164   4744\n",
              "5               23  12504"
            ]
          },
          "metadata": {
            "tags": []
          },
          "execution_count": 22
        }
      ]
    },
    {
      "cell_type": "code",
      "metadata": {
        "colab": {
          "base_uri": "https://localhost:8080/",
          "height": 237
        },
        "id": "zLxIWHz1_d8s",
        "outputId": "8bb7746e-7d93-49b8-d8bd-e94e5e271ebe"
      },
      "source": [
        "rating_pivot = rating_pivot.apply(lambda x: x/sum(x), axis = 1)\n",
        "rating_pivot"
      ],
      "execution_count": 23,
      "outputs": [
        {
          "output_type": "execute_result",
          "data": {
            "text/html": [
              "<div>\n",
              "<style scoped>\n",
              "    .dataframe tbody tr th:only-of-type {\n",
              "        vertical-align: middle;\n",
              "    }\n",
              "\n",
              "    .dataframe tbody tr th {\n",
              "        vertical-align: top;\n",
              "    }\n",
              "\n",
              "    .dataframe thead th {\n",
              "        text-align: right;\n",
              "    }\n",
              "</style>\n",
              "<table border=\"1\" class=\"dataframe\">\n",
              "  <thead>\n",
              "    <tr style=\"text-align: right;\">\n",
              "      <th>Recommended?</th>\n",
              "      <th>0</th>\n",
              "      <th>1</th>\n",
              "    </tr>\n",
              "    <tr>\n",
              "      <th>Rating</th>\n",
              "      <th></th>\n",
              "      <th></th>\n",
              "    </tr>\n",
              "  </thead>\n",
              "  <tbody>\n",
              "    <tr>\n",
              "      <th>1</th>\n",
              "      <td>0.981730</td>\n",
              "      <td>0.018270</td>\n",
              "    </tr>\n",
              "    <tr>\n",
              "      <th>2</th>\n",
              "      <td>0.939316</td>\n",
              "      <td>0.060684</td>\n",
              "    </tr>\n",
              "    <tr>\n",
              "      <th>3</th>\n",
              "      <td>0.585547</td>\n",
              "      <td>0.414453</td>\n",
              "    </tr>\n",
              "    <tr>\n",
              "      <th>4</th>\n",
              "      <td>0.033415</td>\n",
              "      <td>0.966585</td>\n",
              "    </tr>\n",
              "    <tr>\n",
              "      <th>5</th>\n",
              "      <td>0.001836</td>\n",
              "      <td>0.998164</td>\n",
              "    </tr>\n",
              "  </tbody>\n",
              "</table>\n",
              "</div>"
            ],
            "text/plain": [
              "Recommended?         0         1\n",
              "Rating                          \n",
              "1             0.981730  0.018270\n",
              "2             0.939316  0.060684\n",
              "3             0.585547  0.414453\n",
              "4             0.033415  0.966585\n",
              "5             0.001836  0.998164"
            ]
          },
          "metadata": {
            "tags": []
          },
          "execution_count": 23
        }
      ]
    },
    {
      "cell_type": "code",
      "metadata": {
        "colab": {
          "base_uri": "https://localhost:8080/",
          "height": 427
        },
        "id": "WuT5B8je_qjl",
        "outputId": "7c2770d7-b509-40cd-e80f-2d8865785c03"
      },
      "source": [
        "#ax = single object in the figure/graph\n",
        "fig, ax = plt.subplots()\n",
        "rating_pivot.plot(kind = \"bar\", stacked = True, figsize = (10,6), ax = ax, color = ['LightBlue', 'DarkSlateBlue'], width = 0.75)\n",
        "ax.legend(['Not Recommended', 'Recommended!'])\n",
        "plt.title('The Relationship between Rating and Recommended')\n",
        "plt.xlabel('Rating')\n",
        "plt.ylabel('Recommended')\n",
        "plt.xticks(rotation = 0)\n",
        "plt.show()"
      ],
      "execution_count": 24,
      "outputs": [
        {
          "output_type": "display_data",
          "data": {
            "image/png": "[encoded data removed]",
            "text/plain": [
              "<Figure size 720x432 with 1 Axes>"
            ]
          },
          "metadata": {
            "tags": []
          }
        }
      ]
    },
    {
      "cell_type": "markdown",
      "metadata": {
        "id": "aSv_jZ2JBdJd"
      },
      "source": [
        "## Highest Ratings Dept"
      ]
    },
    {
      "cell_type": "code",
      "metadata": {
        "colab": {
          "base_uri": "https://localhost:8080/"
        },
        "id": "W4qhBWPeBhHh",
        "outputId": "874c4af1-653d-40c9-d57e-abb76f1f6e10"
      },
      "source": [
        "df['Department'].unique()"
      ],
      "execution_count": 25,
      "outputs": [
        {
          "output_type": "execute_result",
          "data": {
            "text/plain": [
              "array(['Intimate', 'Dresses', 'Bottoms', 'Tops', 'Jackets', 'Trend'],\n",
              "      dtype=object)"
            ]
          },
          "metadata": {
            "tags": []
          },
          "execution_count": 25
        }
      ]
    },
    {
      "cell_type": "code",
      "metadata": {
        "id": "GlI28VcCCzXx"
      },
      "source": [
        "dept_rating = df.loc[:, ['Department', 'Rating']]"
      ],
      "execution_count": 26,
      "outputs": []
    },
    {
      "cell_type": "code",
      "metadata": {
        "id": "HHlRWe07BnF1"
      },
      "source": [
        "dept_rating = dept_rating.pivot_table(index='Department', columns='Rating', values='Rating', aggfunc=len)"
      ],
      "execution_count": 27,
      "outputs": []
    },
    {
      "cell_type": "code",
      "metadata": {
        "colab": {
          "base_uri": "https://localhost:8080/",
          "height": 909
        },
        "id": "Simd0IoNDPhb",
        "outputId": "6c9549bc-2536-45d8-b80c-ff5635673e68"
      },
      "source": [
        "#ax = single object in the figure/graph\n",
        "fig, ax = plt.subplots()\n",
        "dept_rating.plot(kind = \"bar\", figsize = (15,15), ax = ax, color = ['LightBlue', 'DarkSlateBlue', '#241029','#721C43','#d6a589'], width = 0.75)\n",
        "plt.title('Rating by Departments', fontsize=14)\n",
        "plt.xlabel('Department Name', fontsize=14)\n",
        "plt.ylabel('Rating', fontsize=14)\n",
        "plt.xticks(rotation = 0)\n",
        "plt.show()"
      ],
      "execution_count": 28,
      "outputs": [
        {
          "output_type": "display_data",
          "data": {
            "image/png": "[encoded data removed]",
            "text/plain": [
              "<Figure size 1080x1080 with 1 Axes>"
            ]
          },
          "metadata": {
            "tags": []
          }
        }
      ]
    },
    {
      "cell_type": "markdown",
      "metadata": {
        "id": "d4wrAUBDg5cT"
      },
      "source": [
        "## Reviewing Customers Age group"
      ]
    },
    {
      "cell_type": "code",
      "metadata": {
        "colab": {
          "base_uri": "https://localhost:8080/"
        },
        "id": "HHoTRHfdhBUl",
        "outputId": "48ed2dfb-d374-4bc4-e124-65e937667926"
      },
      "source": [
        "df['Age'].describe()"
      ],
      "execution_count": 29,
      "outputs": [
        {
          "output_type": "execute_result",
          "data": {
            "text/plain": [
              "count    22628.000000\n",
              "mean        43.282880\n",
              "std         12.328176\n",
              "min         18.000000\n",
              "25%         34.000000\n",
              "50%         41.000000\n",
              "75%         52.000000\n",
              "max         99.000000\n",
              "Name: Age, dtype: float64"
            ]
          },
          "metadata": {
            "tags": []
          },
          "execution_count": 29
        }
      ]
    },
    {
      "cell_type": "code",
      "metadata": {
        "colab": {
          "base_uri": "https://localhost:8080/",
          "height": 550
        },
        "id": "ZmIwGbr8hJrL",
        "outputId": "2fe3350b-81bc-4e50-91b9-4215ae20d378"
      },
      "source": [
        "#Reviewing the outliers in the age group\n",
        "sns.set(font_scale=1.5)\n",
        "plt.figure(figsize=(10,8))\n",
        "sns.boxplot(data = df, x = 'Age', color = 'LightBlue')\n",
        "plt.title('Boxplot: Customer Age', fontsize=14)"
      ],
      "execution_count": 30,
      "outputs": [
        {
          "output_type": "execute_result",
          "data": {
            "text/plain": [
              "Text(0.5, 1.0, 'Boxplot: Customer Age')"
            ]
          },
          "metadata": {
            "tags": []
          },
          "execution_count": 30
        },
        {
          "output_type": "display_data",
          "data": {
            "image/png": "[encoded data removed]",
            "text/plain": [
              "<Figure size 720x576 with 1 Axes>"
            ]
          },
          "metadata": {
            "tags": []
          }
        }
      ]
    },
    {
      "cell_type": "code",
      "metadata": {
        "colab": {
          "base_uri": "https://localhost:8080/"
        },
        "id": "iaJtcLl0h3ky",
        "outputId": "2a070690-f168-4c9e-c1c5-773080e67dd0"
      },
      "source": [
        "df['Age'].quantile([0, 0.2, 0.4, 0.6, 0.8, 1])"
      ],
      "execution_count": 31,
      "outputs": [
        {
          "output_type": "execute_result",
          "data": {
            "text/plain": [
              "0.0    18.0\n",
              "0.2    33.0\n",
              "0.4    39.0\n",
              "0.6    45.0\n",
              "0.8    54.0\n",
              "1.0    99.0\n",
              "Name: Age, dtype: float64"
            ]
          },
          "metadata": {
            "tags": []
          },
          "execution_count": 31
        }
      ]
    },
    {
      "cell_type": "code",
      "metadata": {
        "colab": {
          "base_uri": "https://localhost:8080/",
          "height": 206
        },
        "id": "B8UZN_m4kbmX",
        "outputId": "565f1efd-b79d-419b-8eb6-da470cd703b1"
      },
      "source": [
        "df['AgeGroup'] = pd.cut(x = df['Age'], bins= [0, 33, 39, 45, 54, 99], labels= ['18-33', '34-39', '40-45', '46-54', '55-99'])\n",
        "df.head()"
      ],
      "execution_count": 32,
      "outputs": [
        {
          "output_type": "execute_result",
          "data": {
            "text/html": [
              "<div>\n",
              "<style scoped>\n",
              "    .dataframe tbody tr th:only-of-type {\n",
              "        vertical-align: middle;\n",
              "    }\n",
              "\n",
              "    .dataframe tbody tr th {\n",
              "        vertical-align: top;\n",
              "    }\n",
              "\n",
              "    .dataframe thead th {\n",
              "        text-align: right;\n",
              "    }\n",
              "</style>\n",
              "<table border=\"1\" class=\"dataframe\">\n",
              "  <thead>\n",
              "    <tr style=\"text-align: right;\">\n",
              "      <th></th>\n",
              "      <th>Clothing ID</th>\n",
              "      <th>Age</th>\n",
              "      <th>Review</th>\n",
              "      <th>Rating</th>\n",
              "      <th>Recommended?</th>\n",
              "      <th>Positive Feedback Count</th>\n",
              "      <th>Division</th>\n",
              "      <th>Department</th>\n",
              "      <th>Style</th>\n",
              "      <th>AgeGroup</th>\n",
              "    </tr>\n",
              "  </thead>\n",
              "  <tbody>\n",
              "    <tr>\n",
              "      <th>0</th>\n",
              "      <td>767</td>\n",
              "      <td>33</td>\n",
              "      <td>Absolutely wonderful - silky and sexy and comf...</td>\n",
              "      <td>4</td>\n",
              "      <td>1</td>\n",
              "      <td>0</td>\n",
              "      <td>Initmates</td>\n",
              "      <td>Intimate</td>\n",
              "      <td>Intimates</td>\n",
              "      <td>18-33</td>\n",
              "    </tr>\n",
              "    <tr>\n",
              "      <th>1</th>\n",
              "      <td>1080</td>\n",
              "      <td>34</td>\n",
              "      <td>Love this dress!  it's sooo pretty.  i happene...</td>\n",
              "      <td>5</td>\n",
              "      <td>1</td>\n",
              "      <td>4</td>\n",
              "      <td>General</td>\n",
              "      <td>Dresses</td>\n",
              "      <td>Dresses</td>\n",
              "      <td>34-39</td>\n",
              "    </tr>\n",
              "    <tr>\n",
              "      <th>2</th>\n",
              "      <td>1077</td>\n",
              "      <td>60</td>\n",
              "      <td>I had such high hopes for this dress and reall...</td>\n",
              "      <td>3</td>\n",
              "      <td>0</td>\n",
              "      <td>0</td>\n",
              "      <td>General</td>\n",
              "      <td>Dresses</td>\n",
              "      <td>Dresses</td>\n",
              "      <td>55-99</td>\n",
              "    </tr>\n",
              "    <tr>\n",
              "      <th>3</th>\n",
              "      <td>1049</td>\n",
              "      <td>50</td>\n",
              "      <td>I love, love, love this jumpsuit. it's fun, fl...</td>\n",
              "      <td>5</td>\n",
              "      <td>1</td>\n",
              "      <td>0</td>\n",
              "      <td>General Petite</td>\n",
              "      <td>Bottoms</td>\n",
              "      <td>Pants</td>\n",
              "      <td>46-54</td>\n",
              "    </tr>\n",
              "    <tr>\n",
              "      <th>4</th>\n",
              "      <td>847</td>\n",
              "      <td>47</td>\n",
              "      <td>This shirt is very flattering to all due to th...</td>\n",
              "      <td>5</td>\n",
              "      <td>1</td>\n",
              "      <td>6</td>\n",
              "      <td>General</td>\n",
              "      <td>Tops</td>\n",
              "      <td>Blouses</td>\n",
              "      <td>46-54</td>\n",
              "    </tr>\n",
              "  </tbody>\n",
              "</table>\n",
              "</div>"
            ],
            "text/plain": [
              "   Clothing ID  Age  ...      Style  AgeGroup\n",
              "0          767   33  ...  Intimates     18-33\n",
              "1         1080   34  ...    Dresses     34-39\n",
              "2         1077   60  ...    Dresses     55-99\n",
              "3         1049   50  ...      Pants     46-54\n",
              "4          847   47  ...    Blouses     46-54\n",
              "\n",
              "[5 rows x 10 columns]"
            ]
          },
          "metadata": {
            "tags": []
          },
          "execution_count": 32
        }
      ]
    },
    {
      "cell_type": "code",
      "metadata": {
        "id": "Nl5rPYmxlTkS",
        "colab": {
          "base_uri": "https://localhost:8080/",
          "height": 593
        },
        "outputId": "88b766c2-491f-4ae0-dc8a-2a02527e7f08"
      },
      "source": [
        "#counting number of rating\n",
        "sns.set(font_scale=1.5)\n",
        "plt.figure(figsize=(10,8))\n",
        "sns.countplot(data = df, x='AgeGroup', palette=['LightBlue', 'DarkSlateBlue', '#241029','#721C43','#d6a589'])\n",
        "plt.title(\"The Distribution of Customer Age\", y=1.05)\n",
        "plt.legend()"
      ],
      "execution_count": 33,
      "outputs": [
        {
          "output_type": "stream",
          "text": [
            "No handles with labels found to put in legend.\n"
          ],
          "name": "stderr"
        },
        {
          "output_type": "execute_result",
          "data": {
            "text/plain": [
              "<matplotlib.legend.Legend at 0x7efd2468a9d0>"
            ]
          },
          "metadata": {
            "tags": []
          },
          "execution_count": 33
        },
        {
          "output_type": "display_data",
          "data": {
            "image/png": "[encoded data removed]",
            "text/plain": [
              "<Figure size 720x576 with 1 Axes>"
            ]
          },
          "metadata": {
            "tags": []
          }
        }
      ]
    },
    {
      "cell_type": "markdown",
      "metadata": {
        "id": "xat4-7HqKLhr"
      },
      "source": [
        "# Analyzing Stopwords"
      ]
    },
    {
      "cell_type": "markdown",
      "metadata": {
        "id": "ye22u3wpKQr7"
      },
      "source": [
        "Resources: \n",
        "- https://www.geeksforgeeks.org/python-nlp-analysis-of-restaurant-reviews/\n",
        "- https://stackoverflow.com/questions/47316783/python-dataframe-remove-duplicate-words-in-the-same-cell-within-a-column-in-pyt"
      ]
    },
    {
      "cell_type": "code",
      "metadata": {
        "id": "-DQqaCoF7g3-"
      },
      "source": [
        "df['Perception'] = ['Positive' if rating > 3 else 'Negative' for rating in df['Rating']]"
      ],
      "execution_count": 34,
      "outputs": []
    },
    {
      "cell_type": "code",
      "metadata": {
        "colab": {
          "base_uri": "https://localhost:8080/",
          "height": 206
        },
        "id": "hJOXRoko8EnL",
        "outputId": "93e2f877-1155-4bdc-bde4-df4e008dfe80"
      },
      "source": [
        "df.head()"
      ],
      "execution_count": 35,
      "outputs": [
        {
          "output_type": "execute_result",
          "data": {
            "text/html": [
              "<div>\n",
              "<style scoped>\n",
              "    .dataframe tbody tr th:only-of-type {\n",
              "        vertical-align: middle;\n",
              "    }\n",
              "\n",
              "    .dataframe tbody tr th {\n",
              "        vertical-align: top;\n",
              "    }\n",
              "\n",
              "    .dataframe thead th {\n",
              "        text-align: right;\n",
              "    }\n",
              "</style>\n",
              "<table border=\"1\" class=\"dataframe\">\n",
              "  <thead>\n",
              "    <tr style=\"text-align: right;\">\n",
              "      <th></th>\n",
              "      <th>Clothing ID</th>\n",
              "      <th>Age</th>\n",
              "      <th>Review</th>\n",
              "      <th>Rating</th>\n",
              "      <th>Recommended?</th>\n",
              "      <th>Positive Feedback Count</th>\n",
              "      <th>Division</th>\n",
              "      <th>Department</th>\n",
              "      <th>Style</th>\n",
              "      <th>AgeGroup</th>\n",
              "      <th>Perception</th>\n",
              "    </tr>\n",
              "  </thead>\n",
              "  <tbody>\n",
              "    <tr>\n",
              "      <th>0</th>\n",
              "      <td>767</td>\n",
              "      <td>33</td>\n",
              "      <td>Absolutely wonderful - silky and sexy and comf...</td>\n",
              "      <td>4</td>\n",
              "      <td>1</td>\n",
              "      <td>0</td>\n",
              "      <td>Initmates</td>\n",
              "      <td>Intimate</td>\n",
              "      <td>Intimates</td>\n",
              "      <td>18-33</td>\n",
              "      <td>Positive</td>\n",
              "    </tr>\n",
              "    <tr>\n",
              "      <th>1</th>\n",
              "      <td>1080</td>\n",
              "      <td>34</td>\n",
              "      <td>Love this dress!  it's sooo pretty.  i happene...</td>\n",
              "      <td>5</td>\n",
              "      <td>1</td>\n",
              "      <td>4</td>\n",
              "      <td>General</td>\n",
              "      <td>Dresses</td>\n",
              "      <td>Dresses</td>\n",
              "      <td>34-39</td>\n",
              "      <td>Positive</td>\n",
              "    </tr>\n",
              "    <tr>\n",
              "      <th>2</th>\n",
              "      <td>1077</td>\n",
              "      <td>60</td>\n",
              "      <td>I had such high hopes for this dress and reall...</td>\n",
              "      <td>3</td>\n",
              "      <td>0</td>\n",
              "      <td>0</td>\n",
              "      <td>General</td>\n",
              "      <td>Dresses</td>\n",
              "      <td>Dresses</td>\n",
              "      <td>55-99</td>\n",
              "      <td>Negative</td>\n",
              "    </tr>\n",
              "    <tr>\n",
              "      <th>3</th>\n",
              "      <td>1049</td>\n",
              "      <td>50</td>\n",
              "      <td>I love, love, love this jumpsuit. it's fun, fl...</td>\n",
              "      <td>5</td>\n",
              "      <td>1</td>\n",
              "      <td>0</td>\n",
              "      <td>General Petite</td>\n",
              "      <td>Bottoms</td>\n",
              "      <td>Pants</td>\n",
              "      <td>46-54</td>\n",
              "      <td>Positive</td>\n",
              "    </tr>\n",
              "    <tr>\n",
              "      <th>4</th>\n",
              "      <td>847</td>\n",
              "      <td>47</td>\n",
              "      <td>This shirt is very flattering to all due to th...</td>\n",
              "      <td>5</td>\n",
              "      <td>1</td>\n",
              "      <td>6</td>\n",
              "      <td>General</td>\n",
              "      <td>Tops</td>\n",
              "      <td>Blouses</td>\n",
              "      <td>46-54</td>\n",
              "      <td>Positive</td>\n",
              "    </tr>\n",
              "  </tbody>\n",
              "</table>\n",
              "</div>"
            ],
            "text/plain": [
              "   Clothing ID  Age  ... AgeGroup  Perception\n",
              "0          767   33  ...    18-33    Positive\n",
              "1         1080   34  ...    34-39    Positive\n",
              "2         1077   60  ...    55-99    Negative\n",
              "3         1049   50  ...    46-54    Positive\n",
              "4          847   47  ...    46-54    Positive\n",
              "\n",
              "[5 rows x 11 columns]"
            ]
          },
          "metadata": {
            "tags": []
          },
          "execution_count": 35
        }
      ]
    },
    {
      "cell_type": "code",
      "metadata": {
        "id": "NQAA48hrKPAT"
      },
      "source": [
        "import re\n",
        "import nltk"
      ],
      "execution_count": 36,
      "outputs": []
    },
    {
      "cell_type": "code",
      "metadata": {
        "colab": {
          "base_uri": "https://localhost:8080/"
        },
        "id": "bipBPES5ZRyY",
        "outputId": "a2806df2-f030-4393-9374-058c51e0589f"
      },
      "source": [
        "#downloading stopwords\n",
        "nltk.download('stopwords')"
      ],
      "execution_count": 37,
      "outputs": [
        {
          "output_type": "stream",
          "text": [
            "[nltk_data] Downloading package stopwords to /root/nltk_data...\n",
            "[nltk_data]   Unzipping corpora/stopwords.zip.\n"
          ],
          "name": "stdout"
        },
        {
          "output_type": "execute_result",
          "data": {
            "text/plain": [
              "True"
            ]
          },
          "metadata": {
            "tags": []
          },
          "execution_count": 37
        }
      ]
    },
    {
      "cell_type": "code",
      "metadata": {
        "colab": {
          "base_uri": "https://localhost:8080/"
        },
        "id": "e0mlGuvrZoQm",
        "outputId": "36146adf-3847-455e-dca0-31ef2e42defb"
      },
      "source": [
        "#removing stopwords\n",
        "from nltk.corpus import stopwords\n",
        "stop_words = stopwords.words('english')\n",
        "print(stop_words)"
      ],
      "execution_count": 38,
      "outputs": [
        {
          "output_type": "stream",
          "text": [
            "['i', 'me', 'my', 'myself', 'we', 'our', 'ours', 'ourselves', 'you', \"you're\", \"you've\", \"you'll\", \"you'd\", 'your', 'yours', 'yourself', 'yourselves', 'he', 'him', 'his', 'himself', 'she', \"she's\", 'her', 'hers', 'herself', 'it', \"it's\", 'its', 'itself', 'they', 'them', 'their', 'theirs', 'themselves', 'what', 'which', 'who', 'whom', 'this', 'that', \"that'll\", 'these', 'those', 'am', 'is', 'are', 'was', 'were', 'be', 'been', 'being', 'have', 'has', 'had', 'having', 'do', 'does', 'did', 'doing', 'a', 'an', 'the', 'and', 'but', 'if', 'or', 'because', 'as', 'until', 'while', 'of', 'at', 'by', 'for', 'with', 'about', 'against', 'between', 'into', 'through', 'during', 'before', 'after', 'above', 'below', 'to', 'from', 'up', 'down', 'in', 'out', 'on', 'off', 'over', 'under', 'again', 'further', 'then', 'once', 'here', 'there', 'when', 'where', 'why', 'how', 'all', 'any', 'both', 'each', 'few', 'more', 'most', 'other', 'some', 'such', 'no', 'nor', 'not', 'only', 'own', 'same', 'so', 'than', 'too', 'very', 's', 't', 'can', 'will', 'just', 'don', \"don't\", 'should', \"should've\", 'now', 'd', 'll', 'm', 'o', 're', 've', 'y', 'ain', 'aren', \"aren't\", 'couldn', \"couldn't\", 'didn', \"didn't\", 'doesn', \"doesn't\", 'hadn', \"hadn't\", 'hasn', \"hasn't\", 'haven', \"haven't\", 'isn', \"isn't\", 'ma', 'mightn', \"mightn't\", 'mustn', \"mustn't\", 'needn', \"needn't\", 'shan', \"shan't\", 'shouldn', \"shouldn't\", 'wasn', \"wasn't\", 'weren', \"weren't\", 'won', \"won't\", 'wouldn', \"wouldn't\"]\n"
          ],
          "name": "stdout"
        }
      ]
    },
    {
      "cell_type": "code",
      "metadata": {
        "id": "nLCTheUheWGy"
      },
      "source": [
        "#create a new column for the cleaned reviews - convert the reviewes into lower caps text\n",
        "df['CleanedReviews'] = df['Review'].str.lower()"
      ],
      "execution_count": 39,
      "outputs": []
    },
    {
      "cell_type": "code",
      "metadata": {
        "colab": {
          "base_uri": "https://localhost:8080/"
        },
        "id": "DMIpbOCZIqCX",
        "outputId": "4ead3f12-cf76-4233-e2ec-6c89dbe0cc0f"
      },
      "source": [
        "df['CleanedReviews']"
      ],
      "execution_count": 40,
      "outputs": [
        {
          "output_type": "execute_result",
          "data": {
            "text/plain": [
              "0        absolutely wonderful - silky and sexy and comf...\n",
              "1        love this dress!  it's sooo pretty.  i happene...\n",
              "2        i had such high hopes for this dress and reall...\n",
              "3        i love, love, love this jumpsuit. it's fun, fl...\n",
              "4        this shirt is very flattering to all due to th...\n",
              "                               ...                        \n",
              "23481    i was very happy to snag this dress at such a ...\n",
              "23482    it reminds me of maternity clothes. soft, stre...\n",
              "23483    this fit well, but the top was very see throug...\n",
              "23484    i bought this dress for a wedding i have this ...\n",
              "23485    this dress in a lovely platinum is feminine an...\n",
              "Name: CleanedReviews, Length: 22628, dtype: object"
            ]
          },
          "metadata": {
            "tags": []
          },
          "execution_count": 40
        }
      ]
    },
    {
      "cell_type": "code",
      "metadata": {
        "id": "DOvfHgfr4I7K"
      },
      "source": [
        "# Replace non-alphanumeric with blank\n",
        "# if \"^\" is inside the bracket, it means that a character NOT in (regex expression)\n",
        "#0-9 matches a single character in the range between 0 (index 48) and 9 (index 57) (case sensitive)\n",
        "#a-z matches a single character in the range between a (index 97) and z (index 122) (case sensitive)\n",
        "#A-Z matches a single character in the range between A (index 65) and Z (index 90) (case sensitive)\n",
        "\n",
        "df['CleanedReviews'] = df['CleanedReviews'].str.replace('[^0-9a-zA-Z]', \" \")"
      ],
      "execution_count": 41,
      "outputs": []
    },
    {
      "cell_type": "code",
      "metadata": {
        "id": "dza5gOviQ7oz"
      },
      "source": [
        "#Remove duplicate words in the cleaned reviews\n",
        "#Example: Retain one \"love\" in this sentence: love love love jumpsuit fun flirty\n",
        "# OrderedDict = Return an instance of a dict subclass that has methods specialized for rearranging dictionary order.\n",
        "from collections import OrderedDict\n",
        "\n",
        "df['CleanedReviews'] = (df['CleanedReviews'].str.split().apply(lambda x: OrderedDict.fromkeys(x).keys()).str.join(' '))"
      ],
      "execution_count": 42,
      "outputs": []
    },
    {
      "cell_type": "code",
      "metadata": {
        "id": "MIgXIIPJJbtf"
      },
      "source": [
        "#removing stopwords from text\n",
        "def remove_stopwords(reviews):\n",
        "  #split the sentence with space\n",
        "  sentencesplit = reviews.split(' ')\n",
        "  #joining all words with  \" \" that are not within stop words as one continous sentence\n",
        "  clean_text = \" \".join([text for text in sentencesplit if text not in stop_words])\n",
        "  return clean_text"
      ],
      "execution_count": 43,
      "outputs": []
    },
    {
      "cell_type": "code",
      "metadata": {
        "id": "upTeiAtz_NcY"
      },
      "source": [
        "#applying the remove_stopword function into the reviews\n",
        "df['CleanedReviews'] = df['CleanedReviews'].apply(remove_stopwords)"
      ],
      "execution_count": 44,
      "outputs": []
    },
    {
      "cell_type": "code",
      "metadata": {
        "colab": {
          "base_uri": "https://localhost:8080/",
          "height": 310
        },
        "id": "Hj_jPgT3DeQe",
        "outputId": "8fe0c85d-eec9-4d2f-c5d8-5ed78dfdb375"
      },
      "source": [
        "df.head()"
      ],
      "execution_count": 45,
      "outputs": [
        {
          "output_type": "execute_result",
          "data": {
            "text/html": [
              "<div>\n",
              "<style scoped>\n",
              "    .dataframe tbody tr th:only-of-type {\n",
              "        vertical-align: middle;\n",
              "    }\n",
              "\n",
              "    .dataframe tbody tr th {\n",
              "        vertical-align: top;\n",
              "    }\n",
              "\n",
              "    .dataframe thead th {\n",
              "        text-align: right;\n",
              "    }\n",
              "</style>\n",
              "<table border=\"1\" class=\"dataframe\">\n",
              "  <thead>\n",
              "    <tr style=\"text-align: right;\">\n",
              "      <th></th>\n",
              "      <th>Clothing ID</th>\n",
              "      <th>Age</th>\n",
              "      <th>Review</th>\n",
              "      <th>Rating</th>\n",
              "      <th>Recommended?</th>\n",
              "      <th>Positive Feedback Count</th>\n",
              "      <th>Division</th>\n",
              "      <th>Department</th>\n",
              "      <th>Style</th>\n",
              "      <th>AgeGroup</th>\n",
              "      <th>Perception</th>\n",
              "      <th>CleanedReviews</th>\n",
              "    </tr>\n",
              "  </thead>\n",
              "  <tbody>\n",
              "    <tr>\n",
              "      <th>0</th>\n",
              "      <td>767</td>\n",
              "      <td>33</td>\n",
              "      <td>Absolutely wonderful - silky and sexy and comf...</td>\n",
              "      <td>4</td>\n",
              "      <td>1</td>\n",
              "      <td>0</td>\n",
              "      <td>Initmates</td>\n",
              "      <td>Intimate</td>\n",
              "      <td>Intimates</td>\n",
              "      <td>18-33</td>\n",
              "      <td>Positive</td>\n",
              "      <td>absolutely wonderful silky sexy comfortable</td>\n",
              "    </tr>\n",
              "    <tr>\n",
              "      <th>1</th>\n",
              "      <td>1080</td>\n",
              "      <td>34</td>\n",
              "      <td>Love this dress!  it's sooo pretty.  i happene...</td>\n",
              "      <td>5</td>\n",
              "      <td>1</td>\n",
              "      <td>4</td>\n",
              "      <td>General</td>\n",
              "      <td>Dresses</td>\n",
              "      <td>Dresses</td>\n",
              "      <td>34-39</td>\n",
              "      <td>Positive</td>\n",
              "      <td>love dress sooo pretty happened find store gla...</td>\n",
              "    </tr>\n",
              "    <tr>\n",
              "      <th>2</th>\n",
              "      <td>1077</td>\n",
              "      <td>60</td>\n",
              "      <td>I had such high hopes for this dress and reall...</td>\n",
              "      <td>3</td>\n",
              "      <td>0</td>\n",
              "      <td>0</td>\n",
              "      <td>General</td>\n",
              "      <td>Dresses</td>\n",
              "      <td>Dresses</td>\n",
              "      <td>55-99</td>\n",
              "      <td>Negative</td>\n",
              "      <td>high hopes dress really wanted work initially ...</td>\n",
              "    </tr>\n",
              "    <tr>\n",
              "      <th>3</th>\n",
              "      <td>1049</td>\n",
              "      <td>50</td>\n",
              "      <td>I love, love, love this jumpsuit. it's fun, fl...</td>\n",
              "      <td>5</td>\n",
              "      <td>1</td>\n",
              "      <td>0</td>\n",
              "      <td>General Petite</td>\n",
              "      <td>Bottoms</td>\n",
              "      <td>Pants</td>\n",
              "      <td>46-54</td>\n",
              "      <td>Positive</td>\n",
              "      <td>love jumpsuit fun flirty fabulous every time w...</td>\n",
              "    </tr>\n",
              "    <tr>\n",
              "      <th>4</th>\n",
              "      <td>847</td>\n",
              "      <td>47</td>\n",
              "      <td>This shirt is very flattering to all due to th...</td>\n",
              "      <td>5</td>\n",
              "      <td>1</td>\n",
              "      <td>6</td>\n",
              "      <td>General</td>\n",
              "      <td>Tops</td>\n",
              "      <td>Blouses</td>\n",
              "      <td>46-54</td>\n",
              "      <td>Positive</td>\n",
              "      <td>shirt flattering due adjustable front tie perf...</td>\n",
              "    </tr>\n",
              "  </tbody>\n",
              "</table>\n",
              "</div>"
            ],
            "text/plain": [
              "   Clothing ID  ...                                     CleanedReviews\n",
              "0          767  ...        absolutely wonderful silky sexy comfortable\n",
              "1         1080  ...  love dress sooo pretty happened find store gla...\n",
              "2         1077  ...  high hopes dress really wanted work initially ...\n",
              "3         1049  ...  love jumpsuit fun flirty fabulous every time w...\n",
              "4          847  ...  shirt flattering due adjustable front tie perf...\n",
              "\n",
              "[5 rows x 12 columns]"
            ]
          },
          "metadata": {
            "tags": []
          },
          "execution_count": 45
        }
      ]
    },
    {
      "cell_type": "markdown",
      "metadata": {
        "id": "O2cA52kESeTD"
      },
      "source": [
        "## Positive WORDCLOUDS"
      ]
    },
    {
      "cell_type": "markdown",
      "metadata": {
        "id": "Wo7jFyTaXxTC"
      },
      "source": [
        "- width : int (default=400) = Width of the canvas.\n",
        "- height : int (default=200) = Height of the canvas.\n",
        "- min_font_size : int (default=4) = Smallest font size to use. \n",
        "- max_words : number (default=200) = The maximum number of words.\n",
        "- stopwords : set of strings or None = The words that will be eliminated. If None, the build-in STOPWORDS list will be used.\n",
        "\n",
        "Resources: https://www.datacamp.com/community/tutorials/wordcloud-python"
      ]
    },
    {
      "cell_type": "code",
      "metadata": {
        "colab": {
          "base_uri": "https://localhost:8080/",
          "height": 206
        },
        "id": "xQpmvv7qAc2a",
        "outputId": "7b727f3f-5386-442e-fb6b-ef32ad7403b7"
      },
      "source": [
        "positive = df.loc[df.Perception == \"Positive\", 'CleanedReviews']\n",
        "positive = pd.DataFrame(positive)\n",
        "positive.head()"
      ],
      "execution_count": 46,
      "outputs": [
        {
          "output_type": "execute_result",
          "data": {
            "text/html": [
              "<div>\n",
              "<style scoped>\n",
              "    .dataframe tbody tr th:only-of-type {\n",
              "        vertical-align: middle;\n",
              "    }\n",
              "\n",
              "    .dataframe tbody tr th {\n",
              "        vertical-align: top;\n",
              "    }\n",
              "\n",
              "    .dataframe thead th {\n",
              "        text-align: right;\n",
              "    }\n",
              "</style>\n",
              "<table border=\"1\" class=\"dataframe\">\n",
              "  <thead>\n",
              "    <tr style=\"text-align: right;\">\n",
              "      <th></th>\n",
              "      <th>CleanedReviews</th>\n",
              "    </tr>\n",
              "  </thead>\n",
              "  <tbody>\n",
              "    <tr>\n",
              "      <th>0</th>\n",
              "      <td>absolutely wonderful silky sexy comfortable</td>\n",
              "    </tr>\n",
              "    <tr>\n",
              "      <th>1</th>\n",
              "      <td>love dress sooo pretty happened find store gla...</td>\n",
              "    </tr>\n",
              "    <tr>\n",
              "      <th>3</th>\n",
              "      <td>love jumpsuit fun flirty fabulous every time w...</td>\n",
              "    </tr>\n",
              "    <tr>\n",
              "      <th>4</th>\n",
              "      <td>shirt flattering due adjustable front tie perf...</td>\n",
              "    </tr>\n",
              "    <tr>\n",
              "      <th>6</th>\n",
              "      <td>aded basket hte last mintue see would look lik...</td>\n",
              "    </tr>\n",
              "  </tbody>\n",
              "</table>\n",
              "</div>"
            ],
            "text/plain": [
              "                                      CleanedReviews\n",
              "0        absolutely wonderful silky sexy comfortable\n",
              "1  love dress sooo pretty happened find store gla...\n",
              "3  love jumpsuit fun flirty fabulous every time w...\n",
              "4  shirt flattering due adjustable front tie perf...\n",
              "6  aded basket hte last mintue see would look lik..."
            ]
          },
          "metadata": {
            "tags": []
          },
          "execution_count": 46
        }
      ]
    },
    {
      "cell_type": "code",
      "metadata": {
        "colab": {
          "base_uri": "https://localhost:8080/"
        },
        "id": "fEANhD3aZovl",
        "outputId": "d6472131-24fd-4bc8-fe5e-80267813b93f"
      },
      "source": [
        "#calculate the most_common words in \n",
        "#join all the sentences from all rows with a space and split it word by word\n",
        "from collections import Counter\n",
        "Counter(\" \".join(positive['CleanedReviews']).split()).most_common(15)"
      ],
      "execution_count": 47,
      "outputs": [
        {
          "output_type": "execute_result",
          "data": {
            "text/plain": [
              "[('love', 6369),\n",
              " ('size', 5309),\n",
              " ('fit', 4794),\n",
              " ('dress', 4750),\n",
              " ('wear', 4633),\n",
              " ('great', 4562),\n",
              " ('like', 4060),\n",
              " ('top', 3985),\n",
              " ('5', 3849),\n",
              " ('color', 3206),\n",
              " ('perfect', 3139),\n",
              " ('would', 2912),\n",
              " ('fabric', 2894),\n",
              " ('little', 2816),\n",
              " ('flattering', 2798)]"
            ]
          },
          "metadata": {
            "tags": []
          },
          "execution_count": 47
        }
      ]
    },
    {
      "cell_type": "markdown",
      "metadata": {
        "id": "2jKfbLarPDnZ"
      },
      "source": [
        "Insight: Customers love their tops and dresses because those products have great fit, flattering colors, and great fabrics. These reviews summarize the overall positive perceptions of the product lines. "
      ]
    },
    {
      "cell_type": "code",
      "metadata": {
        "colab": {
          "base_uri": "https://localhost:8080/",
          "height": 206
        },
        "id": "Fa1bygY7bz3x",
        "outputId": "17bc1f4b-610d-45d0-d3b1-3e7d94688744"
      },
      "source": [
        "#Building a histogram from positive counter\n",
        "positive_count = pd.DataFrame(Counter(\" \".join(positive['CleanedReviews']).split()).most_common(15))\n",
        "positive_count.columns = ['Words', 'Values']\n",
        "positive_count.head()"
      ],
      "execution_count": 48,
      "outputs": [
        {
          "output_type": "execute_result",
          "data": {
            "text/html": [
              "<div>\n",
              "<style scoped>\n",
              "    .dataframe tbody tr th:only-of-type {\n",
              "        vertical-align: middle;\n",
              "    }\n",
              "\n",
              "    .dataframe tbody tr th {\n",
              "        vertical-align: top;\n",
              "    }\n",
              "\n",
              "    .dataframe thead th {\n",
              "        text-align: right;\n",
              "    }\n",
              "</style>\n",
              "<table border=\"1\" class=\"dataframe\">\n",
              "  <thead>\n",
              "    <tr style=\"text-align: right;\">\n",
              "      <th></th>\n",
              "      <th>Words</th>\n",
              "      <th>Values</th>\n",
              "    </tr>\n",
              "  </thead>\n",
              "  <tbody>\n",
              "    <tr>\n",
              "      <th>0</th>\n",
              "      <td>love</td>\n",
              "      <td>6369</td>\n",
              "    </tr>\n",
              "    <tr>\n",
              "      <th>1</th>\n",
              "      <td>size</td>\n",
              "      <td>5309</td>\n",
              "    </tr>\n",
              "    <tr>\n",
              "      <th>2</th>\n",
              "      <td>fit</td>\n",
              "      <td>4794</td>\n",
              "    </tr>\n",
              "    <tr>\n",
              "      <th>3</th>\n",
              "      <td>dress</td>\n",
              "      <td>4750</td>\n",
              "    </tr>\n",
              "    <tr>\n",
              "      <th>4</th>\n",
              "      <td>wear</td>\n",
              "      <td>4633</td>\n",
              "    </tr>\n",
              "  </tbody>\n",
              "</table>\n",
              "</div>"
            ],
            "text/plain": [
              "   Words  Values\n",
              "0   love    6369\n",
              "1   size    5309\n",
              "2    fit    4794\n",
              "3  dress    4750\n",
              "4   wear    4633"
            ]
          },
          "metadata": {
            "tags": []
          },
          "execution_count": 48
        }
      ]
    },
    {
      "cell_type": "code",
      "metadata": {
        "colab": {
          "base_uri": "https://localhost:8080/",
          "height": 485
        },
        "id": "-GQM8Tuqe-eR",
        "outputId": "69e2af9d-5dae-4160-e6a5-d4da05a6482c"
      },
      "source": [
        "#Plotting a graph for the most common words\n",
        "plt.figure(figsize=(10,6))\n",
        "plt.bar(positive_count.Words, positive_count.Values, color = 'DarkSlateBlue', label = '# of words')\n",
        "plt.title('The Most Common Words in Positive Reviews')\n",
        "plt.xlabel('Common Words')\n",
        "plt.ylabel('Values')\n",
        "plt.xticks(rotation = 90)\n",
        "plt.legend()\n",
        "plt.show()"
      ],
      "execution_count": 49,
      "outputs": [
        {
          "output_type": "display_data",
          "data": {
            "image/png": "[encoded data removed]",
            "text/plain": [
              "<Figure size 720x432 with 1 Axes>"
            ]
          },
          "metadata": {
            "tags": []
          }
        }
      ]
    },
    {
      "cell_type": "code",
      "metadata": {
        "id": "EC8RMkYB_gtr"
      },
      "source": [
        "from wordcloud import WordCloud\n",
        "from wordcloud import STOPWORDS"
      ],
      "execution_count": 50,
      "outputs": []
    },
    {
      "cell_type": "code",
      "metadata": {
        "id": "Z3-yL9BW_kW8",
        "colab": {
          "base_uri": "https://localhost:8080/",
          "height": 279
        },
        "outputId": "aa5ed531-f7da-407e-edc8-b59b6e88d1ec"
      },
      "source": [
        "pos_text = ' '.join(positive['CleanedReviews'])\n",
        "\n",
        "#adding more stop words\n",
        "additional_stop_words = [\"sooo\", \"https\", \"co\", \"RT\", 'aren', 'couldn', 'didn', 'doesn', 'don', 'hadn', 'hasn', 'haven', 'isn', \n",
        "                         'let', 'll', 'mustn', 're', 'rt', 'shan', 'shouldn', 've', 'wasn', 'weren', 'won', 'wouldn'] + list(stop_words)\n",
        "\n",
        "positive_cloud = WordCloud(background_color='black', stopwords=additional_stop_words,  width=2000, height= 1500, max_words=15, colormap=\"twilight\").generate(pos_text)\n",
        "plt.imshow(positive_cloud, interpolation='bilinear')\n",
        "plt.axis('off')\n",
        "plt.title(\"Positive Reviews\", y = 1.05)\n",
        "plt.show()\n"
      ],
      "execution_count": 51,
      "outputs": [
        {
          "output_type": "display_data",
          "data": {
            "image/png": "[encoded data removed]",
            "text/plain": [
              "<Figure size 432x288 with 1 Axes>"
            ]
          },
          "metadata": {
            "tags": []
          }
        }
      ]
    },
    {
      "cell_type": "markdown",
      "metadata": {
        "id": "Td2paGKWhjTm"
      },
      "source": [
        "## Negative WORDCLOUDS"
      ]
    },
    {
      "cell_type": "markdown",
      "metadata": {
        "id": "bMPugxbbhjTm"
      },
      "source": [
        "- width : int (default=400) = Width of the canvas.\n",
        "- height : int (default=200) = Height of the canvas.\n",
        "- min_font_size : int (default=4) = Smallest font size to use. \n",
        "- max_words : number (default=200) = The maximum number of words.\n",
        "- stopwords : set of strings or None = The words that will be eliminated. If None, the build-in STOPWORDS list will be used.\n",
        "\n",
        "Resources: https://www.datacamp.com/community/tutorials/wordcloud-python"
      ]
    },
    {
      "cell_type": "code",
      "metadata": {
        "colab": {
          "base_uri": "https://localhost:8080/",
          "height": 206
        },
        "id": "zz0FRiolhjTm",
        "outputId": "d4eccb98-72cb-4bca-db05-09069447ee33"
      },
      "source": [
        "negative = df.loc[df.Perception == \"Negative\", 'CleanedReviews']\n",
        "negative = pd.DataFrame(negative)\n",
        "negative.head()"
      ],
      "execution_count": 52,
      "outputs": [
        {
          "output_type": "execute_result",
          "data": {
            "text/html": [
              "<div>\n",
              "<style scoped>\n",
              "    .dataframe tbody tr th:only-of-type {\n",
              "        vertical-align: middle;\n",
              "    }\n",
              "\n",
              "    .dataframe tbody tr th {\n",
              "        vertical-align: top;\n",
              "    }\n",
              "\n",
              "    .dataframe thead th {\n",
              "        text-align: right;\n",
              "    }\n",
              "</style>\n",
              "<table border=\"1\" class=\"dataframe\">\n",
              "  <thead>\n",
              "    <tr style=\"text-align: right;\">\n",
              "      <th></th>\n",
              "      <th>CleanedReviews</th>\n",
              "    </tr>\n",
              "  </thead>\n",
              "  <tbody>\n",
              "    <tr>\n",
              "      <th>2</th>\n",
              "      <td>high hopes dress really wanted work initially ...</td>\n",
              "    </tr>\n",
              "    <tr>\n",
              "      <th>5</th>\n",
              "      <td>love tracy reese dresses one petite 5 feet tal...</td>\n",
              "    </tr>\n",
              "    <tr>\n",
              "      <th>10</th>\n",
              "      <td>dress runs small esp zipper area ordered sp ty...</td>\n",
              "    </tr>\n",
              "    <tr>\n",
              "      <th>14</th>\n",
              "      <td>nice choice holiday gatherings like length gra...</td>\n",
              "    </tr>\n",
              "    <tr>\n",
              "      <th>16</th>\n",
              "      <td>material color nice leg opening large 5 1 100 ...</td>\n",
              "    </tr>\n",
              "  </tbody>\n",
              "</table>\n",
              "</div>"
            ],
            "text/plain": [
              "                                       CleanedReviews\n",
              "2   high hopes dress really wanted work initially ...\n",
              "5   love tracy reese dresses one petite 5 feet tal...\n",
              "10  dress runs small esp zipper area ordered sp ty...\n",
              "14  nice choice holiday gatherings like length gra...\n",
              "16  material color nice leg opening large 5 1 100 ..."
            ]
          },
          "metadata": {
            "tags": []
          },
          "execution_count": 52
        }
      ]
    },
    {
      "cell_type": "code",
      "metadata": {
        "colab": {
          "base_uri": "https://localhost:8080/"
        },
        "id": "hP7oAz7HhjTn",
        "outputId": "0a616205-59f8-463c-f6ea-f0585fcdc062"
      },
      "source": [
        "#calculate the most_common words in \n",
        "from collections import Counter\n",
        "Counter(\" \".join(negative['CleanedReviews']).split()).most_common(15)"
      ],
      "execution_count": 53,
      "outputs": [
        {
          "output_type": "execute_result",
          "data": {
            "text/plain": [
              "[('like', 1761),\n",
              " ('would', 1451),\n",
              " ('fit', 1405),\n",
              " ('top', 1338),\n",
              " ('dress', 1332),\n",
              " ('size', 1284),\n",
              " ('fabric', 1258),\n",
              " ('back', 1068),\n",
              " ('love', 1048),\n",
              " ('look', 1024),\n",
              " ('ordered', 999),\n",
              " ('small', 963),\n",
              " ('5', 961),\n",
              " ('really', 952),\n",
              " ('wear', 894)]"
            ]
          },
          "metadata": {
            "tags": []
          },
          "execution_count": 53
        }
      ]
    },
    {
      "cell_type": "markdown",
      "metadata": {
        "id": "PfhlShnmRjk-"
      },
      "source": [
        "Insight: Despite the positive reviews about the tops and the dresses, some customers would like these product lines to fit better especially on the size smalls. These dissatisfactions with the fit summarize the overall negative reviews of the product lines"
      ]
    },
    {
      "cell_type": "code",
      "metadata": {
        "colab": {
          "base_uri": "https://localhost:8080/",
          "height": 206
        },
        "id": "qWoj48lchjTo",
        "outputId": "33ed549c-0f9a-41e4-bd6f-0de1f050b1f4"
      },
      "source": [
        "#Building a histogram from positive counter\n",
        "negative_count = pd.DataFrame(Counter(\" \".join(negative['CleanedReviews']).split()).most_common(15))\n",
        "negative_count.columns = ['Words', 'Values']\n",
        "negative_count.head()"
      ],
      "execution_count": 54,
      "outputs": [
        {
          "output_type": "execute_result",
          "data": {
            "text/html": [
              "<div>\n",
              "<style scoped>\n",
              "    .dataframe tbody tr th:only-of-type {\n",
              "        vertical-align: middle;\n",
              "    }\n",
              "\n",
              "    .dataframe tbody tr th {\n",
              "        vertical-align: top;\n",
              "    }\n",
              "\n",
              "    .dataframe thead th {\n",
              "        text-align: right;\n",
              "    }\n",
              "</style>\n",
              "<table border=\"1\" class=\"dataframe\">\n",
              "  <thead>\n",
              "    <tr style=\"text-align: right;\">\n",
              "      <th></th>\n",
              "      <th>Words</th>\n",
              "      <th>Values</th>\n",
              "    </tr>\n",
              "  </thead>\n",
              "  <tbody>\n",
              "    <tr>\n",
              "      <th>0</th>\n",
              "      <td>like</td>\n",
              "      <td>1761</td>\n",
              "    </tr>\n",
              "    <tr>\n",
              "      <th>1</th>\n",
              "      <td>would</td>\n",
              "      <td>1451</td>\n",
              "    </tr>\n",
              "    <tr>\n",
              "      <th>2</th>\n",
              "      <td>fit</td>\n",
              "      <td>1405</td>\n",
              "    </tr>\n",
              "    <tr>\n",
              "      <th>3</th>\n",
              "      <td>top</td>\n",
              "      <td>1338</td>\n",
              "    </tr>\n",
              "    <tr>\n",
              "      <th>4</th>\n",
              "      <td>dress</td>\n",
              "      <td>1332</td>\n",
              "    </tr>\n",
              "  </tbody>\n",
              "</table>\n",
              "</div>"
            ],
            "text/plain": [
              "   Words  Values\n",
              "0   like    1761\n",
              "1  would    1451\n",
              "2    fit    1405\n",
              "3    top    1338\n",
              "4  dress    1332"
            ]
          },
          "metadata": {
            "tags": []
          },
          "execution_count": 54
        }
      ]
    },
    {
      "cell_type": "code",
      "metadata": {
        "colab": {
          "base_uri": "https://localhost:8080/",
          "height": 485
        },
        "id": "DatNwr91hjTo",
        "outputId": "54bbc238-07f9-4748-92eb-58a679af4f69"
      },
      "source": [
        "#Plotting a graph for the most common words\n",
        "plt.figure(figsize=(10,6))\n",
        "plt.bar(positive_count.Words, positive_count.Values, color = '#721C43', label = '# of words')\n",
        "plt.title('The Most Common Words in Negative Reviews')\n",
        "plt.xlabel('Common Words')\n",
        "plt.ylabel('Values')\n",
        "plt.xticks(rotation = 90)\n",
        "plt.legend()\n",
        "plt.show()"
      ],
      "execution_count": 55,
      "outputs": [
        {
          "output_type": "display_data",
          "data": {
            "image/png": "[encoded data removed]",
            "text/plain": [
              "<Figure size 720x432 with 1 Axes>"
            ]
          },
          "metadata": {
            "tags": []
          }
        }
      ]
    },
    {
      "cell_type": "code",
      "metadata": {
        "id": "Wn938zvBhjTp"
      },
      "source": [
        "from wordcloud import WordCloud\n",
        "from wordcloud import STOPWORDS"
      ],
      "execution_count": 56,
      "outputs": []
    },
    {
      "cell_type": "code",
      "metadata": {
        "colab": {
          "base_uri": "https://localhost:8080/",
          "height": 279
        },
        "id": "WSFC2vG8hjTp",
        "outputId": "6ff6615d-9c75-486d-ae64-4e38e66c5a5c"
      },
      "source": [
        "neg_text = ' '.join(negative['CleanedReviews'])\n",
        "\n",
        "#adding more stop words\n",
        "additional_stop_words = [\"sooo\", \"https\", \"co\", \"RT\", 'aren', 'couldn', 'didn', 'doesn', 'don', 'hadn', 'hasn', 'haven', 'isn', \n",
        "                         'let', 'll', 'mustn', 're', 'rt', 'shan', 'shouldn', 've', 'wasn', 'weren', 'won', 'wouldn', 'love', 'like', '5',\n",
        "                         'perfect'] + list(stop_words)\n",
        "\n",
        "negative_cloud = WordCloud(background_color='black', stopwords=additional_stop_words,  width=2000, height= 1500, max_words=15, colormap=\"twilight\").generate(pos_text)\n",
        "plt.imshow(negative_cloud, interpolation='bilinear')\n",
        "plt.axis('off')\n",
        "plt.title(\"Negative Reviews\", y = 1.05)\n",
        "plt.show()\n"
      ],
      "execution_count": 57,
      "outputs": [
        {
          "output_type": "display_data",
          "data": {
            "image/png": "[encoded data removed]",
            "text/plain": [
              "<Figure size 432x288 with 1 Axes>"
            ]
          },
          "metadata": {
            "tags": []
          }
        }
      ]
    },
    {
      "cell_type": "markdown",
      "metadata": {
        "id": "h9Ce4Wtwxn6Q"
      },
      "source": [
        "# Evaluating the Model Prior to Building a Recommendation Model"
      ]
    },
    {
      "cell_type": "code",
      "metadata": {
        "id": "tYyOJIKyzk9X"
      },
      "source": [
        "from sklearn import metrics\n",
        "from sklearn.metrics import accuracy_score\n",
        "from sklearn.metrics import classification_report\n",
        "from sklearn.metrics import confusion_matrix\n",
        "from sklearn.metrics import f1_score\n",
        "from sklearn.metrics import precision_score\n",
        "from sklearn.metrics import recall_score\n",
        "from sklearn.metrics import roc_auc_score\n",
        "from sklearn.metrics import roc_curve\n",
        "from sklearn.ensemble import RandomForestClassifier, AdaBoostClassifier, GradientBoostingClassifier"
      ],
      "execution_count": 58,
      "outputs": []
    },
    {
      "cell_type": "code",
      "metadata": {
        "colab": {
          "base_uri": "https://localhost:8080/",
          "height": 310
        },
        "id": "n9kjLchui3G_",
        "outputId": "3d9d9cf6-04b8-45fb-b8d5-cb865a5cc639"
      },
      "source": [
        "df.head()"
      ],
      "execution_count": 59,
      "outputs": [
        {
          "output_type": "execute_result",
          "data": {
            "text/html": [
              "<div>\n",
              "<style scoped>\n",
              "    .dataframe tbody tr th:only-of-type {\n",
              "        vertical-align: middle;\n",
              "    }\n",
              "\n",
              "    .dataframe tbody tr th {\n",
              "        vertical-align: top;\n",
              "    }\n",
              "\n",
              "    .dataframe thead th {\n",
              "        text-align: right;\n",
              "    }\n",
              "</style>\n",
              "<table border=\"1\" class=\"dataframe\">\n",
              "  <thead>\n",
              "    <tr style=\"text-align: right;\">\n",
              "      <th></th>\n",
              "      <th>Clothing ID</th>\n",
              "      <th>Age</th>\n",
              "      <th>Review</th>\n",
              "      <th>Rating</th>\n",
              "      <th>Recommended?</th>\n",
              "      <th>Positive Feedback Count</th>\n",
              "      <th>Division</th>\n",
              "      <th>Department</th>\n",
              "      <th>Style</th>\n",
              "      <th>AgeGroup</th>\n",
              "      <th>Perception</th>\n",
              "      <th>CleanedReviews</th>\n",
              "    </tr>\n",
              "  </thead>\n",
              "  <tbody>\n",
              "    <tr>\n",
              "      <th>0</th>\n",
              "      <td>767</td>\n",
              "      <td>33</td>\n",
              "      <td>Absolutely wonderful - silky and sexy and comf...</td>\n",
              "      <td>4</td>\n",
              "      <td>1</td>\n",
              "      <td>0</td>\n",
              "      <td>Initmates</td>\n",
              "      <td>Intimate</td>\n",
              "      <td>Intimates</td>\n",
              "      <td>18-33</td>\n",
              "      <td>Positive</td>\n",
              "      <td>absolutely wonderful silky sexy comfortable</td>\n",
              "    </tr>\n",
              "    <tr>\n",
              "      <th>1</th>\n",
              "      <td>1080</td>\n",
              "      <td>34</td>\n",
              "      <td>Love this dress!  it's sooo pretty.  i happene...</td>\n",
              "      <td>5</td>\n",
              "      <td>1</td>\n",
              "      <td>4</td>\n",
              "      <td>General</td>\n",
              "      <td>Dresses</td>\n",
              "      <td>Dresses</td>\n",
              "      <td>34-39</td>\n",
              "      <td>Positive</td>\n",
              "      <td>love dress sooo pretty happened find store gla...</td>\n",
              "    </tr>\n",
              "    <tr>\n",
              "      <th>2</th>\n",
              "      <td>1077</td>\n",
              "      <td>60</td>\n",
              "      <td>I had such high hopes for this dress and reall...</td>\n",
              "      <td>3</td>\n",
              "      <td>0</td>\n",
              "      <td>0</td>\n",
              "      <td>General</td>\n",
              "      <td>Dresses</td>\n",
              "      <td>Dresses</td>\n",
              "      <td>55-99</td>\n",
              "      <td>Negative</td>\n",
              "      <td>high hopes dress really wanted work initially ...</td>\n",
              "    </tr>\n",
              "    <tr>\n",
              "      <th>3</th>\n",
              "      <td>1049</td>\n",
              "      <td>50</td>\n",
              "      <td>I love, love, love this jumpsuit. it's fun, fl...</td>\n",
              "      <td>5</td>\n",
              "      <td>1</td>\n",
              "      <td>0</td>\n",
              "      <td>General Petite</td>\n",
              "      <td>Bottoms</td>\n",
              "      <td>Pants</td>\n",
              "      <td>46-54</td>\n",
              "      <td>Positive</td>\n",
              "      <td>love jumpsuit fun flirty fabulous every time w...</td>\n",
              "    </tr>\n",
              "    <tr>\n",
              "      <th>4</th>\n",
              "      <td>847</td>\n",
              "      <td>47</td>\n",
              "      <td>This shirt is very flattering to all due to th...</td>\n",
              "      <td>5</td>\n",
              "      <td>1</td>\n",
              "      <td>6</td>\n",
              "      <td>General</td>\n",
              "      <td>Tops</td>\n",
              "      <td>Blouses</td>\n",
              "      <td>46-54</td>\n",
              "      <td>Positive</td>\n",
              "      <td>shirt flattering due adjustable front tie perf...</td>\n",
              "    </tr>\n",
              "  </tbody>\n",
              "</table>\n",
              "</div>"
            ],
            "text/plain": [
              "   Clothing ID  ...                                     CleanedReviews\n",
              "0          767  ...        absolutely wonderful silky sexy comfortable\n",
              "1         1080  ...  love dress sooo pretty happened find store gla...\n",
              "2         1077  ...  high hopes dress really wanted work initially ...\n",
              "3         1049  ...  love jumpsuit fun flirty fabulous every time w...\n",
              "4          847  ...  shirt flattering due adjustable front tie perf...\n",
              "\n",
              "[5 rows x 12 columns]"
            ]
          },
          "metadata": {
            "tags": []
          },
          "execution_count": 59
        }
      ]
    },
    {
      "cell_type": "markdown",
      "metadata": {
        "id": "xSbw9_2vloXQ"
      },
      "source": [
        "Tokenization is essentially splitting a phrase, sentence, paragraph, or an entire text document into smaller units, such as individual words or terms. Each of these smaller units are called tokens.\n",
        "\n",
        "Tokenization is important to:\n",
        "- Count the number of words in the text\n",
        "- Count the frequency of the word, that is, the number of times a particular word is present\n",
        "\n",
        "- https://www.analyticsvidhya.com/blog/2019/07/how-get-started-nlp-6-unique-ways-perform-tokenization/"
      ]
    },
    {
      "cell_type": "markdown",
      "metadata": {
        "id": "UJWS7uXZmxSF"
      },
      "source": [
        "Making the bag of words via sparse matrix\n",
        "- take all the different words of reviews without any duplicate words\n",
        "- Rows = reviews"
      ]
    },
    {
      "cell_type": "code",
      "metadata": {
        "id": "CUd01tcjmojK"
      },
      "source": [
        "# Creating the Bag of Words model\n",
        "from sklearn.feature_extraction.text import CountVectorizer\n",
        "\n",
        "#Extract max 1500 features --> use 1500 most occurring words as features for training our classifier\n",
        "#converting reviews into values with sparse matrix\n",
        "countvectors = CountVectorizer(max_features = 1500)\n",
        "\n",
        "X = countvectors.fit_transform(df['CleanedReviews'])\n",
        "Y = df['Recommended?']"
      ],
      "execution_count": 60,
      "outputs": []
    },
    {
      "cell_type": "code",
      "metadata": {
        "id": "c0jv7St0mobG"
      },
      "source": [
        "#Split the model for test and train dataset\n",
        "from sklearn.model_selection import train_test_split\n",
        "\n",
        "# split into train test sets\n",
        "X_train, X_test, Y_train, Y_test = train_test_split(X, Y, test_size=0.3)"
      ],
      "execution_count": 61,
      "outputs": []
    },
    {
      "cell_type": "markdown",
      "metadata": {
        "id": "XKODiUHdxIJn"
      },
      "source": [
        "## Choosing Model: Random Forest Classfier"
      ]
    },
    {
      "cell_type": "code",
      "metadata": {
        "colab": {
          "base_uri": "https://localhost:8080/"
        },
        "id": "hN7lRxUtxMUR",
        "outputId": "7d1b6305-bb4d-4476-d105-5f1b645df133"
      },
      "source": [
        "# Fitting Random Forest Classification\n",
        "from sklearn.ensemble import RandomForestClassifier\n",
        "\n",
        "# to get better results \n",
        "model = RandomForestClassifier(n_estimators = 200,\n",
        "                            criterion = 'entropy')\n",
        "                              \n",
        "model.fit(X_train, Y_train)"
      ],
      "execution_count": 62,
      "outputs": [
        {
          "output_type": "execute_result",
          "data": {
            "text/plain": [
              "RandomForestClassifier(bootstrap=True, ccp_alpha=0.0, class_weight=None,\n",
              "                       criterion='entropy', max_depth=None, max_features='auto',\n",
              "                       max_leaf_nodes=None, max_samples=None,\n",
              "                       min_impurity_decrease=0.0, min_impurity_split=None,\n",
              "                       min_samples_leaf=1, min_samples_split=2,\n",
              "                       min_weight_fraction_leaf=0.0, n_estimators=200,\n",
              "                       n_jobs=None, oob_score=False, random_state=None,\n",
              "                       verbose=0, warm_start=False)"
            ]
          },
          "metadata": {
            "tags": []
          },
          "execution_count": 62
        }
      ]
    },
    {
      "cell_type": "code",
      "metadata": {
        "colab": {
          "base_uri": "https://localhost:8080/"
        },
        "id": "o-f26mCgxHQc",
        "outputId": "346c837c-36c1-4a6b-fae9-1edc22a3b036"
      },
      "source": [
        "#Predicting the model test result \n",
        "Y_pred = model.predict(X_test) \n",
        "Y_pred"
      ],
      "execution_count": 63,
      "outputs": [
        {
          "output_type": "execute_result",
          "data": {
            "text/plain": [
              "array([1, 1, 1, ..., 1, 1, 1])"
            ]
          },
          "metadata": {
            "tags": []
          },
          "execution_count": 63
        }
      ]
    },
    {
      "cell_type": "code",
      "metadata": {
        "colab": {
          "base_uri": "https://localhost:8080/",
          "height": 143
        },
        "id": "7z7AKiQCyy9q",
        "outputId": "a2d349f4-06cc-40ea-cc9b-5bbc1e4a46c3"
      },
      "source": [
        "#confusion_matrix with dataframe\n",
        "confusion_matrix = pd.crosstab(Y_test, Y_pred, rownames=['Actual'], colnames=['Predicted'])\n",
        "confusion_matrix"
      ],
      "execution_count": 64,
      "outputs": [
        {
          "output_type": "execute_result",
          "data": {
            "text/html": [
              "<div>\n",
              "<style scoped>\n",
              "    .dataframe tbody tr th:only-of-type {\n",
              "        vertical-align: middle;\n",
              "    }\n",
              "\n",
              "    .dataframe tbody tr th {\n",
              "        vertical-align: top;\n",
              "    }\n",
              "\n",
              "    .dataframe thead th {\n",
              "        text-align: right;\n",
              "    }\n",
              "</style>\n",
              "<table border=\"1\" class=\"dataframe\">\n",
              "  <thead>\n",
              "    <tr style=\"text-align: right;\">\n",
              "      <th>Predicted</th>\n",
              "      <th>0</th>\n",
              "      <th>1</th>\n",
              "    </tr>\n",
              "    <tr>\n",
              "      <th>Actual</th>\n",
              "      <th></th>\n",
              "      <th></th>\n",
              "    </tr>\n",
              "  </thead>\n",
              "  <tbody>\n",
              "    <tr>\n",
              "      <th>0</th>\n",
              "      <td>403</td>\n",
              "      <td>832</td>\n",
              "    </tr>\n",
              "    <tr>\n",
              "      <th>1</th>\n",
              "      <td>80</td>\n",
              "      <td>5474</td>\n",
              "    </tr>\n",
              "  </tbody>\n",
              "</table>\n",
              "</div>"
            ],
            "text/plain": [
              "Predicted    0     1\n",
              "Actual              \n",
              "0          403   832\n",
              "1           80  5474"
            ]
          },
          "metadata": {
            "tags": []
          },
          "execution_count": 64
        }
      ]
    },
    {
      "cell_type": "code",
      "metadata": {
        "colab": {
          "base_uri": "https://localhost:8080/",
          "height": 298
        },
        "id": "e188WJ7iyjS7",
        "outputId": "7e18e73b-18ef-47dd-f10f-334731ce321c"
      },
      "source": [
        "#Checking the accuracy score with confusion matrix\n",
        "#fmt = d -> interger\n",
        "#annot (annotation)-> to show value\n",
        "#annot_kws to show font size\n",
        "#cmap -> to change the color\n",
        "sns.heatmap(confusion_matrix, annot=True, cmap=\"twilight\", fmt= \"d\", annot_kws={\"size\": 15})\n",
        "plt.show()"
      ],
      "execution_count": 65,
      "outputs": [
        {
          "output_type": "display_data",
          "data": {
            "image/png": "[encoded data removed]",
            "text/plain": [
              "<Figure size 432x288 with 2 Axes>"
            ]
          },
          "metadata": {
            "tags": []
          }
        }
      ]
    },
    {
      "cell_type": "code",
      "metadata": {
        "colab": {
          "base_uri": "https://localhost:8080/"
        },
        "id": "OmZMHLtCza2r",
        "outputId": "3b1ce44b-323f-4d4b-e611-89415c65a539"
      },
      "source": [
        "print(metrics.classification_report(Y_test, Y_pred))"
      ],
      "execution_count": 66,
      "outputs": [
        {
          "output_type": "stream",
          "text": [
            "              precision    recall  f1-score   support\n",
            "\n",
            "           0       0.83      0.33      0.47      1235\n",
            "           1       0.87      0.99      0.92      5554\n",
            "\n",
            "    accuracy                           0.87      6789\n",
            "   macro avg       0.85      0.66      0.70      6789\n",
            "weighted avg       0.86      0.87      0.84      6789\n",
            "\n"
          ],
          "name": "stdout"
        }
      ]
    },
    {
      "cell_type": "code",
      "metadata": {
        "colab": {
          "base_uri": "https://localhost:8080/"
        },
        "id": "pX97N6Q6zynH",
        "outputId": "cc1d0192-d0b1-4090-e034-26d92ba767e9"
      },
      "source": [
        "accuracy_score(Y_test, Y_pred)"
      ],
      "execution_count": 67,
      "outputs": [
        {
          "output_type": "execute_result",
          "data": {
            "text/plain": [
              "0.865665046398586"
            ]
          },
          "metadata": {
            "tags": []
          },
          "execution_count": 67
        }
      ]
    },
    {
      "cell_type": "code",
      "metadata": {
        "colab": {
          "base_uri": "https://localhost:8080/"
        },
        "id": "tEJFMR_UbEMy",
        "outputId": "07ea5f90-e64b-4963-d427-72c2e5ce0ac7"
      },
      "source": [
        "recall_score(Y_test, Y_pred)"
      ],
      "execution_count": 73,
      "outputs": [
        {
          "output_type": "execute_result",
          "data": {
            "text/plain": [
              "0.9855959668707238"
            ]
          },
          "metadata": {
            "tags": []
          },
          "execution_count": 73
        }
      ]
    },
    {
      "cell_type": "markdown",
      "metadata": {
        "id": "uBV-hSF9576h"
      },
      "source": [
        "## Summarize and Compare Performance"
      ]
    },
    {
      "cell_type": "code",
      "metadata": {
        "colab": {
          "base_uri": "https://localhost:8080/",
          "height": 174
        },
        "id": "qhXlJVsu5_3d",
        "outputId": "0be49354-da92-44cb-8a52-6d975624c6ea"
      },
      "source": [
        "perf_df = pd.DataFrame(columns = ['Random Forest', 'Ada Boost', 'Gradient Boost'],  \n",
        "                   index = ['Accuracy', 'AUC', 'Recall', 'Precision']) \n",
        "\n",
        "perf_df"
      ],
      "execution_count": 78,
      "outputs": [
        {
          "output_type": "execute_result",
          "data": {
            "text/html": [
              "<div>\n",
              "<style scoped>\n",
              "    .dataframe tbody tr th:only-of-type {\n",
              "        vertical-align: middle;\n",
              "    }\n",
              "\n",
              "    .dataframe tbody tr th {\n",
              "        vertical-align: top;\n",
              "    }\n",
              "\n",
              "    .dataframe thead th {\n",
              "        text-align: right;\n",
              "    }\n",
              "</style>\n",
              "<table border=\"1\" class=\"dataframe\">\n",
              "  <thead>\n",
              "    <tr style=\"text-align: right;\">\n",
              "      <th></th>\n",
              "      <th>Random Forest</th>\n",
              "      <th>Ada Boost</th>\n",
              "      <th>Gradient Boost</th>\n",
              "    </tr>\n",
              "  </thead>\n",
              "  <tbody>\n",
              "    <tr>\n",
              "      <th>Accuracy</th>\n",
              "      <td>NaN</td>\n",
              "      <td>NaN</td>\n",
              "      <td>NaN</td>\n",
              "    </tr>\n",
              "    <tr>\n",
              "      <th>AUC</th>\n",
              "      <td>NaN</td>\n",
              "      <td>NaN</td>\n",
              "      <td>NaN</td>\n",
              "    </tr>\n",
              "    <tr>\n",
              "      <th>Recall</th>\n",
              "      <td>NaN</td>\n",
              "      <td>NaN</td>\n",
              "      <td>NaN</td>\n",
              "    </tr>\n",
              "    <tr>\n",
              "      <th>Precision</th>\n",
              "      <td>NaN</td>\n",
              "      <td>NaN</td>\n",
              "      <td>NaN</td>\n",
              "    </tr>\n",
              "  </tbody>\n",
              "</table>\n",
              "</div>"
            ],
            "text/plain": [
              "          Random Forest Ada Boost Gradient Boost\n",
              "Accuracy            NaN       NaN            NaN\n",
              "AUC                 NaN       NaN            NaN\n",
              "Recall              NaN       NaN            NaN\n",
              "Precision           NaN       NaN            NaN"
            ]
          },
          "metadata": {
            "tags": []
          },
          "execution_count": 78
        }
      ]
    },
    {
      "cell_type": "code",
      "metadata": {
        "colab": {
          "base_uri": "https://localhost:8080/",
          "height": 174
        },
        "id": "scAnJ9vwXuGe",
        "outputId": "326d11d8-e409-4e2e-c52f-9c77a3456e46"
      },
      "source": [
        "#set N_estimator at 100\n",
        "N_est = 100\n",
        "def model():\n",
        "  for index, row in perf_df.iterrows():\n",
        "#Filling Accuracy Row\n",
        "    if index == 'Accuracy':\n",
        "\n",
        "#Generating Random Forest Accuracy\n",
        "      RF = RandomForestClassifier(n_estimators=N_est, max_features=\"auto\", random_state=101)\n",
        "      RF.fit(X_train, Y_train)\n",
        "      RF_pred = RF.predict(X_test)\n",
        "      accuracy = accuracy_score(Y_test, RF_pred)\n",
        "      perf_df.at[index, 'Random Forest'] = accuracy\n",
        "#Generating Ada Boost Accuracy\n",
        "      AB = AdaBoostClassifier(n_estimators=N_est, random_state=101)\n",
        "      AB.fit(X_train, Y_train)\n",
        "      AB_pred = AB.predict(X_test)\n",
        "      accuracy = accuracy_score(Y_test, AB_pred)\n",
        "      perf_df.at[index, 'Ada Boost'] = accuracy\n",
        "#Generating Gradient Boost Accuracy\n",
        "      GB = GradientBoostingClassifier(n_estimators = N_est, random_state=101)\n",
        "      GB.fit(X_train, Y_train)\n",
        "      GB_pred = GB.predict(X_test)\n",
        "      accuracy = accuracy_score(Y_test, GB_pred)\n",
        "      perf_df.at[index, 'Gradient Boost'] = accuracy\n",
        "\n",
        "#Filling AUC row\n",
        "    if index == 'AUC':\n",
        "\n",
        "#Generating RF AUC score\n",
        "      AUC = roc_auc_score(Y_test, RF_pred)\n",
        "      perf_df.at[index, 'Random Forest'] = AUC\n",
        "#Generating Ada Boost AUC score\n",
        "      AUC = roc_auc_score(Y_test, AB_pred)\n",
        "      perf_df.at[index, 'Ada Boost'] = AUC\n",
        "#Generating Gradient Boost AUC score\n",
        "      AUC = roc_auc_score(Y_test, GB_pred)\n",
        "      perf_df.at[index, 'Gradient Boost'] = AUC\n",
        "\n",
        "#Filling Recall row\n",
        "    if index == 'Recall':\n",
        "#Generating RF Recall score\n",
        "      Recall = recall_score(Y_test, RF_pred)\n",
        "      perf_df.at[index, 'Random Forest'] = Recall\n",
        "#Generating Ada Boost Recall score\n",
        "      Recall = recall_score(Y_test, AB_pred)\n",
        "      perf_df.at[index, 'Ada Boost'] = Recall\n",
        "#Generating Gradient Boost Recall score\n",
        "      Recall = recall_score(Y_test, GB_pred)\n",
        "      perf_df.at[index, 'Gradient Boost'] = Recall\n",
        "\n",
        "#Filling Precision row\n",
        "    if index == 'Precision':\n",
        "#Generating RF Precision score\n",
        "      Precision = precision_score(Y_test, RF_pred)\n",
        "      perf_df.at[index, 'Random Forest'] = Precision\n",
        "#Generating Ada Boost Precision score\n",
        "      Precision = precision_score(Y_test, AB_pred)\n",
        "      perf_df.at[index, 'Ada Boost'] = Precision\n",
        "#Generating Gradient Boost Precision score\n",
        "      Precision = precision_score(Y_test, GB_pred)\n",
        "      perf_df.at[index, 'Gradient Boost'] = Precision\n",
        "\n",
        "\n",
        "model()\n",
        "perf_df.head()"
      ],
      "execution_count": 79,
      "outputs": [
        {
          "output_type": "execute_result",
          "data": {
            "text/html": [
              "<div>\n",
              "<style scoped>\n",
              "    .dataframe tbody tr th:only-of-type {\n",
              "        vertical-align: middle;\n",
              "    }\n",
              "\n",
              "    .dataframe tbody tr th {\n",
              "        vertical-align: top;\n",
              "    }\n",
              "\n",
              "    .dataframe thead th {\n",
              "        text-align: right;\n",
              "    }\n",
              "</style>\n",
              "<table border=\"1\" class=\"dataframe\">\n",
              "  <thead>\n",
              "    <tr style=\"text-align: right;\">\n",
              "      <th></th>\n",
              "      <th>Random Forest</th>\n",
              "      <th>Ada Boost</th>\n",
              "      <th>Gradient Boost</th>\n",
              "    </tr>\n",
              "  </thead>\n",
              "  <tbody>\n",
              "    <tr>\n",
              "      <th>Accuracy</th>\n",
              "      <td>0.864634</td>\n",
              "      <td>0.866843</td>\n",
              "      <td>0.856091</td>\n",
              "    </tr>\n",
              "    <tr>\n",
              "      <th>AUC</th>\n",
              "      <td>0.658159</td>\n",
              "      <td>0.72468</td>\n",
              "      <td>0.640659</td>\n",
              "    </tr>\n",
              "    <tr>\n",
              "      <th>Recall</th>\n",
              "      <td>0.982715</td>\n",
              "      <td>0.948145</td>\n",
              "      <td>0.979294</td>\n",
              "    </tr>\n",
              "    <tr>\n",
              "      <th>Precision</th>\n",
              "      <td>0.86897</td>\n",
              "      <td>0.895274</td>\n",
              "      <td>0.863196</td>\n",
              "    </tr>\n",
              "  </tbody>\n",
              "</table>\n",
              "</div>"
            ],
            "text/plain": [
              "          Random Forest Ada Boost Gradient Boost\n",
              "Accuracy       0.864634  0.866843       0.856091\n",
              "AUC            0.658159   0.72468       0.640659\n",
              "Recall         0.982715  0.948145       0.979294\n",
              "Precision       0.86897  0.895274       0.863196"
            ]
          },
          "metadata": {
            "tags": []
          },
          "execution_count": 79
        }
      ]
    },
    {
      "cell_type": "markdown",
      "metadata": {
        "id": "6LBLKTZQ7rXd"
      },
      "source": [
        "Among three ensemble models, Ada Boost has the highest accuracy, AUC score and Precision score whereas Random Forest has the highest recall score. However, the most important insight is whether the model can make correct predictions or not. Hence, recall score is more important as it quantifies the number of correct predictions that the model makes. Therefore, Random Forest is the best model to classifiy positive and negative reviews. "
      ]
    }
  ]
}