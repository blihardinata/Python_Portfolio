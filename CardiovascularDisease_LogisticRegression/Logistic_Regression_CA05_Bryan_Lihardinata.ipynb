{
  "nbformat": 4,
  "nbformat_minor": 0,
  "metadata": {
    "colab": {
      "name": "Logistic_Regression_CA05_Bryan_Lihardinata.ipynb",
      "provenance": [],
      "collapsed_sections": [],
      "toc_visible": true
    },
    "kernelspec": {
      "display_name": "Python 3",
      "language": "python",
      "name": "python3"
    },
    "language_info": {
      "codemirror_mode": {
        "name": "ipython",
        "version": 3
      },
      "file_extension": ".py",
      "mimetype": "text/x-python",
      "name": "python",
      "nbconvert_exporter": "python",
      "pygments_lexer": "ipython3",
      "version": "3.5.4"
    }
  },
  "cells": [
    {
      "cell_type": "markdown",
      "metadata": {
        "id": "cRa85nQrF9jc"
      },
      "source": [
        "# My name: Bryan Lihardinata\n",
        "## Assignment Name: CA05 - Logistic Regression"
      ]
    },
    {
      "cell_type": "markdown",
      "metadata": {
        "id": "aSbLG8CxF9ji"
      },
      "source": [
        "# Program Inititialization Section\n",
        "## Enter your import packages here"
      ]
    },
    {
      "cell_type": "code",
      "metadata": {
        "collapsed": true,
        "id": "C8mbvsi-F9jj"
      },
      "source": [
        "# import packages \n",
        "import pandas as pd\n",
        "import numpy as np\n",
        "import matplotlib.pyplot as plt"
      ],
      "execution_count": 1,
      "outputs": []
    },
    {
      "cell_type": "code",
      "metadata": {
        "colab": {
          "base_uri": "https://localhost:8080/"
        },
        "id": "tkahi1RCpXHP",
        "outputId": "c45e6f9c-5970-4fee-8fc7-a26ffcb46d3e"
      },
      "source": [
        "from google.colab import drive\n",
        "drive.mount('/content/drive')"
      ],
      "execution_count": null,
      "outputs": [
        {
          "output_type": "stream",
          "text": [
            "Drive already mounted at /content/drive; to attempt to forcibly remount, call drive.mount(\"/content/drive\", force_remount=True).\n"
          ],
          "name": "stdout"
        }
      ]
    },
    {
      "cell_type": "markdown",
      "metadata": {
        "id": "58BCJ518F9jl"
      },
      "source": [
        "## Cardiovascular Disease (CVD) kills more people than cancer globally. \n",
        "###A dataset of real heart patients collected from a 15 year heart study cohort is made available for this assignment. \n",
        "###The dataset has 16 patient features. Note that none of the features include any Blood Test information.\n",
        "- #### age_s1 = study date - DOB (age when the study takes place)\n",
        "- #### race = 1=white, 2=black, 3=other\n",
        "- #### mstat = marriage status: 1=married 2=widowed 3=divorced/separated 4=never married 8=unknown/refused\n",
        "- #### neck20 = neck circumference in cm; waist = waist circumference in cm; hip = hip circumference in cm\n",
        "- #### cgpkyr = lifetime cigarette smoking date\n",
        "- #### tea15 = How many cups of tea (with caffeine) do you drink on a regular day?\n",
        "- #### srhype = self-reported hypertension\n",
        "- #### parrptdiab = diabetes status (0=no, 1 = yes)\n",
        "- #### bend25 = Does your health now limit you in this activity, and if so, how much: Bending, kneeling, or stooping?\n",
        "- #### happy25 = During the past 4 weeks, how much of the time: Have you been a happy person? (1 = all the time, 6 = not at all)\n",
        "- #### tired 25 = During the past 4 weeks, how much of the time: Did you feel tired? (1 = all the time, 6 = not at all)\n",
        "- #### hlthlm25 = During the past 4 weeks, how much of the time: Has your health limited your social activities (like visiting with friends or close relatives)? (1 = all the time, 5 = not at all)"
      ]
    },
    {
      "cell_type": "markdown",
      "metadata": {
        "id": "fWyV8qBFJv1O"
      },
      "source": [
        "The explanation of the above variables can be found here: https://sleepdata.org/datasets/shhs/variables"
      ]
    },
    {
      "cell_type": "code",
      "metadata": {
        "colab": {
          "base_uri": "https://localhost:8080/",
          "height": 423
        },
        "id": "EHLZ7W5mF9jl",
        "outputId": "78f8b54a-8a00-45c3-8f60-08644f601c69"
      },
      "source": [
        "#read datasets\n",
        "df = pd.read_csv('https://raw.githubusercontent.com/blihardinata/Python_Portfolio/main/CardiovascularDisease_LogisticRegression/cvd_data.csv')\n",
        "df"
      ],
      "execution_count": 2,
      "outputs": [
        {
          "output_type": "execute_result",
          "data": {
            "text/html": [
              "<div>\n",
              "<style scoped>\n",
              "    .dataframe tbody tr th:only-of-type {\n",
              "        vertical-align: middle;\n",
              "    }\n",
              "\n",
              "    .dataframe tbody tr th {\n",
              "        vertical-align: top;\n",
              "    }\n",
              "\n",
              "    .dataframe thead th {\n",
              "        text-align: right;\n",
              "    }\n",
              "</style>\n",
              "<table border=\"1\" class=\"dataframe\">\n",
              "  <thead>\n",
              "    <tr style=\"text-align: right;\">\n",
              "      <th></th>\n",
              "      <th>cvd_4types</th>\n",
              "      <th>age_s1</th>\n",
              "      <th>race</th>\n",
              "      <th>educat</th>\n",
              "      <th>mstat</th>\n",
              "      <th>hip</th>\n",
              "      <th>neck20</th>\n",
              "      <th>waist</th>\n",
              "      <th>av_weight_kg</th>\n",
              "      <th>cgpkyr</th>\n",
              "      <th>tea15</th>\n",
              "      <th>srhype</th>\n",
              "      <th>parrptdiab</th>\n",
              "      <th>bend25</th>\n",
              "      <th>happy25</th>\n",
              "      <th>tired25</th>\n",
              "      <th>hlthlm25</th>\n",
              "    </tr>\n",
              "  </thead>\n",
              "  <tbody>\n",
              "    <tr>\n",
              "      <th>0</th>\n",
              "      <td>0</td>\n",
              "      <td>54</td>\n",
              "      <td>1</td>\n",
              "      <td>2</td>\n",
              "      <td>1</td>\n",
              "      <td>110.0</td>\n",
              "      <td>40.0</td>\n",
              "      <td>108.0</td>\n",
              "      <td>87.5</td>\n",
              "      <td>34.0</td>\n",
              "      <td>0</td>\n",
              "      <td>1</td>\n",
              "      <td>0</td>\n",
              "      <td>1</td>\n",
              "      <td>2</td>\n",
              "      <td>3</td>\n",
              "      <td>4</td>\n",
              "    </tr>\n",
              "    <tr>\n",
              "      <th>1</th>\n",
              "      <td>0</td>\n",
              "      <td>56</td>\n",
              "      <td>3</td>\n",
              "      <td>2</td>\n",
              "      <td>1</td>\n",
              "      <td>113.0</td>\n",
              "      <td>34.0</td>\n",
              "      <td>107.0</td>\n",
              "      <td>83.5</td>\n",
              "      <td>0.0</td>\n",
              "      <td>0</td>\n",
              "      <td>0</td>\n",
              "      <td>0</td>\n",
              "      <td>2</td>\n",
              "      <td>2</td>\n",
              "      <td>1</td>\n",
              "      <td>3</td>\n",
              "    </tr>\n",
              "    <tr>\n",
              "      <th>2</th>\n",
              "      <td>0</td>\n",
              "      <td>54</td>\n",
              "      <td>1</td>\n",
              "      <td>3</td>\n",
              "      <td>1</td>\n",
              "      <td>110.0</td>\n",
              "      <td>44.5</td>\n",
              "      <td>105.0</td>\n",
              "      <td>86.2</td>\n",
              "      <td>49.5</td>\n",
              "      <td>0</td>\n",
              "      <td>0</td>\n",
              "      <td>0</td>\n",
              "      <td>3</td>\n",
              "      <td>2</td>\n",
              "      <td>6</td>\n",
              "      <td>4</td>\n",
              "    </tr>\n",
              "    <tr>\n",
              "      <th>3</th>\n",
              "      <td>0</td>\n",
              "      <td>54</td>\n",
              "      <td>1</td>\n",
              "      <td>3</td>\n",
              "      <td>1</td>\n",
              "      <td>129.0</td>\n",
              "      <td>42.5</td>\n",
              "      <td>110.0</td>\n",
              "      <td>89.1</td>\n",
              "      <td>0.0</td>\n",
              "      <td>0</td>\n",
              "      <td>0</td>\n",
              "      <td>0</td>\n",
              "      <td>3</td>\n",
              "      <td>2</td>\n",
              "      <td>1</td>\n",
              "      <td>3</td>\n",
              "    </tr>\n",
              "    <tr>\n",
              "      <th>4</th>\n",
              "      <td>0</td>\n",
              "      <td>51</td>\n",
              "      <td>3</td>\n",
              "      <td>2</td>\n",
              "      <td>1</td>\n",
              "      <td>122.0</td>\n",
              "      <td>37.0</td>\n",
              "      <td>113.0</td>\n",
              "      <td>81.3</td>\n",
              "      <td>0.0</td>\n",
              "      <td>0</td>\n",
              "      <td>0</td>\n",
              "      <td>0</td>\n",
              "      <td>2</td>\n",
              "      <td>1</td>\n",
              "      <td>1</td>\n",
              "      <td>2</td>\n",
              "    </tr>\n",
              "    <tr>\n",
              "      <th>...</th>\n",
              "      <td>...</td>\n",
              "      <td>...</td>\n",
              "      <td>...</td>\n",
              "      <td>...</td>\n",
              "      <td>...</td>\n",
              "      <td>...</td>\n",
              "      <td>...</td>\n",
              "      <td>...</td>\n",
              "      <td>...</td>\n",
              "      <td>...</td>\n",
              "      <td>...</td>\n",
              "      <td>...</td>\n",
              "      <td>...</td>\n",
              "      <td>...</td>\n",
              "      <td>...</td>\n",
              "      <td>...</td>\n",
              "      <td>...</td>\n",
              "    </tr>\n",
              "    <tr>\n",
              "      <th>3237</th>\n",
              "      <td>1</td>\n",
              "      <td>66</td>\n",
              "      <td>1</td>\n",
              "      <td>2</td>\n",
              "      <td>1</td>\n",
              "      <td>95.0</td>\n",
              "      <td>41.5</td>\n",
              "      <td>99.0</td>\n",
              "      <td>88.2</td>\n",
              "      <td>0.0</td>\n",
              "      <td>0</td>\n",
              "      <td>1</td>\n",
              "      <td>0</td>\n",
              "      <td>2</td>\n",
              "      <td>2</td>\n",
              "      <td>5</td>\n",
              "      <td>4</td>\n",
              "    </tr>\n",
              "    <tr>\n",
              "      <th>3238</th>\n",
              "      <td>1</td>\n",
              "      <td>54</td>\n",
              "      <td>1</td>\n",
              "      <td>3</td>\n",
              "      <td>1</td>\n",
              "      <td>99.0</td>\n",
              "      <td>34.9</td>\n",
              "      <td>99.0</td>\n",
              "      <td>83.3</td>\n",
              "      <td>30.0</td>\n",
              "      <td>0</td>\n",
              "      <td>0</td>\n",
              "      <td>0</td>\n",
              "      <td>3</td>\n",
              "      <td>3</td>\n",
              "      <td>3</td>\n",
              "      <td>4</td>\n",
              "    </tr>\n",
              "    <tr>\n",
              "      <th>3239</th>\n",
              "      <td>1</td>\n",
              "      <td>55</td>\n",
              "      <td>1</td>\n",
              "      <td>4</td>\n",
              "      <td>1</td>\n",
              "      <td>101.0</td>\n",
              "      <td>37.0</td>\n",
              "      <td>91.0</td>\n",
              "      <td>75.2</td>\n",
              "      <td>0.0</td>\n",
              "      <td>0</td>\n",
              "      <td>0</td>\n",
              "      <td>0</td>\n",
              "      <td>3</td>\n",
              "      <td>2</td>\n",
              "      <td>5</td>\n",
              "      <td>4</td>\n",
              "    </tr>\n",
              "    <tr>\n",
              "      <th>3240</th>\n",
              "      <td>1</td>\n",
              "      <td>53</td>\n",
              "      <td>1</td>\n",
              "      <td>2</td>\n",
              "      <td>1</td>\n",
              "      <td>98.0</td>\n",
              "      <td>39.0</td>\n",
              "      <td>93.0</td>\n",
              "      <td>79.0</td>\n",
              "      <td>0.0</td>\n",
              "      <td>0</td>\n",
              "      <td>0</td>\n",
              "      <td>0</td>\n",
              "      <td>2</td>\n",
              "      <td>2</td>\n",
              "      <td>5</td>\n",
              "      <td>4</td>\n",
              "    </tr>\n",
              "    <tr>\n",
              "      <th>3241</th>\n",
              "      <td>1</td>\n",
              "      <td>54</td>\n",
              "      <td>1</td>\n",
              "      <td>2</td>\n",
              "      <td>1</td>\n",
              "      <td>109.0</td>\n",
              "      <td>48.6</td>\n",
              "      <td>112.0</td>\n",
              "      <td>93.5</td>\n",
              "      <td>39.0</td>\n",
              "      <td>0</td>\n",
              "      <td>1</td>\n",
              "      <td>0</td>\n",
              "      <td>3</td>\n",
              "      <td>2</td>\n",
              "      <td>5</td>\n",
              "      <td>4</td>\n",
              "    </tr>\n",
              "  </tbody>\n",
              "</table>\n",
              "<p>3242 rows × 17 columns</p>\n",
              "</div>"
            ],
            "text/plain": [
              "      cvd_4types  age_s1  race  educat  ...  bend25  happy25  tired25  hlthlm25\n",
              "0              0      54     1       2  ...       1        2        3         4\n",
              "1              0      56     3       2  ...       2        2        1         3\n",
              "2              0      54     1       3  ...       3        2        6         4\n",
              "3              0      54     1       3  ...       3        2        1         3\n",
              "4              0      51     3       2  ...       2        1        1         2\n",
              "...          ...     ...   ...     ...  ...     ...      ...      ...       ...\n",
              "3237           1      66     1       2  ...       2        2        5         4\n",
              "3238           1      54     1       3  ...       3        3        3         4\n",
              "3239           1      55     1       4  ...       3        2        5         4\n",
              "3240           1      53     1       2  ...       2        2        5         4\n",
              "3241           1      54     1       2  ...       3        2        5         4\n",
              "\n",
              "[3242 rows x 17 columns]"
            ]
          },
          "metadata": {
            "tags": []
          },
          "execution_count": 2
        }
      ]
    },
    {
      "cell_type": "markdown",
      "metadata": {
        "id": "bjXTah9mF9jm"
      },
      "source": [
        "# Initial Data Investigation Section\n",
        "\n",
        "## Summarized details\n",
        "### Generate descriptive statistics that summarize the central tendency, dispersion, and shape of a dataset’s distribution, excluding NaN values.\n",
        "\n",
        "\n"
      ]
    },
    {
      "cell_type": "code",
      "metadata": {
        "colab": {
          "base_uri": "https://localhost:8080/",
          "height": 320
        },
        "id": "mm_BSktkF9jo",
        "scrolled": false,
        "outputId": "fde29545-0543-4da8-ce96-d5b11116897d"
      },
      "source": [
        "#Statistical Description of data (data.describe)\n",
        "df.describe()\n",
        "#result nothing because the data has been discretized"
      ],
      "execution_count": 3,
      "outputs": [
        {
          "output_type": "execute_result",
          "data": {
            "text/html": [
              "<div>\n",
              "<style scoped>\n",
              "    .dataframe tbody tr th:only-of-type {\n",
              "        vertical-align: middle;\n",
              "    }\n",
              "\n",
              "    .dataframe tbody tr th {\n",
              "        vertical-align: top;\n",
              "    }\n",
              "\n",
              "    .dataframe thead th {\n",
              "        text-align: right;\n",
              "    }\n",
              "</style>\n",
              "<table border=\"1\" class=\"dataframe\">\n",
              "  <thead>\n",
              "    <tr style=\"text-align: right;\">\n",
              "      <th></th>\n",
              "      <th>cvd_4types</th>\n",
              "      <th>age_s1</th>\n",
              "      <th>race</th>\n",
              "      <th>educat</th>\n",
              "      <th>mstat</th>\n",
              "      <th>hip</th>\n",
              "      <th>neck20</th>\n",
              "      <th>waist</th>\n",
              "      <th>av_weight_kg</th>\n",
              "      <th>cgpkyr</th>\n",
              "      <th>tea15</th>\n",
              "      <th>srhype</th>\n",
              "      <th>parrptdiab</th>\n",
              "      <th>bend25</th>\n",
              "      <th>happy25</th>\n",
              "      <th>tired25</th>\n",
              "      <th>hlthlm25</th>\n",
              "    </tr>\n",
              "  </thead>\n",
              "  <tbody>\n",
              "    <tr>\n",
              "      <th>count</th>\n",
              "      <td>3242.000000</td>\n",
              "      <td>3242.000000</td>\n",
              "      <td>3242.000000</td>\n",
              "      <td>3242.000000</td>\n",
              "      <td>3242.000000</td>\n",
              "      <td>3242.000000</td>\n",
              "      <td>3242.000000</td>\n",
              "      <td>3242.000000</td>\n",
              "      <td>3242.000000</td>\n",
              "      <td>3242.000000</td>\n",
              "      <td>3242.000000</td>\n",
              "      <td>3242.000000</td>\n",
              "      <td>3242.000000</td>\n",
              "      <td>3242.000000</td>\n",
              "      <td>3242.000000</td>\n",
              "      <td>3242.000000</td>\n",
              "      <td>3242.000000</td>\n",
              "    </tr>\n",
              "    <tr>\n",
              "      <th>mean</th>\n",
              "      <td>0.590068</td>\n",
              "      <td>64.828809</td>\n",
              "      <td>1.094695</td>\n",
              "      <td>2.326342</td>\n",
              "      <td>1.368600</td>\n",
              "      <td>105.404832</td>\n",
              "      <td>37.550719</td>\n",
              "      <td>97.209904</td>\n",
              "      <td>82.945928</td>\n",
              "      <td>12.904010</td>\n",
              "      <td>0.430907</td>\n",
              "      <td>0.327884</td>\n",
              "      <td>0.067551</td>\n",
              "      <td>2.473782</td>\n",
              "      <td>2.281308</td>\n",
              "      <td>4.292721</td>\n",
              "      <td>3.864898</td>\n",
              "    </tr>\n",
              "    <tr>\n",
              "      <th>std</th>\n",
              "      <td>0.491897</td>\n",
              "      <td>10.400496</td>\n",
              "      <td>0.358237</td>\n",
              "      <td>0.697934</td>\n",
              "      <td>0.933871</td>\n",
              "      <td>10.280402</td>\n",
              "      <td>4.101003</td>\n",
              "      <td>13.598060</td>\n",
              "      <td>7.849650</td>\n",
              "      <td>20.156736</td>\n",
              "      <td>1.242444</td>\n",
              "      <td>0.469515</td>\n",
              "      <td>0.251012</td>\n",
              "      <td>0.672158</td>\n",
              "      <td>0.951695</td>\n",
              "      <td>1.021099</td>\n",
              "      <td>0.614247</td>\n",
              "    </tr>\n",
              "    <tr>\n",
              "      <th>min</th>\n",
              "      <td>0.000000</td>\n",
              "      <td>39.000000</td>\n",
              "      <td>1.000000</td>\n",
              "      <td>1.000000</td>\n",
              "      <td>1.000000</td>\n",
              "      <td>44.000000</td>\n",
              "      <td>25.000000</td>\n",
              "      <td>67.000000</td>\n",
              "      <td>57.400000</td>\n",
              "      <td>0.000000</td>\n",
              "      <td>0.000000</td>\n",
              "      <td>0.000000</td>\n",
              "      <td>0.000000</td>\n",
              "      <td>1.000000</td>\n",
              "      <td>1.000000</td>\n",
              "      <td>1.000000</td>\n",
              "      <td>1.000000</td>\n",
              "    </tr>\n",
              "    <tr>\n",
              "      <th>25%</th>\n",
              "      <td>0.000000</td>\n",
              "      <td>57.000000</td>\n",
              "      <td>1.000000</td>\n",
              "      <td>2.000000</td>\n",
              "      <td>1.000000</td>\n",
              "      <td>99.000000</td>\n",
              "      <td>34.425000</td>\n",
              "      <td>88.000000</td>\n",
              "      <td>78.200000</td>\n",
              "      <td>0.000000</td>\n",
              "      <td>0.000000</td>\n",
              "      <td>0.000000</td>\n",
              "      <td>0.000000</td>\n",
              "      <td>2.000000</td>\n",
              "      <td>2.000000</td>\n",
              "      <td>4.000000</td>\n",
              "      <td>4.000000</td>\n",
              "    </tr>\n",
              "    <tr>\n",
              "      <th>50%</th>\n",
              "      <td>1.000000</td>\n",
              "      <td>65.000000</td>\n",
              "      <td>1.000000</td>\n",
              "      <td>2.000000</td>\n",
              "      <td>1.000000</td>\n",
              "      <td>104.000000</td>\n",
              "      <td>37.150000</td>\n",
              "      <td>97.000000</td>\n",
              "      <td>82.550000</td>\n",
              "      <td>0.300000</td>\n",
              "      <td>0.000000</td>\n",
              "      <td>0.000000</td>\n",
              "      <td>0.000000</td>\n",
              "      <td>3.000000</td>\n",
              "      <td>2.000000</td>\n",
              "      <td>4.000000</td>\n",
              "      <td>4.000000</td>\n",
              "    </tr>\n",
              "    <tr>\n",
              "      <th>75%</th>\n",
              "      <td>1.000000</td>\n",
              "      <td>73.000000</td>\n",
              "      <td>1.000000</td>\n",
              "      <td>3.000000</td>\n",
              "      <td>1.000000</td>\n",
              "      <td>110.000000</td>\n",
              "      <td>40.500000</td>\n",
              "      <td>106.000000</td>\n",
              "      <td>86.575000</td>\n",
              "      <td>20.475000</td>\n",
              "      <td>0.000000</td>\n",
              "      <td>1.000000</td>\n",
              "      <td>0.000000</td>\n",
              "      <td>3.000000</td>\n",
              "      <td>3.000000</td>\n",
              "      <td>5.000000</td>\n",
              "      <td>4.000000</td>\n",
              "    </tr>\n",
              "    <tr>\n",
              "      <th>max</th>\n",
              "      <td>1.000000</td>\n",
              "      <td>90.000000</td>\n",
              "      <td>3.000000</td>\n",
              "      <td>4.000000</td>\n",
              "      <td>8.000000</td>\n",
              "      <td>168.000000</td>\n",
              "      <td>53.000000</td>\n",
              "      <td>135.000000</td>\n",
              "      <td>136.700000</td>\n",
              "      <td>170.500000</td>\n",
              "      <td>30.000000</td>\n",
              "      <td>1.000000</td>\n",
              "      <td>1.000000</td>\n",
              "      <td>3.000000</td>\n",
              "      <td>6.000000</td>\n",
              "      <td>6.000000</td>\n",
              "      <td>5.000000</td>\n",
              "    </tr>\n",
              "  </tbody>\n",
              "</table>\n",
              "</div>"
            ],
            "text/plain": [
              "        cvd_4types       age_s1  ...      tired25     hlthlm25\n",
              "count  3242.000000  3242.000000  ...  3242.000000  3242.000000\n",
              "mean      0.590068    64.828809  ...     4.292721     3.864898\n",
              "std       0.491897    10.400496  ...     1.021099     0.614247\n",
              "min       0.000000    39.000000  ...     1.000000     1.000000\n",
              "25%       0.000000    57.000000  ...     4.000000     4.000000\n",
              "50%       1.000000    65.000000  ...     4.000000     4.000000\n",
              "75%       1.000000    73.000000  ...     5.000000     4.000000\n",
              "max       1.000000    90.000000  ...     6.000000     5.000000\n",
              "\n",
              "[8 rows x 17 columns]"
            ]
          },
          "metadata": {
            "tags": []
          },
          "execution_count": 3
        }
      ]
    },
    {
      "cell_type": "code",
      "metadata": {
        "colab": {
          "base_uri": "https://localhost:8080/"
        },
        "id": "o3fBtUVumMYT",
        "outputId": "e1d2867f-c3e7-4377-e82a-25d46717818a"
      },
      "source": [
        "#Statistical Description of data (data.shape)\n",
        "df.shape"
      ],
      "execution_count": null,
      "outputs": [
        {
          "output_type": "execute_result",
          "data": {
            "text/plain": [
              "(3242, 17)"
            ]
          },
          "metadata": {
            "tags": []
          },
          "execution_count": 133
        }
      ]
    },
    {
      "cell_type": "code",
      "metadata": {
        "colab": {
          "base_uri": "https://localhost:8080/"
        },
        "id": "IAtYWx22mlC6",
        "outputId": "3eed6d29-f804-4669-be4a-d859c9a9370e"
      },
      "source": [
        "#Display number of non-null values for each column (data.count)\n",
        "df.count()\n",
        "#no null value"
      ],
      "execution_count": 4,
      "outputs": [
        {
          "output_type": "execute_result",
          "data": {
            "text/plain": [
              "cvd_4types      3242\n",
              "age_s1          3242\n",
              "race            3242\n",
              "educat          3242\n",
              "mstat           3242\n",
              "hip             3242\n",
              "neck20          3242\n",
              "waist           3242\n",
              "av_weight_kg    3242\n",
              "cgpkyr          3242\n",
              "tea15           3242\n",
              "srhype          3242\n",
              "parrptdiab      3242\n",
              "bend25          3242\n",
              "happy25         3242\n",
              "tired25         3242\n",
              "hlthlm25        3242\n",
              "dtype: int64"
            ]
          },
          "metadata": {
            "tags": []
          },
          "execution_count": 4
        }
      ]
    },
    {
      "cell_type": "code",
      "metadata": {
        "colab": {
          "base_uri": "https://localhost:8080/"
        },
        "id": "G7YLJpfvvu-b",
        "outputId": "3fb348dd-d55a-4f21-8039-45b0fe1e579f"
      },
      "source": [
        "#double Checking null value\n",
        "df[df.isnull().any(axis=1)].count()"
      ],
      "execution_count": 5,
      "outputs": [
        {
          "output_type": "execute_result",
          "data": {
            "text/plain": [
              "cvd_4types      0\n",
              "age_s1          0\n",
              "race            0\n",
              "educat          0\n",
              "mstat           0\n",
              "hip             0\n",
              "neck20          0\n",
              "waist           0\n",
              "av_weight_kg    0\n",
              "cgpkyr          0\n",
              "tea15           0\n",
              "srhype          0\n",
              "parrptdiab      0\n",
              "bend25          0\n",
              "happy25         0\n",
              "tired25         0\n",
              "hlthlm25        0\n",
              "dtype: int64"
            ]
          },
          "metadata": {
            "tags": []
          },
          "execution_count": 5
        }
      ]
    },
    {
      "cell_type": "code",
      "metadata": {
        "colab": {
          "base_uri": "https://localhost:8080/"
        },
        "id": "kWYdFrqYmzd8",
        "outputId": "fbb9179a-0450-4274-e544-99180e8b2384"
      },
      "source": [
        "#Display range, column, number of non-null objects of each column, datatype and memory usage (data.info)\n",
        "df.info()"
      ],
      "execution_count": 6,
      "outputs": [
        {
          "output_type": "stream",
          "text": [
            "<class 'pandas.core.frame.DataFrame'>\n",
            "RangeIndex: 3242 entries, 0 to 3241\n",
            "Data columns (total 17 columns):\n",
            " #   Column        Non-Null Count  Dtype  \n",
            "---  ------        --------------  -----  \n",
            " 0   cvd_4types    3242 non-null   int64  \n",
            " 1   age_s1        3242 non-null   int64  \n",
            " 2   race          3242 non-null   int64  \n",
            " 3   educat        3242 non-null   int64  \n",
            " 4   mstat         3242 non-null   int64  \n",
            " 5   hip           3242 non-null   float64\n",
            " 6   neck20        3242 non-null   float64\n",
            " 7   waist         3242 non-null   float64\n",
            " 8   av_weight_kg  3242 non-null   float64\n",
            " 9   cgpkyr        3242 non-null   float64\n",
            " 10  tea15         3242 non-null   int64  \n",
            " 11  srhype        3242 non-null   int64  \n",
            " 12  parrptdiab    3242 non-null   int64  \n",
            " 13  bend25        3242 non-null   int64  \n",
            " 14  happy25       3242 non-null   int64  \n",
            " 15  tired25       3242 non-null   int64  \n",
            " 16  hlthlm25      3242 non-null   int64  \n",
            "dtypes: float64(5), int64(12)\n",
            "memory usage: 430.7 KB\n"
          ],
          "name": "stdout"
        }
      ]
    },
    {
      "cell_type": "code",
      "metadata": {
        "colab": {
          "base_uri": "https://localhost:8080/",
          "height": 363
        },
        "id": "TeDWEB7InIFe",
        "outputId": "2d5ee540-bed3-4b70-f409-57cdafaa5b10"
      },
      "source": [
        "#Display Top 10 and Bottom 10 records (head and tail)\n",
        "df.head(10)"
      ],
      "execution_count": 7,
      "outputs": [
        {
          "output_type": "execute_result",
          "data": {
            "text/html": [
              "<div>\n",
              "<style scoped>\n",
              "    .dataframe tbody tr th:only-of-type {\n",
              "        vertical-align: middle;\n",
              "    }\n",
              "\n",
              "    .dataframe tbody tr th {\n",
              "        vertical-align: top;\n",
              "    }\n",
              "\n",
              "    .dataframe thead th {\n",
              "        text-align: right;\n",
              "    }\n",
              "</style>\n",
              "<table border=\"1\" class=\"dataframe\">\n",
              "  <thead>\n",
              "    <tr style=\"text-align: right;\">\n",
              "      <th></th>\n",
              "      <th>cvd_4types</th>\n",
              "      <th>age_s1</th>\n",
              "      <th>race</th>\n",
              "      <th>educat</th>\n",
              "      <th>mstat</th>\n",
              "      <th>hip</th>\n",
              "      <th>neck20</th>\n",
              "      <th>waist</th>\n",
              "      <th>av_weight_kg</th>\n",
              "      <th>cgpkyr</th>\n",
              "      <th>tea15</th>\n",
              "      <th>srhype</th>\n",
              "      <th>parrptdiab</th>\n",
              "      <th>bend25</th>\n",
              "      <th>happy25</th>\n",
              "      <th>tired25</th>\n",
              "      <th>hlthlm25</th>\n",
              "    </tr>\n",
              "  </thead>\n",
              "  <tbody>\n",
              "    <tr>\n",
              "      <th>0</th>\n",
              "      <td>0</td>\n",
              "      <td>54</td>\n",
              "      <td>1</td>\n",
              "      <td>2</td>\n",
              "      <td>1</td>\n",
              "      <td>110.0</td>\n",
              "      <td>40.0</td>\n",
              "      <td>108.0</td>\n",
              "      <td>87.5</td>\n",
              "      <td>34.00</td>\n",
              "      <td>0</td>\n",
              "      <td>1</td>\n",
              "      <td>0</td>\n",
              "      <td>1</td>\n",
              "      <td>2</td>\n",
              "      <td>3</td>\n",
              "      <td>4</td>\n",
              "    </tr>\n",
              "    <tr>\n",
              "      <th>1</th>\n",
              "      <td>0</td>\n",
              "      <td>56</td>\n",
              "      <td>3</td>\n",
              "      <td>2</td>\n",
              "      <td>1</td>\n",
              "      <td>113.0</td>\n",
              "      <td>34.0</td>\n",
              "      <td>107.0</td>\n",
              "      <td>83.5</td>\n",
              "      <td>0.00</td>\n",
              "      <td>0</td>\n",
              "      <td>0</td>\n",
              "      <td>0</td>\n",
              "      <td>2</td>\n",
              "      <td>2</td>\n",
              "      <td>1</td>\n",
              "      <td>3</td>\n",
              "    </tr>\n",
              "    <tr>\n",
              "      <th>2</th>\n",
              "      <td>0</td>\n",
              "      <td>54</td>\n",
              "      <td>1</td>\n",
              "      <td>3</td>\n",
              "      <td>1</td>\n",
              "      <td>110.0</td>\n",
              "      <td>44.5</td>\n",
              "      <td>105.0</td>\n",
              "      <td>86.2</td>\n",
              "      <td>49.50</td>\n",
              "      <td>0</td>\n",
              "      <td>0</td>\n",
              "      <td>0</td>\n",
              "      <td>3</td>\n",
              "      <td>2</td>\n",
              "      <td>6</td>\n",
              "      <td>4</td>\n",
              "    </tr>\n",
              "    <tr>\n",
              "      <th>3</th>\n",
              "      <td>0</td>\n",
              "      <td>54</td>\n",
              "      <td>1</td>\n",
              "      <td>3</td>\n",
              "      <td>1</td>\n",
              "      <td>129.0</td>\n",
              "      <td>42.5</td>\n",
              "      <td>110.0</td>\n",
              "      <td>89.1</td>\n",
              "      <td>0.00</td>\n",
              "      <td>0</td>\n",
              "      <td>0</td>\n",
              "      <td>0</td>\n",
              "      <td>3</td>\n",
              "      <td>2</td>\n",
              "      <td>1</td>\n",
              "      <td>3</td>\n",
              "    </tr>\n",
              "    <tr>\n",
              "      <th>4</th>\n",
              "      <td>0</td>\n",
              "      <td>51</td>\n",
              "      <td>3</td>\n",
              "      <td>2</td>\n",
              "      <td>1</td>\n",
              "      <td>122.0</td>\n",
              "      <td>37.0</td>\n",
              "      <td>113.0</td>\n",
              "      <td>81.3</td>\n",
              "      <td>0.00</td>\n",
              "      <td>0</td>\n",
              "      <td>0</td>\n",
              "      <td>0</td>\n",
              "      <td>2</td>\n",
              "      <td>1</td>\n",
              "      <td>1</td>\n",
              "      <td>2</td>\n",
              "    </tr>\n",
              "    <tr>\n",
              "      <th>5</th>\n",
              "      <td>0</td>\n",
              "      <td>67</td>\n",
              "      <td>1</td>\n",
              "      <td>3</td>\n",
              "      <td>3</td>\n",
              "      <td>140.0</td>\n",
              "      <td>35.5</td>\n",
              "      <td>101.0</td>\n",
              "      <td>87.2</td>\n",
              "      <td>0.00</td>\n",
              "      <td>0</td>\n",
              "      <td>1</td>\n",
              "      <td>0</td>\n",
              "      <td>1</td>\n",
              "      <td>1</td>\n",
              "      <td>4</td>\n",
              "      <td>4</td>\n",
              "    </tr>\n",
              "    <tr>\n",
              "      <th>6</th>\n",
              "      <td>0</td>\n",
              "      <td>68</td>\n",
              "      <td>1</td>\n",
              "      <td>2</td>\n",
              "      <td>1</td>\n",
              "      <td>101.0</td>\n",
              "      <td>39.0</td>\n",
              "      <td>93.0</td>\n",
              "      <td>80.5</td>\n",
              "      <td>9.20</td>\n",
              "      <td>0</td>\n",
              "      <td>0</td>\n",
              "      <td>0</td>\n",
              "      <td>2</td>\n",
              "      <td>3</td>\n",
              "      <td>4</td>\n",
              "      <td>4</td>\n",
              "    </tr>\n",
              "    <tr>\n",
              "      <th>7</th>\n",
              "      <td>0</td>\n",
              "      <td>67</td>\n",
              "      <td>1</td>\n",
              "      <td>2</td>\n",
              "      <td>1</td>\n",
              "      <td>107.0</td>\n",
              "      <td>32.0</td>\n",
              "      <td>80.0</td>\n",
              "      <td>73.2</td>\n",
              "      <td>0.00</td>\n",
              "      <td>0</td>\n",
              "      <td>1</td>\n",
              "      <td>0</td>\n",
              "      <td>2</td>\n",
              "      <td>2</td>\n",
              "      <td>4</td>\n",
              "      <td>4</td>\n",
              "    </tr>\n",
              "    <tr>\n",
              "      <th>8</th>\n",
              "      <td>0</td>\n",
              "      <td>44</td>\n",
              "      <td>1</td>\n",
              "      <td>2</td>\n",
              "      <td>1</td>\n",
              "      <td>100.0</td>\n",
              "      <td>36.5</td>\n",
              "      <td>89.0</td>\n",
              "      <td>79.1</td>\n",
              "      <td>6.75</td>\n",
              "      <td>0</td>\n",
              "      <td>0</td>\n",
              "      <td>0</td>\n",
              "      <td>3</td>\n",
              "      <td>3</td>\n",
              "      <td>4</td>\n",
              "      <td>4</td>\n",
              "    </tr>\n",
              "    <tr>\n",
              "      <th>9</th>\n",
              "      <td>0</td>\n",
              "      <td>42</td>\n",
              "      <td>1</td>\n",
              "      <td>2</td>\n",
              "      <td>1</td>\n",
              "      <td>105.0</td>\n",
              "      <td>35.5</td>\n",
              "      <td>90.0</td>\n",
              "      <td>78.1</td>\n",
              "      <td>21.00</td>\n",
              "      <td>0</td>\n",
              "      <td>0</td>\n",
              "      <td>0</td>\n",
              "      <td>3</td>\n",
              "      <td>2</td>\n",
              "      <td>3</td>\n",
              "      <td>3</td>\n",
              "    </tr>\n",
              "  </tbody>\n",
              "</table>\n",
              "</div>"
            ],
            "text/plain": [
              "   cvd_4types  age_s1  race  educat  ...  bend25  happy25  tired25  hlthlm25\n",
              "0           0      54     1       2  ...       1        2        3         4\n",
              "1           0      56     3       2  ...       2        2        1         3\n",
              "2           0      54     1       3  ...       3        2        6         4\n",
              "3           0      54     1       3  ...       3        2        1         3\n",
              "4           0      51     3       2  ...       2        1        1         2\n",
              "5           0      67     1       3  ...       1        1        4         4\n",
              "6           0      68     1       2  ...       2        3        4         4\n",
              "7           0      67     1       2  ...       2        2        4         4\n",
              "8           0      44     1       2  ...       3        3        4         4\n",
              "9           0      42     1       2  ...       3        2        3         3\n",
              "\n",
              "[10 rows x 17 columns]"
            ]
          },
          "metadata": {
            "tags": []
          },
          "execution_count": 7
        }
      ]
    },
    {
      "cell_type": "code",
      "metadata": {
        "colab": {
          "base_uri": "https://localhost:8080/",
          "height": 363
        },
        "id": "X_zJxAbMnMad",
        "outputId": "6a5d0511-5308-4759-a972-2758969b70b7"
      },
      "source": [
        "df.tail(10)"
      ],
      "execution_count": 8,
      "outputs": [
        {
          "output_type": "execute_result",
          "data": {
            "text/html": [
              "<div>\n",
              "<style scoped>\n",
              "    .dataframe tbody tr th:only-of-type {\n",
              "        vertical-align: middle;\n",
              "    }\n",
              "\n",
              "    .dataframe tbody tr th {\n",
              "        vertical-align: top;\n",
              "    }\n",
              "\n",
              "    .dataframe thead th {\n",
              "        text-align: right;\n",
              "    }\n",
              "</style>\n",
              "<table border=\"1\" class=\"dataframe\">\n",
              "  <thead>\n",
              "    <tr style=\"text-align: right;\">\n",
              "      <th></th>\n",
              "      <th>cvd_4types</th>\n",
              "      <th>age_s1</th>\n",
              "      <th>race</th>\n",
              "      <th>educat</th>\n",
              "      <th>mstat</th>\n",
              "      <th>hip</th>\n",
              "      <th>neck20</th>\n",
              "      <th>waist</th>\n",
              "      <th>av_weight_kg</th>\n",
              "      <th>cgpkyr</th>\n",
              "      <th>tea15</th>\n",
              "      <th>srhype</th>\n",
              "      <th>parrptdiab</th>\n",
              "      <th>bend25</th>\n",
              "      <th>happy25</th>\n",
              "      <th>tired25</th>\n",
              "      <th>hlthlm25</th>\n",
              "    </tr>\n",
              "  </thead>\n",
              "  <tbody>\n",
              "    <tr>\n",
              "      <th>3232</th>\n",
              "      <td>1</td>\n",
              "      <td>55</td>\n",
              "      <td>1</td>\n",
              "      <td>4</td>\n",
              "      <td>1</td>\n",
              "      <td>117.0</td>\n",
              "      <td>35.5</td>\n",
              "      <td>107.0</td>\n",
              "      <td>88.4</td>\n",
              "      <td>0.0</td>\n",
              "      <td>3</td>\n",
              "      <td>0</td>\n",
              "      <td>0</td>\n",
              "      <td>3</td>\n",
              "      <td>1</td>\n",
              "      <td>5</td>\n",
              "      <td>4</td>\n",
              "    </tr>\n",
              "    <tr>\n",
              "      <th>3233</th>\n",
              "      <td>1</td>\n",
              "      <td>71</td>\n",
              "      <td>1</td>\n",
              "      <td>1</td>\n",
              "      <td>2</td>\n",
              "      <td>114.0</td>\n",
              "      <td>35.0</td>\n",
              "      <td>117.0</td>\n",
              "      <td>85.1</td>\n",
              "      <td>0.0</td>\n",
              "      <td>0</td>\n",
              "      <td>1</td>\n",
              "      <td>0</td>\n",
              "      <td>1</td>\n",
              "      <td>3</td>\n",
              "      <td>4</td>\n",
              "      <td>4</td>\n",
              "    </tr>\n",
              "    <tr>\n",
              "      <th>3234</th>\n",
              "      <td>1</td>\n",
              "      <td>55</td>\n",
              "      <td>1</td>\n",
              "      <td>3</td>\n",
              "      <td>1</td>\n",
              "      <td>93.0</td>\n",
              "      <td>29.5</td>\n",
              "      <td>81.0</td>\n",
              "      <td>76.7</td>\n",
              "      <td>0.0</td>\n",
              "      <td>0</td>\n",
              "      <td>0</td>\n",
              "      <td>0</td>\n",
              "      <td>3</td>\n",
              "      <td>2</td>\n",
              "      <td>4</td>\n",
              "      <td>4</td>\n",
              "    </tr>\n",
              "    <tr>\n",
              "      <th>3235</th>\n",
              "      <td>1</td>\n",
              "      <td>59</td>\n",
              "      <td>1</td>\n",
              "      <td>1</td>\n",
              "      <td>1</td>\n",
              "      <td>104.0</td>\n",
              "      <td>40.0</td>\n",
              "      <td>101.0</td>\n",
              "      <td>87.5</td>\n",
              "      <td>0.0</td>\n",
              "      <td>0</td>\n",
              "      <td>1</td>\n",
              "      <td>0</td>\n",
              "      <td>3</td>\n",
              "      <td>2</td>\n",
              "      <td>5</td>\n",
              "      <td>4</td>\n",
              "    </tr>\n",
              "    <tr>\n",
              "      <th>3236</th>\n",
              "      <td>1</td>\n",
              "      <td>54</td>\n",
              "      <td>1</td>\n",
              "      <td>2</td>\n",
              "      <td>1</td>\n",
              "      <td>115.0</td>\n",
              "      <td>36.0</td>\n",
              "      <td>103.0</td>\n",
              "      <td>84.4</td>\n",
              "      <td>14.0</td>\n",
              "      <td>0</td>\n",
              "      <td>0</td>\n",
              "      <td>0</td>\n",
              "      <td>3</td>\n",
              "      <td>2</td>\n",
              "      <td>5</td>\n",
              "      <td>4</td>\n",
              "    </tr>\n",
              "    <tr>\n",
              "      <th>3237</th>\n",
              "      <td>1</td>\n",
              "      <td>66</td>\n",
              "      <td>1</td>\n",
              "      <td>2</td>\n",
              "      <td>1</td>\n",
              "      <td>95.0</td>\n",
              "      <td>41.5</td>\n",
              "      <td>99.0</td>\n",
              "      <td>88.2</td>\n",
              "      <td>0.0</td>\n",
              "      <td>0</td>\n",
              "      <td>1</td>\n",
              "      <td>0</td>\n",
              "      <td>2</td>\n",
              "      <td>2</td>\n",
              "      <td>5</td>\n",
              "      <td>4</td>\n",
              "    </tr>\n",
              "    <tr>\n",
              "      <th>3238</th>\n",
              "      <td>1</td>\n",
              "      <td>54</td>\n",
              "      <td>1</td>\n",
              "      <td>3</td>\n",
              "      <td>1</td>\n",
              "      <td>99.0</td>\n",
              "      <td>34.9</td>\n",
              "      <td>99.0</td>\n",
              "      <td>83.3</td>\n",
              "      <td>30.0</td>\n",
              "      <td>0</td>\n",
              "      <td>0</td>\n",
              "      <td>0</td>\n",
              "      <td>3</td>\n",
              "      <td>3</td>\n",
              "      <td>3</td>\n",
              "      <td>4</td>\n",
              "    </tr>\n",
              "    <tr>\n",
              "      <th>3239</th>\n",
              "      <td>1</td>\n",
              "      <td>55</td>\n",
              "      <td>1</td>\n",
              "      <td>4</td>\n",
              "      <td>1</td>\n",
              "      <td>101.0</td>\n",
              "      <td>37.0</td>\n",
              "      <td>91.0</td>\n",
              "      <td>75.2</td>\n",
              "      <td>0.0</td>\n",
              "      <td>0</td>\n",
              "      <td>0</td>\n",
              "      <td>0</td>\n",
              "      <td>3</td>\n",
              "      <td>2</td>\n",
              "      <td>5</td>\n",
              "      <td>4</td>\n",
              "    </tr>\n",
              "    <tr>\n",
              "      <th>3240</th>\n",
              "      <td>1</td>\n",
              "      <td>53</td>\n",
              "      <td>1</td>\n",
              "      <td>2</td>\n",
              "      <td>1</td>\n",
              "      <td>98.0</td>\n",
              "      <td>39.0</td>\n",
              "      <td>93.0</td>\n",
              "      <td>79.0</td>\n",
              "      <td>0.0</td>\n",
              "      <td>0</td>\n",
              "      <td>0</td>\n",
              "      <td>0</td>\n",
              "      <td>2</td>\n",
              "      <td>2</td>\n",
              "      <td>5</td>\n",
              "      <td>4</td>\n",
              "    </tr>\n",
              "    <tr>\n",
              "      <th>3241</th>\n",
              "      <td>1</td>\n",
              "      <td>54</td>\n",
              "      <td>1</td>\n",
              "      <td>2</td>\n",
              "      <td>1</td>\n",
              "      <td>109.0</td>\n",
              "      <td>48.6</td>\n",
              "      <td>112.0</td>\n",
              "      <td>93.5</td>\n",
              "      <td>39.0</td>\n",
              "      <td>0</td>\n",
              "      <td>1</td>\n",
              "      <td>0</td>\n",
              "      <td>3</td>\n",
              "      <td>2</td>\n",
              "      <td>5</td>\n",
              "      <td>4</td>\n",
              "    </tr>\n",
              "  </tbody>\n",
              "</table>\n",
              "</div>"
            ],
            "text/plain": [
              "      cvd_4types  age_s1  race  educat  ...  bend25  happy25  tired25  hlthlm25\n",
              "3232           1      55     1       4  ...       3        1        5         4\n",
              "3233           1      71     1       1  ...       1        3        4         4\n",
              "3234           1      55     1       3  ...       3        2        4         4\n",
              "3235           1      59     1       1  ...       3        2        5         4\n",
              "3236           1      54     1       2  ...       3        2        5         4\n",
              "3237           1      66     1       2  ...       2        2        5         4\n",
              "3238           1      54     1       3  ...       3        3        3         4\n",
              "3239           1      55     1       4  ...       3        2        5         4\n",
              "3240           1      53     1       2  ...       2        2        5         4\n",
              "3241           1      54     1       2  ...       3        2        5         4\n",
              "\n",
              "[10 rows x 17 columns]"
            ]
          },
          "metadata": {
            "tags": []
          },
          "execution_count": 8
        }
      ]
    },
    {
      "cell_type": "code",
      "metadata": {
        "colab": {
          "base_uri": "https://localhost:8080/",
          "height": 316
        },
        "id": "5YNfXuhfTkA4",
        "outputId": "4677531c-0c8e-479a-afcb-726b37fdc47d"
      },
      "source": [
        "#comparing cardiovascular disease\n",
        "#0 = no cardiovascular, 1 = has cardiovascular\n",
        "import seaborn as sn\n",
        "sn.countplot(x='cvd_4types', data=df)\n",
        "plt.title('Cardiovascular Disease', fontsize = 15)\n"
      ],
      "execution_count": 9,
      "outputs": [
        {
          "output_type": "execute_result",
          "data": {
            "text/plain": [
              "Text(0.5, 1.0, 'Cardiovascular Disease')"
            ]
          },
          "metadata": {
            "tags": []
          },
          "execution_count": 9
        },
        {
          "output_type": "display_data",
          "data": {
            "image/png": "[encoded data removed]",
            "text/plain": [
              "<Figure size 432x288 with 1 Axes>"
            ]
          },
          "metadata": {
            "tags": [],
            "needs_background": "light"
          }
        }
      ]
    },
    {
      "cell_type": "code",
      "metadata": {
        "colab": {
          "base_uri": "https://localhost:8080/",
          "height": 602
        },
        "id": "E50znf8hfSCl",
        "outputId": "7fb797c1-1eee-46fb-cdd4-22e8d1e8b35f"
      },
      "source": [
        "#checking correlation coefficient for each variable with correlation matrix\n",
        "df.corr()"
      ],
      "execution_count": 10,
      "outputs": [
        {
          "output_type": "execute_result",
          "data": {
            "text/html": [
              "<div>\n",
              "<style scoped>\n",
              "    .dataframe tbody tr th:only-of-type {\n",
              "        vertical-align: middle;\n",
              "    }\n",
              "\n",
              "    .dataframe tbody tr th {\n",
              "        vertical-align: top;\n",
              "    }\n",
              "\n",
              "    .dataframe thead th {\n",
              "        text-align: right;\n",
              "    }\n",
              "</style>\n",
              "<table border=\"1\" class=\"dataframe\">\n",
              "  <thead>\n",
              "    <tr style=\"text-align: right;\">\n",
              "      <th></th>\n",
              "      <th>cvd_4types</th>\n",
              "      <th>age_s1</th>\n",
              "      <th>race</th>\n",
              "      <th>educat</th>\n",
              "      <th>mstat</th>\n",
              "      <th>hip</th>\n",
              "      <th>neck20</th>\n",
              "      <th>waist</th>\n",
              "      <th>av_weight_kg</th>\n",
              "      <th>cgpkyr</th>\n",
              "      <th>tea15</th>\n",
              "      <th>srhype</th>\n",
              "      <th>parrptdiab</th>\n",
              "      <th>bend25</th>\n",
              "      <th>happy25</th>\n",
              "      <th>tired25</th>\n",
              "      <th>hlthlm25</th>\n",
              "    </tr>\n",
              "  </thead>\n",
              "  <tbody>\n",
              "    <tr>\n",
              "      <th>cvd_4types</th>\n",
              "      <td>1.000000</td>\n",
              "      <td>0.089168</td>\n",
              "      <td>-0.143843</td>\n",
              "      <td>0.053662</td>\n",
              "      <td>-0.076659</td>\n",
              "      <td>0.018482</td>\n",
              "      <td>0.101653</td>\n",
              "      <td>0.203104</td>\n",
              "      <td>0.058616</td>\n",
              "      <td>0.037151</td>\n",
              "      <td>-0.028436</td>\n",
              "      <td>0.071819</td>\n",
              "      <td>0.074406</td>\n",
              "      <td>-0.009653</td>\n",
              "      <td>-0.033048</td>\n",
              "      <td>0.022130</td>\n",
              "      <td>-0.126168</td>\n",
              "    </tr>\n",
              "    <tr>\n",
              "      <th>age_s1</th>\n",
              "      <td>0.089168</td>\n",
              "      <td>1.000000</td>\n",
              "      <td>0.000626</td>\n",
              "      <td>-0.207595</td>\n",
              "      <td>0.013170</td>\n",
              "      <td>-0.121743</td>\n",
              "      <td>-0.001135</td>\n",
              "      <td>0.086363</td>\n",
              "      <td>0.073152</td>\n",
              "      <td>0.072336</td>\n",
              "      <td>-0.007279</td>\n",
              "      <td>0.268032</td>\n",
              "      <td>0.140819</td>\n",
              "      <td>-0.224303</td>\n",
              "      <td>-0.044323</td>\n",
              "      <td>0.012448</td>\n",
              "      <td>-0.164790</td>\n",
              "    </tr>\n",
              "    <tr>\n",
              "      <th>race</th>\n",
              "      <td>-0.143843</td>\n",
              "      <td>0.000626</td>\n",
              "      <td>1.000000</td>\n",
              "      <td>-0.061934</td>\n",
              "      <td>0.058878</td>\n",
              "      <td>0.030535</td>\n",
              "      <td>-0.010810</td>\n",
              "      <td>0.012960</td>\n",
              "      <td>0.045118</td>\n",
              "      <td>-0.040240</td>\n",
              "      <td>-0.005746</td>\n",
              "      <td>0.053822</td>\n",
              "      <td>0.079818</td>\n",
              "      <td>-0.064647</td>\n",
              "      <td>0.005103</td>\n",
              "      <td>-0.014226</td>\n",
              "      <td>-0.117117</td>\n",
              "    </tr>\n",
              "    <tr>\n",
              "      <th>educat</th>\n",
              "      <td>0.053662</td>\n",
              "      <td>-0.207595</td>\n",
              "      <td>-0.061934</td>\n",
              "      <td>1.000000</td>\n",
              "      <td>0.026047</td>\n",
              "      <td>-0.008162</td>\n",
              "      <td>0.000856</td>\n",
              "      <td>-0.057212</td>\n",
              "      <td>-0.052692</td>\n",
              "      <td>-0.047632</td>\n",
              "      <td>0.022097</td>\n",
              "      <td>-0.110072</td>\n",
              "      <td>-0.117066</td>\n",
              "      <td>0.166887</td>\n",
              "      <td>-0.093659</td>\n",
              "      <td>0.079794</td>\n",
              "      <td>0.096398</td>\n",
              "    </tr>\n",
              "    <tr>\n",
              "      <th>mstat</th>\n",
              "      <td>-0.076659</td>\n",
              "      <td>0.013170</td>\n",
              "      <td>0.058878</td>\n",
              "      <td>0.026047</td>\n",
              "      <td>1.000000</td>\n",
              "      <td>0.012425</td>\n",
              "      <td>-0.078962</td>\n",
              "      <td>-0.044175</td>\n",
              "      <td>-0.046429</td>\n",
              "      <td>-0.006983</td>\n",
              "      <td>0.012250</td>\n",
              "      <td>-0.002689</td>\n",
              "      <td>0.012210</td>\n",
              "      <td>-0.016304</td>\n",
              "      <td>0.033619</td>\n",
              "      <td>-0.031645</td>\n",
              "      <td>-0.055162</td>\n",
              "    </tr>\n",
              "    <tr>\n",
              "      <th>hip</th>\n",
              "      <td>0.018482</td>\n",
              "      <td>-0.121743</td>\n",
              "      <td>0.030535</td>\n",
              "      <td>-0.008162</td>\n",
              "      <td>0.012425</td>\n",
              "      <td>1.000000</td>\n",
              "      <td>0.321828</td>\n",
              "      <td>0.710743</td>\n",
              "      <td>0.428565</td>\n",
              "      <td>-0.006662</td>\n",
              "      <td>0.003894</td>\n",
              "      <td>0.121578</td>\n",
              "      <td>0.085835</td>\n",
              "      <td>-0.229975</td>\n",
              "      <td>0.029561</td>\n",
              "      <td>-0.131190</td>\n",
              "      <td>-0.096214</td>\n",
              "    </tr>\n",
              "    <tr>\n",
              "      <th>neck20</th>\n",
              "      <td>0.101653</td>\n",
              "      <td>-0.001135</td>\n",
              "      <td>-0.010810</td>\n",
              "      <td>0.000856</td>\n",
              "      <td>-0.078962</td>\n",
              "      <td>0.321828</td>\n",
              "      <td>1.000000</td>\n",
              "      <td>0.617500</td>\n",
              "      <td>0.525890</td>\n",
              "      <td>0.190235</td>\n",
              "      <td>0.022729</td>\n",
              "      <td>0.105139</td>\n",
              "      <td>0.118303</td>\n",
              "      <td>-0.091327</td>\n",
              "      <td>0.008170</td>\n",
              "      <td>0.002945</td>\n",
              "      <td>-0.010144</td>\n",
              "    </tr>\n",
              "    <tr>\n",
              "      <th>waist</th>\n",
              "      <td>0.203104</td>\n",
              "      <td>0.086363</td>\n",
              "      <td>0.012960</td>\n",
              "      <td>-0.057212</td>\n",
              "      <td>-0.044175</td>\n",
              "      <td>0.710743</td>\n",
              "      <td>0.617500</td>\n",
              "      <td>1.000000</td>\n",
              "      <td>0.641330</td>\n",
              "      <td>0.112615</td>\n",
              "      <td>0.014916</td>\n",
              "      <td>0.201122</td>\n",
              "      <td>0.134582</td>\n",
              "      <td>-0.246275</td>\n",
              "      <td>0.020475</td>\n",
              "      <td>-0.091524</td>\n",
              "      <td>-0.111527</td>\n",
              "    </tr>\n",
              "    <tr>\n",
              "      <th>av_weight_kg</th>\n",
              "      <td>0.058616</td>\n",
              "      <td>0.073152</td>\n",
              "      <td>0.045118</td>\n",
              "      <td>-0.052692</td>\n",
              "      <td>-0.046429</td>\n",
              "      <td>0.428565</td>\n",
              "      <td>0.525890</td>\n",
              "      <td>0.641330</td>\n",
              "      <td>1.000000</td>\n",
              "      <td>0.111671</td>\n",
              "      <td>0.013763</td>\n",
              "      <td>0.196695</td>\n",
              "      <td>0.094746</td>\n",
              "      <td>-0.155036</td>\n",
              "      <td>0.028020</td>\n",
              "      <td>-0.054466</td>\n",
              "      <td>-0.015056</td>\n",
              "    </tr>\n",
              "    <tr>\n",
              "      <th>cgpkyr</th>\n",
              "      <td>0.037151</td>\n",
              "      <td>0.072336</td>\n",
              "      <td>-0.040240</td>\n",
              "      <td>-0.047632</td>\n",
              "      <td>-0.006983</td>\n",
              "      <td>-0.006662</td>\n",
              "      <td>0.190235</td>\n",
              "      <td>0.112615</td>\n",
              "      <td>0.111671</td>\n",
              "      <td>1.000000</td>\n",
              "      <td>0.000500</td>\n",
              "      <td>0.013163</td>\n",
              "      <td>0.044049</td>\n",
              "      <td>-0.056544</td>\n",
              "      <td>0.026469</td>\n",
              "      <td>-0.051990</td>\n",
              "      <td>-0.030523</td>\n",
              "    </tr>\n",
              "    <tr>\n",
              "      <th>tea15</th>\n",
              "      <td>-0.028436</td>\n",
              "      <td>-0.007279</td>\n",
              "      <td>-0.005746</td>\n",
              "      <td>0.022097</td>\n",
              "      <td>0.012250</td>\n",
              "      <td>0.003894</td>\n",
              "      <td>0.022729</td>\n",
              "      <td>0.014916</td>\n",
              "      <td>0.013763</td>\n",
              "      <td>0.000500</td>\n",
              "      <td>1.000000</td>\n",
              "      <td>-0.018012</td>\n",
              "      <td>-0.012237</td>\n",
              "      <td>0.011131</td>\n",
              "      <td>-0.004694</td>\n",
              "      <td>0.002935</td>\n",
              "      <td>0.022939</td>\n",
              "    </tr>\n",
              "    <tr>\n",
              "      <th>srhype</th>\n",
              "      <td>0.071819</td>\n",
              "      <td>0.268032</td>\n",
              "      <td>0.053822</td>\n",
              "      <td>-0.110072</td>\n",
              "      <td>-0.002689</td>\n",
              "      <td>0.121578</td>\n",
              "      <td>0.105139</td>\n",
              "      <td>0.201122</td>\n",
              "      <td>0.196695</td>\n",
              "      <td>0.013163</td>\n",
              "      <td>-0.018012</td>\n",
              "      <td>1.000000</td>\n",
              "      <td>0.134026</td>\n",
              "      <td>-0.154113</td>\n",
              "      <td>0.048315</td>\n",
              "      <td>-0.085701</td>\n",
              "      <td>-0.141636</td>\n",
              "    </tr>\n",
              "    <tr>\n",
              "      <th>parrptdiab</th>\n",
              "      <td>0.074406</td>\n",
              "      <td>0.140819</td>\n",
              "      <td>0.079818</td>\n",
              "      <td>-0.117066</td>\n",
              "      <td>0.012210</td>\n",
              "      <td>0.085835</td>\n",
              "      <td>0.118303</td>\n",
              "      <td>0.134582</td>\n",
              "      <td>0.094746</td>\n",
              "      <td>0.044049</td>\n",
              "      <td>-0.012237</td>\n",
              "      <td>0.134026</td>\n",
              "      <td>1.000000</td>\n",
              "      <td>-0.122084</td>\n",
              "      <td>0.039256</td>\n",
              "      <td>-0.037445</td>\n",
              "      <td>-0.090878</td>\n",
              "    </tr>\n",
              "    <tr>\n",
              "      <th>bend25</th>\n",
              "      <td>-0.009653</td>\n",
              "      <td>-0.224303</td>\n",
              "      <td>-0.064647</td>\n",
              "      <td>0.166887</td>\n",
              "      <td>-0.016304</td>\n",
              "      <td>-0.229975</td>\n",
              "      <td>-0.091327</td>\n",
              "      <td>-0.246275</td>\n",
              "      <td>-0.155036</td>\n",
              "      <td>-0.056544</td>\n",
              "      <td>0.011131</td>\n",
              "      <td>-0.154113</td>\n",
              "      <td>-0.122084</td>\n",
              "      <td>1.000000</td>\n",
              "      <td>-0.152462</td>\n",
              "      <td>0.283390</td>\n",
              "      <td>0.267927</td>\n",
              "    </tr>\n",
              "    <tr>\n",
              "      <th>happy25</th>\n",
              "      <td>-0.033048</td>\n",
              "      <td>-0.044323</td>\n",
              "      <td>0.005103</td>\n",
              "      <td>-0.093659</td>\n",
              "      <td>0.033619</td>\n",
              "      <td>0.029561</td>\n",
              "      <td>0.008170</td>\n",
              "      <td>0.020475</td>\n",
              "      <td>0.028020</td>\n",
              "      <td>0.026469</td>\n",
              "      <td>-0.004694</td>\n",
              "      <td>0.048315</td>\n",
              "      <td>0.039256</td>\n",
              "      <td>-0.152462</td>\n",
              "      <td>1.000000</td>\n",
              "      <td>-0.320671</td>\n",
              "      <td>-0.209958</td>\n",
              "    </tr>\n",
              "    <tr>\n",
              "      <th>tired25</th>\n",
              "      <td>0.022130</td>\n",
              "      <td>0.012448</td>\n",
              "      <td>-0.014226</td>\n",
              "      <td>0.079794</td>\n",
              "      <td>-0.031645</td>\n",
              "      <td>-0.131190</td>\n",
              "      <td>0.002945</td>\n",
              "      <td>-0.091524</td>\n",
              "      <td>-0.054466</td>\n",
              "      <td>-0.051990</td>\n",
              "      <td>0.002935</td>\n",
              "      <td>-0.085701</td>\n",
              "      <td>-0.037445</td>\n",
              "      <td>0.283390</td>\n",
              "      <td>-0.320671</td>\n",
              "      <td>1.000000</td>\n",
              "      <td>0.327735</td>\n",
              "    </tr>\n",
              "    <tr>\n",
              "      <th>hlthlm25</th>\n",
              "      <td>-0.126168</td>\n",
              "      <td>-0.164790</td>\n",
              "      <td>-0.117117</td>\n",
              "      <td>0.096398</td>\n",
              "      <td>-0.055162</td>\n",
              "      <td>-0.096214</td>\n",
              "      <td>-0.010144</td>\n",
              "      <td>-0.111527</td>\n",
              "      <td>-0.015056</td>\n",
              "      <td>-0.030523</td>\n",
              "      <td>0.022939</td>\n",
              "      <td>-0.141636</td>\n",
              "      <td>-0.090878</td>\n",
              "      <td>0.267927</td>\n",
              "      <td>-0.209958</td>\n",
              "      <td>0.327735</td>\n",
              "      <td>1.000000</td>\n",
              "    </tr>\n",
              "  </tbody>\n",
              "</table>\n",
              "</div>"
            ],
            "text/plain": [
              "              cvd_4types    age_s1      race  ...   happy25   tired25  hlthlm25\n",
              "cvd_4types      1.000000  0.089168 -0.143843  ... -0.033048  0.022130 -0.126168\n",
              "age_s1          0.089168  1.000000  0.000626  ... -0.044323  0.012448 -0.164790\n",
              "race           -0.143843  0.000626  1.000000  ...  0.005103 -0.014226 -0.117117\n",
              "educat          0.053662 -0.207595 -0.061934  ... -0.093659  0.079794  0.096398\n",
              "mstat          -0.076659  0.013170  0.058878  ...  0.033619 -0.031645 -0.055162\n",
              "hip             0.018482 -0.121743  0.030535  ...  0.029561 -0.131190 -0.096214\n",
              "neck20          0.101653 -0.001135 -0.010810  ...  0.008170  0.002945 -0.010144\n",
              "waist           0.203104  0.086363  0.012960  ...  0.020475 -0.091524 -0.111527\n",
              "av_weight_kg    0.058616  0.073152  0.045118  ...  0.028020 -0.054466 -0.015056\n",
              "cgpkyr          0.037151  0.072336 -0.040240  ...  0.026469 -0.051990 -0.030523\n",
              "tea15          -0.028436 -0.007279 -0.005746  ... -0.004694  0.002935  0.022939\n",
              "srhype          0.071819  0.268032  0.053822  ...  0.048315 -0.085701 -0.141636\n",
              "parrptdiab      0.074406  0.140819  0.079818  ...  0.039256 -0.037445 -0.090878\n",
              "bend25         -0.009653 -0.224303 -0.064647  ... -0.152462  0.283390  0.267927\n",
              "happy25        -0.033048 -0.044323  0.005103  ...  1.000000 -0.320671 -0.209958\n",
              "tired25         0.022130  0.012448 -0.014226  ... -0.320671  1.000000  0.327735\n",
              "hlthlm25       -0.126168 -0.164790 -0.117117  ... -0.209958  0.327735  1.000000\n",
              "\n",
              "[17 rows x 17 columns]"
            ]
          },
          "metadata": {
            "tags": []
          },
          "execution_count": 10
        }
      ]
    },
    {
      "cell_type": "code",
      "metadata": {
        "colab": {
          "base_uri": "https://localhost:8080/",
          "height": 524
        },
        "id": "mlNsFZ45fc-2",
        "outputId": "a722cec3-da02-4860-eabc-d70f195cc7f6"
      },
      "source": [
        "\n",
        "plt.figure(figsize=(20,8))\n",
        "\n",
        "#np.triu = to isolate the upper triangle of a matrix while turning all the values in the lower triangle into 0\n",
        "#When we set the datatype to ‘boolean’, all 1 turns into True, all 0 into False.\n",
        "mask = np.triu(np.ones_like(df.corr(), dtype=np.bool))\n",
        "\n",
        "heatmap = sn.heatmap(df.corr(), mask=mask, annot=True, cmap=\"vlag\", linewidths=.5)\n",
        "heatmap.set_title('Correlation Heatmap', fontdict={'fontsize':12}, pad=12)"
      ],
      "execution_count": 11,
      "outputs": [
        {
          "output_type": "execute_result",
          "data": {
            "text/plain": [
              "Text(0.5, 1.0, 'Correlation Heatmap')"
            ]
          },
          "metadata": {
            "tags": []
          },
          "execution_count": 11
        },
        {
          "output_type": "display_data",
          "data": {
            "image/png": "[encoded data removed]",
            "text/plain": [
              "<Figure size 1440x576 with 2 Axes>"
            ]
          },
          "metadata": {
            "tags": [],
            "needs_background": "light"
          }
        }
      ]
    },
    {
      "cell_type": "markdown",
      "metadata": {
        "id": "HzYULAfuI3o5"
      },
      "source": [
        "Removing some variables with high correlation to eliminate multi-collinearity. Based on the above graph, the variable of \"waist\" will be eliminated as it has a high correlation with \"hip\""
      ]
    },
    {
      "cell_type": "code",
      "metadata": {
        "colab": {
          "base_uri": "https://localhost:8080/",
          "height": 363
        },
        "id": "l3bS51_mMCxZ",
        "outputId": "01fd71f2-b5bb-4a68-e6a9-d081c090dd24"
      },
      "source": [
        "df = df.drop('waist', axis = 'columns')\n",
        "df.head(10)"
      ],
      "execution_count": 12,
      "outputs": [
        {
          "output_type": "execute_result",
          "data": {
            "text/html": [
              "<div>\n",
              "<style scoped>\n",
              "    .dataframe tbody tr th:only-of-type {\n",
              "        vertical-align: middle;\n",
              "    }\n",
              "\n",
              "    .dataframe tbody tr th {\n",
              "        vertical-align: top;\n",
              "    }\n",
              "\n",
              "    .dataframe thead th {\n",
              "        text-align: right;\n",
              "    }\n",
              "</style>\n",
              "<table border=\"1\" class=\"dataframe\">\n",
              "  <thead>\n",
              "    <tr style=\"text-align: right;\">\n",
              "      <th></th>\n",
              "      <th>cvd_4types</th>\n",
              "      <th>age_s1</th>\n",
              "      <th>race</th>\n",
              "      <th>educat</th>\n",
              "      <th>mstat</th>\n",
              "      <th>hip</th>\n",
              "      <th>neck20</th>\n",
              "      <th>av_weight_kg</th>\n",
              "      <th>cgpkyr</th>\n",
              "      <th>tea15</th>\n",
              "      <th>srhype</th>\n",
              "      <th>parrptdiab</th>\n",
              "      <th>bend25</th>\n",
              "      <th>happy25</th>\n",
              "      <th>tired25</th>\n",
              "      <th>hlthlm25</th>\n",
              "    </tr>\n",
              "  </thead>\n",
              "  <tbody>\n",
              "    <tr>\n",
              "      <th>0</th>\n",
              "      <td>0</td>\n",
              "      <td>54</td>\n",
              "      <td>1</td>\n",
              "      <td>2</td>\n",
              "      <td>1</td>\n",
              "      <td>110.0</td>\n",
              "      <td>40.0</td>\n",
              "      <td>87.5</td>\n",
              "      <td>34.00</td>\n",
              "      <td>0</td>\n",
              "      <td>1</td>\n",
              "      <td>0</td>\n",
              "      <td>1</td>\n",
              "      <td>2</td>\n",
              "      <td>3</td>\n",
              "      <td>4</td>\n",
              "    </tr>\n",
              "    <tr>\n",
              "      <th>1</th>\n",
              "      <td>0</td>\n",
              "      <td>56</td>\n",
              "      <td>3</td>\n",
              "      <td>2</td>\n",
              "      <td>1</td>\n",
              "      <td>113.0</td>\n",
              "      <td>34.0</td>\n",
              "      <td>83.5</td>\n",
              "      <td>0.00</td>\n",
              "      <td>0</td>\n",
              "      <td>0</td>\n",
              "      <td>0</td>\n",
              "      <td>2</td>\n",
              "      <td>2</td>\n",
              "      <td>1</td>\n",
              "      <td>3</td>\n",
              "    </tr>\n",
              "    <tr>\n",
              "      <th>2</th>\n",
              "      <td>0</td>\n",
              "      <td>54</td>\n",
              "      <td>1</td>\n",
              "      <td>3</td>\n",
              "      <td>1</td>\n",
              "      <td>110.0</td>\n",
              "      <td>44.5</td>\n",
              "      <td>86.2</td>\n",
              "      <td>49.50</td>\n",
              "      <td>0</td>\n",
              "      <td>0</td>\n",
              "      <td>0</td>\n",
              "      <td>3</td>\n",
              "      <td>2</td>\n",
              "      <td>6</td>\n",
              "      <td>4</td>\n",
              "    </tr>\n",
              "    <tr>\n",
              "      <th>3</th>\n",
              "      <td>0</td>\n",
              "      <td>54</td>\n",
              "      <td>1</td>\n",
              "      <td>3</td>\n",
              "      <td>1</td>\n",
              "      <td>129.0</td>\n",
              "      <td>42.5</td>\n",
              "      <td>89.1</td>\n",
              "      <td>0.00</td>\n",
              "      <td>0</td>\n",
              "      <td>0</td>\n",
              "      <td>0</td>\n",
              "      <td>3</td>\n",
              "      <td>2</td>\n",
              "      <td>1</td>\n",
              "      <td>3</td>\n",
              "    </tr>\n",
              "    <tr>\n",
              "      <th>4</th>\n",
              "      <td>0</td>\n",
              "      <td>51</td>\n",
              "      <td>3</td>\n",
              "      <td>2</td>\n",
              "      <td>1</td>\n",
              "      <td>122.0</td>\n",
              "      <td>37.0</td>\n",
              "      <td>81.3</td>\n",
              "      <td>0.00</td>\n",
              "      <td>0</td>\n",
              "      <td>0</td>\n",
              "      <td>0</td>\n",
              "      <td>2</td>\n",
              "      <td>1</td>\n",
              "      <td>1</td>\n",
              "      <td>2</td>\n",
              "    </tr>\n",
              "    <tr>\n",
              "      <th>5</th>\n",
              "      <td>0</td>\n",
              "      <td>67</td>\n",
              "      <td>1</td>\n",
              "      <td>3</td>\n",
              "      <td>3</td>\n",
              "      <td>140.0</td>\n",
              "      <td>35.5</td>\n",
              "      <td>87.2</td>\n",
              "      <td>0.00</td>\n",
              "      <td>0</td>\n",
              "      <td>1</td>\n",
              "      <td>0</td>\n",
              "      <td>1</td>\n",
              "      <td>1</td>\n",
              "      <td>4</td>\n",
              "      <td>4</td>\n",
              "    </tr>\n",
              "    <tr>\n",
              "      <th>6</th>\n",
              "      <td>0</td>\n",
              "      <td>68</td>\n",
              "      <td>1</td>\n",
              "      <td>2</td>\n",
              "      <td>1</td>\n",
              "      <td>101.0</td>\n",
              "      <td>39.0</td>\n",
              "      <td>80.5</td>\n",
              "      <td>9.20</td>\n",
              "      <td>0</td>\n",
              "      <td>0</td>\n",
              "      <td>0</td>\n",
              "      <td>2</td>\n",
              "      <td>3</td>\n",
              "      <td>4</td>\n",
              "      <td>4</td>\n",
              "    </tr>\n",
              "    <tr>\n",
              "      <th>7</th>\n",
              "      <td>0</td>\n",
              "      <td>67</td>\n",
              "      <td>1</td>\n",
              "      <td>2</td>\n",
              "      <td>1</td>\n",
              "      <td>107.0</td>\n",
              "      <td>32.0</td>\n",
              "      <td>73.2</td>\n",
              "      <td>0.00</td>\n",
              "      <td>0</td>\n",
              "      <td>1</td>\n",
              "      <td>0</td>\n",
              "      <td>2</td>\n",
              "      <td>2</td>\n",
              "      <td>4</td>\n",
              "      <td>4</td>\n",
              "    </tr>\n",
              "    <tr>\n",
              "      <th>8</th>\n",
              "      <td>0</td>\n",
              "      <td>44</td>\n",
              "      <td>1</td>\n",
              "      <td>2</td>\n",
              "      <td>1</td>\n",
              "      <td>100.0</td>\n",
              "      <td>36.5</td>\n",
              "      <td>79.1</td>\n",
              "      <td>6.75</td>\n",
              "      <td>0</td>\n",
              "      <td>0</td>\n",
              "      <td>0</td>\n",
              "      <td>3</td>\n",
              "      <td>3</td>\n",
              "      <td>4</td>\n",
              "      <td>4</td>\n",
              "    </tr>\n",
              "    <tr>\n",
              "      <th>9</th>\n",
              "      <td>0</td>\n",
              "      <td>42</td>\n",
              "      <td>1</td>\n",
              "      <td>2</td>\n",
              "      <td>1</td>\n",
              "      <td>105.0</td>\n",
              "      <td>35.5</td>\n",
              "      <td>78.1</td>\n",
              "      <td>21.00</td>\n",
              "      <td>0</td>\n",
              "      <td>0</td>\n",
              "      <td>0</td>\n",
              "      <td>3</td>\n",
              "      <td>2</td>\n",
              "      <td>3</td>\n",
              "      <td>3</td>\n",
              "    </tr>\n",
              "  </tbody>\n",
              "</table>\n",
              "</div>"
            ],
            "text/plain": [
              "   cvd_4types  age_s1  race  educat  ...  bend25  happy25  tired25  hlthlm25\n",
              "0           0      54     1       2  ...       1        2        3         4\n",
              "1           0      56     3       2  ...       2        2        1         3\n",
              "2           0      54     1       3  ...       3        2        6         4\n",
              "3           0      54     1       3  ...       3        2        1         3\n",
              "4           0      51     3       2  ...       2        1        1         2\n",
              "5           0      67     1       3  ...       1        1        4         4\n",
              "6           0      68     1       2  ...       2        3        4         4\n",
              "7           0      67     1       2  ...       2        2        4         4\n",
              "8           0      44     1       2  ...       3        3        4         4\n",
              "9           0      42     1       2  ...       3        2        3         3\n",
              "\n",
              "[10 rows x 16 columns]"
            ]
          },
          "metadata": {
            "tags": []
          },
          "execution_count": 12
        }
      ]
    },
    {
      "cell_type": "markdown",
      "metadata": {
        "id": "F2AiLFzAF9jo"
      },
      "source": [
        "## Beautifying the dataset\n",
        "- Clarifying all the column names\n",
        "\n",
        "\n",
        "\n"
      ]
    },
    {
      "cell_type": "code",
      "metadata": {
        "colab": {
          "base_uri": "https://localhost:8080/",
          "height": 443
        },
        "id": "ZeyeB7YdDq3Q",
        "outputId": "8f196614-474f-4a05-c001-3f140e7a7d3c"
      },
      "source": [
        "#Rename the columns for a better clarification\n",
        "df.rename(columns= {'age_s1':'age', \n",
        "                    'mstat':'marital',\n",
        "                    'neck20': 'neck',\n",
        "                    'cgpkyr':'smoking_rate',\n",
        "                    'tea15':'caffeine_rate',\n",
        "                    'srhype':'hypertension',\n",
        "                    'bend25':'bending_rate',\n",
        "                    'happy25':'happiness_rate',\n",
        "                    'tired25':'fatigue_rate',\n",
        "                    'hlthlm25': 'activity_rate',\n",
        "                    'parrptdiab':'diabetes',\n",
        "                    'cvd_4types':'cvd_risk'}, inplace= True)\n",
        "df"
      ],
      "execution_count": 13,
      "outputs": [
        {
          "output_type": "execute_result",
          "data": {
            "text/html": [
              "<div>\n",
              "<style scoped>\n",
              "    .dataframe tbody tr th:only-of-type {\n",
              "        vertical-align: middle;\n",
              "    }\n",
              "\n",
              "    .dataframe tbody tr th {\n",
              "        vertical-align: top;\n",
              "    }\n",
              "\n",
              "    .dataframe thead th {\n",
              "        text-align: right;\n",
              "    }\n",
              "</style>\n",
              "<table border=\"1\" class=\"dataframe\">\n",
              "  <thead>\n",
              "    <tr style=\"text-align: right;\">\n",
              "      <th></th>\n",
              "      <th>cvd_risk</th>\n",
              "      <th>age</th>\n",
              "      <th>race</th>\n",
              "      <th>educat</th>\n",
              "      <th>marital</th>\n",
              "      <th>hip</th>\n",
              "      <th>neck</th>\n",
              "      <th>av_weight_kg</th>\n",
              "      <th>smoking_rate</th>\n",
              "      <th>caffeine_rate</th>\n",
              "      <th>hypertension</th>\n",
              "      <th>diabetes</th>\n",
              "      <th>bending_rate</th>\n",
              "      <th>happiness_rate</th>\n",
              "      <th>fatigue_rate</th>\n",
              "      <th>activity_rate</th>\n",
              "    </tr>\n",
              "  </thead>\n",
              "  <tbody>\n",
              "    <tr>\n",
              "      <th>0</th>\n",
              "      <td>0</td>\n",
              "      <td>54</td>\n",
              "      <td>1</td>\n",
              "      <td>2</td>\n",
              "      <td>1</td>\n",
              "      <td>110.0</td>\n",
              "      <td>40.0</td>\n",
              "      <td>87.5</td>\n",
              "      <td>34.0</td>\n",
              "      <td>0</td>\n",
              "      <td>1</td>\n",
              "      <td>0</td>\n",
              "      <td>1</td>\n",
              "      <td>2</td>\n",
              "      <td>3</td>\n",
              "      <td>4</td>\n",
              "    </tr>\n",
              "    <tr>\n",
              "      <th>1</th>\n",
              "      <td>0</td>\n",
              "      <td>56</td>\n",
              "      <td>3</td>\n",
              "      <td>2</td>\n",
              "      <td>1</td>\n",
              "      <td>113.0</td>\n",
              "      <td>34.0</td>\n",
              "      <td>83.5</td>\n",
              "      <td>0.0</td>\n",
              "      <td>0</td>\n",
              "      <td>0</td>\n",
              "      <td>0</td>\n",
              "      <td>2</td>\n",
              "      <td>2</td>\n",
              "      <td>1</td>\n",
              "      <td>3</td>\n",
              "    </tr>\n",
              "    <tr>\n",
              "      <th>2</th>\n",
              "      <td>0</td>\n",
              "      <td>54</td>\n",
              "      <td>1</td>\n",
              "      <td>3</td>\n",
              "      <td>1</td>\n",
              "      <td>110.0</td>\n",
              "      <td>44.5</td>\n",
              "      <td>86.2</td>\n",
              "      <td>49.5</td>\n",
              "      <td>0</td>\n",
              "      <td>0</td>\n",
              "      <td>0</td>\n",
              "      <td>3</td>\n",
              "      <td>2</td>\n",
              "      <td>6</td>\n",
              "      <td>4</td>\n",
              "    </tr>\n",
              "    <tr>\n",
              "      <th>3</th>\n",
              "      <td>0</td>\n",
              "      <td>54</td>\n",
              "      <td>1</td>\n",
              "      <td>3</td>\n",
              "      <td>1</td>\n",
              "      <td>129.0</td>\n",
              "      <td>42.5</td>\n",
              "      <td>89.1</td>\n",
              "      <td>0.0</td>\n",
              "      <td>0</td>\n",
              "      <td>0</td>\n",
              "      <td>0</td>\n",
              "      <td>3</td>\n",
              "      <td>2</td>\n",
              "      <td>1</td>\n",
              "      <td>3</td>\n",
              "    </tr>\n",
              "    <tr>\n",
              "      <th>4</th>\n",
              "      <td>0</td>\n",
              "      <td>51</td>\n",
              "      <td>3</td>\n",
              "      <td>2</td>\n",
              "      <td>1</td>\n",
              "      <td>122.0</td>\n",
              "      <td>37.0</td>\n",
              "      <td>81.3</td>\n",
              "      <td>0.0</td>\n",
              "      <td>0</td>\n",
              "      <td>0</td>\n",
              "      <td>0</td>\n",
              "      <td>2</td>\n",
              "      <td>1</td>\n",
              "      <td>1</td>\n",
              "      <td>2</td>\n",
              "    </tr>\n",
              "    <tr>\n",
              "      <th>...</th>\n",
              "      <td>...</td>\n",
              "      <td>...</td>\n",
              "      <td>...</td>\n",
              "      <td>...</td>\n",
              "      <td>...</td>\n",
              "      <td>...</td>\n",
              "      <td>...</td>\n",
              "      <td>...</td>\n",
              "      <td>...</td>\n",
              "      <td>...</td>\n",
              "      <td>...</td>\n",
              "      <td>...</td>\n",
              "      <td>...</td>\n",
              "      <td>...</td>\n",
              "      <td>...</td>\n",
              "      <td>...</td>\n",
              "    </tr>\n",
              "    <tr>\n",
              "      <th>3237</th>\n",
              "      <td>1</td>\n",
              "      <td>66</td>\n",
              "      <td>1</td>\n",
              "      <td>2</td>\n",
              "      <td>1</td>\n",
              "      <td>95.0</td>\n",
              "      <td>41.5</td>\n",
              "      <td>88.2</td>\n",
              "      <td>0.0</td>\n",
              "      <td>0</td>\n",
              "      <td>1</td>\n",
              "      <td>0</td>\n",
              "      <td>2</td>\n",
              "      <td>2</td>\n",
              "      <td>5</td>\n",
              "      <td>4</td>\n",
              "    </tr>\n",
              "    <tr>\n",
              "      <th>3238</th>\n",
              "      <td>1</td>\n",
              "      <td>54</td>\n",
              "      <td>1</td>\n",
              "      <td>3</td>\n",
              "      <td>1</td>\n",
              "      <td>99.0</td>\n",
              "      <td>34.9</td>\n",
              "      <td>83.3</td>\n",
              "      <td>30.0</td>\n",
              "      <td>0</td>\n",
              "      <td>0</td>\n",
              "      <td>0</td>\n",
              "      <td>3</td>\n",
              "      <td>3</td>\n",
              "      <td>3</td>\n",
              "      <td>4</td>\n",
              "    </tr>\n",
              "    <tr>\n",
              "      <th>3239</th>\n",
              "      <td>1</td>\n",
              "      <td>55</td>\n",
              "      <td>1</td>\n",
              "      <td>4</td>\n",
              "      <td>1</td>\n",
              "      <td>101.0</td>\n",
              "      <td>37.0</td>\n",
              "      <td>75.2</td>\n",
              "      <td>0.0</td>\n",
              "      <td>0</td>\n",
              "      <td>0</td>\n",
              "      <td>0</td>\n",
              "      <td>3</td>\n",
              "      <td>2</td>\n",
              "      <td>5</td>\n",
              "      <td>4</td>\n",
              "    </tr>\n",
              "    <tr>\n",
              "      <th>3240</th>\n",
              "      <td>1</td>\n",
              "      <td>53</td>\n",
              "      <td>1</td>\n",
              "      <td>2</td>\n",
              "      <td>1</td>\n",
              "      <td>98.0</td>\n",
              "      <td>39.0</td>\n",
              "      <td>79.0</td>\n",
              "      <td>0.0</td>\n",
              "      <td>0</td>\n",
              "      <td>0</td>\n",
              "      <td>0</td>\n",
              "      <td>2</td>\n",
              "      <td>2</td>\n",
              "      <td>5</td>\n",
              "      <td>4</td>\n",
              "    </tr>\n",
              "    <tr>\n",
              "      <th>3241</th>\n",
              "      <td>1</td>\n",
              "      <td>54</td>\n",
              "      <td>1</td>\n",
              "      <td>2</td>\n",
              "      <td>1</td>\n",
              "      <td>109.0</td>\n",
              "      <td>48.6</td>\n",
              "      <td>93.5</td>\n",
              "      <td>39.0</td>\n",
              "      <td>0</td>\n",
              "      <td>1</td>\n",
              "      <td>0</td>\n",
              "      <td>3</td>\n",
              "      <td>2</td>\n",
              "      <td>5</td>\n",
              "      <td>4</td>\n",
              "    </tr>\n",
              "  </tbody>\n",
              "</table>\n",
              "<p>3242 rows × 16 columns</p>\n",
              "</div>"
            ],
            "text/plain": [
              "      cvd_risk  age  race  ...  happiness_rate  fatigue_rate  activity_rate\n",
              "0            0   54     1  ...               2             3              4\n",
              "1            0   56     3  ...               2             1              3\n",
              "2            0   54     1  ...               2             6              4\n",
              "3            0   54     1  ...               2             1              3\n",
              "4            0   51     3  ...               1             1              2\n",
              "...        ...  ...   ...  ...             ...           ...            ...\n",
              "3237         1   66     1  ...               2             5              4\n",
              "3238         1   54     1  ...               3             3              4\n",
              "3239         1   55     1  ...               2             5              4\n",
              "3240         1   53     1  ...               2             5              4\n",
              "3241         1   54     1  ...               2             5              4\n",
              "\n",
              "[3242 rows x 16 columns]"
            ]
          },
          "metadata": {
            "tags": []
          },
          "execution_count": 13
        }
      ]
    },
    {
      "cell_type": "markdown",
      "metadata": {
        "id": "YnFwgewyV0bP"
      },
      "source": [
        "# Build Binary Classifier Models"
      ]
    },
    {
      "cell_type": "markdown",
      "metadata": {
        "id": "pvvOANBwb2cj"
      },
      "source": [
        "## Splitting the dataframe into x (variables) and y (result)"
      ]
    },
    {
      "cell_type": "code",
      "metadata": {
        "colab": {
          "base_uri": "https://localhost:8080/",
          "height": 363
        },
        "id": "McUdM6Q74F8X",
        "outputId": "71f3781a-9323-428f-d516-d39f05aa9ead"
      },
      "source": [
        "x = df.iloc[:, 1:16]\n",
        "x.head(10)"
      ],
      "execution_count": 14,
      "outputs": [
        {
          "output_type": "execute_result",
          "data": {
            "text/html": [
              "<div>\n",
              "<style scoped>\n",
              "    .dataframe tbody tr th:only-of-type {\n",
              "        vertical-align: middle;\n",
              "    }\n",
              "\n",
              "    .dataframe tbody tr th {\n",
              "        vertical-align: top;\n",
              "    }\n",
              "\n",
              "    .dataframe thead th {\n",
              "        text-align: right;\n",
              "    }\n",
              "</style>\n",
              "<table border=\"1\" class=\"dataframe\">\n",
              "  <thead>\n",
              "    <tr style=\"text-align: right;\">\n",
              "      <th></th>\n",
              "      <th>age</th>\n",
              "      <th>race</th>\n",
              "      <th>educat</th>\n",
              "      <th>marital</th>\n",
              "      <th>hip</th>\n",
              "      <th>neck</th>\n",
              "      <th>av_weight_kg</th>\n",
              "      <th>smoking_rate</th>\n",
              "      <th>caffeine_rate</th>\n",
              "      <th>hypertension</th>\n",
              "      <th>diabetes</th>\n",
              "      <th>bending_rate</th>\n",
              "      <th>happiness_rate</th>\n",
              "      <th>fatigue_rate</th>\n",
              "      <th>activity_rate</th>\n",
              "    </tr>\n",
              "  </thead>\n",
              "  <tbody>\n",
              "    <tr>\n",
              "      <th>0</th>\n",
              "      <td>54</td>\n",
              "      <td>1</td>\n",
              "      <td>2</td>\n",
              "      <td>1</td>\n",
              "      <td>110.0</td>\n",
              "      <td>40.0</td>\n",
              "      <td>87.5</td>\n",
              "      <td>34.00</td>\n",
              "      <td>0</td>\n",
              "      <td>1</td>\n",
              "      <td>0</td>\n",
              "      <td>1</td>\n",
              "      <td>2</td>\n",
              "      <td>3</td>\n",
              "      <td>4</td>\n",
              "    </tr>\n",
              "    <tr>\n",
              "      <th>1</th>\n",
              "      <td>56</td>\n",
              "      <td>3</td>\n",
              "      <td>2</td>\n",
              "      <td>1</td>\n",
              "      <td>113.0</td>\n",
              "      <td>34.0</td>\n",
              "      <td>83.5</td>\n",
              "      <td>0.00</td>\n",
              "      <td>0</td>\n",
              "      <td>0</td>\n",
              "      <td>0</td>\n",
              "      <td>2</td>\n",
              "      <td>2</td>\n",
              "      <td>1</td>\n",
              "      <td>3</td>\n",
              "    </tr>\n",
              "    <tr>\n",
              "      <th>2</th>\n",
              "      <td>54</td>\n",
              "      <td>1</td>\n",
              "      <td>3</td>\n",
              "      <td>1</td>\n",
              "      <td>110.0</td>\n",
              "      <td>44.5</td>\n",
              "      <td>86.2</td>\n",
              "      <td>49.50</td>\n",
              "      <td>0</td>\n",
              "      <td>0</td>\n",
              "      <td>0</td>\n",
              "      <td>3</td>\n",
              "      <td>2</td>\n",
              "      <td>6</td>\n",
              "      <td>4</td>\n",
              "    </tr>\n",
              "    <tr>\n",
              "      <th>3</th>\n",
              "      <td>54</td>\n",
              "      <td>1</td>\n",
              "      <td>3</td>\n",
              "      <td>1</td>\n",
              "      <td>129.0</td>\n",
              "      <td>42.5</td>\n",
              "      <td>89.1</td>\n",
              "      <td>0.00</td>\n",
              "      <td>0</td>\n",
              "      <td>0</td>\n",
              "      <td>0</td>\n",
              "      <td>3</td>\n",
              "      <td>2</td>\n",
              "      <td>1</td>\n",
              "      <td>3</td>\n",
              "    </tr>\n",
              "    <tr>\n",
              "      <th>4</th>\n",
              "      <td>51</td>\n",
              "      <td>3</td>\n",
              "      <td>2</td>\n",
              "      <td>1</td>\n",
              "      <td>122.0</td>\n",
              "      <td>37.0</td>\n",
              "      <td>81.3</td>\n",
              "      <td>0.00</td>\n",
              "      <td>0</td>\n",
              "      <td>0</td>\n",
              "      <td>0</td>\n",
              "      <td>2</td>\n",
              "      <td>1</td>\n",
              "      <td>1</td>\n",
              "      <td>2</td>\n",
              "    </tr>\n",
              "    <tr>\n",
              "      <th>5</th>\n",
              "      <td>67</td>\n",
              "      <td>1</td>\n",
              "      <td>3</td>\n",
              "      <td>3</td>\n",
              "      <td>140.0</td>\n",
              "      <td>35.5</td>\n",
              "      <td>87.2</td>\n",
              "      <td>0.00</td>\n",
              "      <td>0</td>\n",
              "      <td>1</td>\n",
              "      <td>0</td>\n",
              "      <td>1</td>\n",
              "      <td>1</td>\n",
              "      <td>4</td>\n",
              "      <td>4</td>\n",
              "    </tr>\n",
              "    <tr>\n",
              "      <th>6</th>\n",
              "      <td>68</td>\n",
              "      <td>1</td>\n",
              "      <td>2</td>\n",
              "      <td>1</td>\n",
              "      <td>101.0</td>\n",
              "      <td>39.0</td>\n",
              "      <td>80.5</td>\n",
              "      <td>9.20</td>\n",
              "      <td>0</td>\n",
              "      <td>0</td>\n",
              "      <td>0</td>\n",
              "      <td>2</td>\n",
              "      <td>3</td>\n",
              "      <td>4</td>\n",
              "      <td>4</td>\n",
              "    </tr>\n",
              "    <tr>\n",
              "      <th>7</th>\n",
              "      <td>67</td>\n",
              "      <td>1</td>\n",
              "      <td>2</td>\n",
              "      <td>1</td>\n",
              "      <td>107.0</td>\n",
              "      <td>32.0</td>\n",
              "      <td>73.2</td>\n",
              "      <td>0.00</td>\n",
              "      <td>0</td>\n",
              "      <td>1</td>\n",
              "      <td>0</td>\n",
              "      <td>2</td>\n",
              "      <td>2</td>\n",
              "      <td>4</td>\n",
              "      <td>4</td>\n",
              "    </tr>\n",
              "    <tr>\n",
              "      <th>8</th>\n",
              "      <td>44</td>\n",
              "      <td>1</td>\n",
              "      <td>2</td>\n",
              "      <td>1</td>\n",
              "      <td>100.0</td>\n",
              "      <td>36.5</td>\n",
              "      <td>79.1</td>\n",
              "      <td>6.75</td>\n",
              "      <td>0</td>\n",
              "      <td>0</td>\n",
              "      <td>0</td>\n",
              "      <td>3</td>\n",
              "      <td>3</td>\n",
              "      <td>4</td>\n",
              "      <td>4</td>\n",
              "    </tr>\n",
              "    <tr>\n",
              "      <th>9</th>\n",
              "      <td>42</td>\n",
              "      <td>1</td>\n",
              "      <td>2</td>\n",
              "      <td>1</td>\n",
              "      <td>105.0</td>\n",
              "      <td>35.5</td>\n",
              "      <td>78.1</td>\n",
              "      <td>21.00</td>\n",
              "      <td>0</td>\n",
              "      <td>0</td>\n",
              "      <td>0</td>\n",
              "      <td>3</td>\n",
              "      <td>2</td>\n",
              "      <td>3</td>\n",
              "      <td>3</td>\n",
              "    </tr>\n",
              "  </tbody>\n",
              "</table>\n",
              "</div>"
            ],
            "text/plain": [
              "   age  race  educat  ...  happiness_rate  fatigue_rate  activity_rate\n",
              "0   54     1       2  ...               2             3              4\n",
              "1   56     3       2  ...               2             1              3\n",
              "2   54     1       3  ...               2             6              4\n",
              "3   54     1       3  ...               2             1              3\n",
              "4   51     3       2  ...               1             1              2\n",
              "5   67     1       3  ...               1             4              4\n",
              "6   68     1       2  ...               3             4              4\n",
              "7   67     1       2  ...               2             4              4\n",
              "8   44     1       2  ...               3             4              4\n",
              "9   42     1       2  ...               2             3              3\n",
              "\n",
              "[10 rows x 15 columns]"
            ]
          },
          "metadata": {
            "tags": []
          },
          "execution_count": 14
        }
      ]
    },
    {
      "cell_type": "code",
      "metadata": {
        "colab": {
          "base_uri": "https://localhost:8080/",
          "height": 363
        },
        "id": "80WmIGPw3XVl",
        "outputId": "feb9c00d-34f4-4a1e-834c-df002c461423"
      },
      "source": [
        "y = df.iloc[:, :1]\n",
        "y.head(10)"
      ],
      "execution_count": 15,
      "outputs": [
        {
          "output_type": "execute_result",
          "data": {
            "text/html": [
              "<div>\n",
              "<style scoped>\n",
              "    .dataframe tbody tr th:only-of-type {\n",
              "        vertical-align: middle;\n",
              "    }\n",
              "\n",
              "    .dataframe tbody tr th {\n",
              "        vertical-align: top;\n",
              "    }\n",
              "\n",
              "    .dataframe thead th {\n",
              "        text-align: right;\n",
              "    }\n",
              "</style>\n",
              "<table border=\"1\" class=\"dataframe\">\n",
              "  <thead>\n",
              "    <tr style=\"text-align: right;\">\n",
              "      <th></th>\n",
              "      <th>cvd_risk</th>\n",
              "    </tr>\n",
              "  </thead>\n",
              "  <tbody>\n",
              "    <tr>\n",
              "      <th>0</th>\n",
              "      <td>0</td>\n",
              "    </tr>\n",
              "    <tr>\n",
              "      <th>1</th>\n",
              "      <td>0</td>\n",
              "    </tr>\n",
              "    <tr>\n",
              "      <th>2</th>\n",
              "      <td>0</td>\n",
              "    </tr>\n",
              "    <tr>\n",
              "      <th>3</th>\n",
              "      <td>0</td>\n",
              "    </tr>\n",
              "    <tr>\n",
              "      <th>4</th>\n",
              "      <td>0</td>\n",
              "    </tr>\n",
              "    <tr>\n",
              "      <th>5</th>\n",
              "      <td>0</td>\n",
              "    </tr>\n",
              "    <tr>\n",
              "      <th>6</th>\n",
              "      <td>0</td>\n",
              "    </tr>\n",
              "    <tr>\n",
              "      <th>7</th>\n",
              "      <td>0</td>\n",
              "    </tr>\n",
              "    <tr>\n",
              "      <th>8</th>\n",
              "      <td>0</td>\n",
              "    </tr>\n",
              "    <tr>\n",
              "      <th>9</th>\n",
              "      <td>0</td>\n",
              "    </tr>\n",
              "  </tbody>\n",
              "</table>\n",
              "</div>"
            ],
            "text/plain": [
              "   cvd_risk\n",
              "0         0\n",
              "1         0\n",
              "2         0\n",
              "3         0\n",
              "4         0\n",
              "5         0\n",
              "6         0\n",
              "7         0\n",
              "8         0\n",
              "9         0"
            ]
          },
          "metadata": {
            "tags": []
          },
          "execution_count": 15
        }
      ]
    },
    {
      "cell_type": "markdown",
      "metadata": {
        "id": "j2ZL80Gb2d6R"
      },
      "source": [
        "## Checking P value"
      ]
    },
    {
      "cell_type": "markdown",
      "metadata": {
        "id": "qQgOaJW02l_i"
      },
      "source": [
        "Note: The following method is a method used for R"
      ]
    },
    {
      "cell_type": "code",
      "metadata": {
        "id": "xpTL0eNj2wmY",
        "colab": {
          "base_uri": "https://localhost:8080/"
        },
        "outputId": "8247e2ca-33d6-4fb7-b123-075dcce1e28e"
      },
      "source": [
        "import statsmodels.api as sm\n",
        "import statsmodels.formula.api as smf"
      ],
      "execution_count": 16,
      "outputs": [
        {
          "output_type": "stream",
          "text": [
            "/usr/local/lib/python3.7/dist-packages/statsmodels/tools/_testing.py:19: FutureWarning: pandas.util.testing is deprecated. Use the functions in the public API at pandas.testing instead.\n",
            "  import pandas.util.testing as tm\n"
          ],
          "name": "stderr"
        }
      ]
    },
    {
      "cell_type": "code",
      "metadata": {
        "colab": {
          "base_uri": "https://localhost:8080/"
        },
        "id": "xmz0Yrop3TQx",
        "outputId": "54b03880-49f5-432c-e024-6d9cd8e2021c"
      },
      "source": [
        "\n",
        "#without print function, the returned value is not written in R format\n",
        "#binomial refers to the family that logistic regression belongs to\n",
        "model = smf.glm(formula = \"y ~ x\", family=sm.families.Binomial(), data = df).fit()\n",
        "print(model.summary())"
      ],
      "execution_count": 17,
      "outputs": [
        {
          "output_type": "stream",
          "text": [
            "                 Generalized Linear Model Regression Results                  \n",
            "==============================================================================\n",
            "Dep. Variable:                      y   No. Observations:                 3242\n",
            "Model:                            GLM   Df Residuals:                     3226\n",
            "Model Family:                Binomial   Df Model:                           15\n",
            "Link Function:                  logit   Scale:                          1.0000\n",
            "Method:                          IRLS   Log-Likelihood:                -2061.8\n",
            "Date:                Wed, 19 May 2021   Deviance:                       4123.6\n",
            "Time:                        07:58:27   Pearson chi2:                 3.29e+03\n",
            "No. Iterations:                     4                                         \n",
            "Covariance Type:            nonrobust                                         \n",
            "==============================================================================\n",
            "                 coef    std err          z      P>|z|      [0.025      0.975]\n",
            "------------------------------------------------------------------------------\n",
            "Intercept      0.5268      0.760      0.693      0.488      -0.963       2.016\n",
            "x[0]           0.0123      0.004      3.035      0.002       0.004       0.020\n",
            "x[1]          -1.0258      0.122     -8.428      0.000      -1.264      -0.787\n",
            "x[2]           0.2352      0.056      4.191      0.000       0.125       0.345\n",
            "x[3]          -0.1584      0.040     -3.976      0.000      -0.236      -0.080\n",
            "x[4]          -0.0031      0.004     -0.716      0.474      -0.011       0.005\n",
            "x[5]           0.0412      0.011      3.723      0.000       0.020       0.063\n",
            "x[6]           0.0054      0.006      0.897      0.370      -0.006       0.017\n",
            "x[7]           0.0010      0.002      0.543      0.587      -0.003       0.005\n",
            "x[8]          -0.0469      0.030     -1.587      0.113      -0.105       0.011\n",
            "x[9]           0.1895      0.086      2.211      0.027       0.022       0.357\n",
            "x[10]          0.6325      0.168      3.769      0.000       0.304       0.961\n",
            "x[11]          0.0805      0.063      1.285      0.199      -0.042       0.203\n",
            "x[12]         -0.0934      0.042     -2.225      0.026      -0.176      -0.011\n",
            "x[13]          0.1108      0.042      2.663      0.008       0.029       0.192\n",
            "x[14]         -0.6141      0.072     -8.539      0.000      -0.755      -0.473\n",
            "==============================================================================\n"
          ],
          "name": "stdout"
        }
      ]
    },
    {
      "cell_type": "code",
      "metadata": {
        "colab": {
          "base_uri": "https://localhost:8080/"
        },
        "id": "I47xij2ox30u",
        "outputId": "44b42ec0-7f3c-429b-addf-289265bed30f"
      },
      "source": [
        "#for education purposes and to show the variable names\n",
        "mod = sm.OLS(y, x)\n",
        "mod_result = mod.fit()\n",
        "print(mod_result.summary())"
      ],
      "execution_count": 18,
      "outputs": [
        {
          "output_type": "stream",
          "text": [
            "                                 OLS Regression Results                                \n",
            "=======================================================================================\n",
            "Dep. Variable:               cvd_risk   R-squared (uncentered):                   0.621\n",
            "Model:                            OLS   Adj. R-squared (uncentered):              0.619\n",
            "Method:                 Least Squares   F-statistic:                              351.9\n",
            "Date:                Wed, 19 May 2021   Prob (F-statistic):                        0.00\n",
            "Time:                        07:58:29   Log-Likelihood:                         -2174.2\n",
            "No. Observations:                3242   AIC:                                      4378.\n",
            "Df Residuals:                    3227   BIC:                                      4470.\n",
            "Df Model:                          15                                                  \n",
            "Covariance Type:            nonrobust                                                  \n",
            "==================================================================================\n",
            "                     coef    std err          t      P>|t|      [0.025      0.975]\n",
            "----------------------------------------------------------------------------------\n",
            "age                0.0044      0.001      5.839      0.000       0.003       0.006\n",
            "race              -0.2005      0.023     -8.665      0.000      -0.246      -0.155\n",
            "educat             0.0622      0.012      5.114      0.000       0.038       0.086\n",
            "marital           -0.0336      0.009     -3.750      0.000      -0.051      -0.016\n",
            "hip                0.0009      0.001      1.118      0.264      -0.001       0.003\n",
            "neck               0.0108      0.002      4.480      0.000       0.006       0.016\n",
            "av_weight_kg       0.0019      0.001      1.470      0.142      -0.001       0.005\n",
            "smoking_rate       0.0002      0.000      0.480      0.631      -0.001       0.001\n",
            "caffeine_rate     -0.0109      0.007     -1.622      0.105      -0.024       0.002\n",
            "hypertension       0.0338      0.019      1.793      0.073      -0.003       0.071\n",
            "diabetes           0.1176      0.034      3.441      0.001       0.051       0.185\n",
            "bending_rate       0.0338      0.013      2.547      0.011       0.008       0.060\n",
            "happiness_rate    -0.0111      0.009     -1.237      0.216      -0.029       0.006\n",
            "fatigue_rate       0.0283      0.009      3.079      0.002       0.010       0.046\n",
            "activity_rate     -0.1148      0.014     -8.100      0.000      -0.143      -0.087\n",
            "==============================================================================\n",
            "Omnibus:                    17930.272   Durbin-Watson:                   0.999\n",
            "Prob(Omnibus):                  0.000   Jarque-Bera (JB):              403.002\n",
            "Skew:                          -0.372   Prob(JB):                     3.08e-88\n",
            "Kurtosis:                       1.442   Cond. No.                         637.\n",
            "==============================================================================\n",
            "\n",
            "Warnings:\n",
            "[1] Standard Errors assume that the covariance matrix of the errors is correctly specified.\n"
          ],
          "name": "stdout"
        }
      ]
    },
    {
      "cell_type": "markdown",
      "metadata": {
        "id": "8Bn4e5FyFnH7"
      },
      "source": [
        "Alpha is at 5%. Hence, we eliminate all variables with P value above 5% as these variables have no relationship with the cardiovascular risk. The following variables are to be removed:\n",
        "- hip\n",
        "- av_weight_kg\n",
        "- smoking_rate\n",
        "- caffeine_rate\n",
        "- bending rate\n",
        "\n",
        "According to National Health Service, among the above variables, smoking_rate and av_weight_kg are the major causes of cardiovascular diseases. Hence, these two variables will not be eliminated.  Additionally, I am keeping the hip variable as I have removed a collinearity variable during data investigation. \n",
        "\n",
        "https://www.nhs.uk/conditions/cardiovascular-disease/"
      ]
    },
    {
      "cell_type": "code",
      "metadata": {
        "colab": {
          "base_uri": "https://localhost:8080/",
          "height": 363
        },
        "id": "OF7fT07SN_T6",
        "outputId": "8c60fbd1-63cc-4c60-c4fd-ac96b0a7e836"
      },
      "source": [
        "x = x.drop(['caffeine_rate', 'bending_rate'], axis = 'columns')\n",
        "x.head(10)"
      ],
      "execution_count": 19,
      "outputs": [
        {
          "output_type": "execute_result",
          "data": {
            "text/html": [
              "<div>\n",
              "<style scoped>\n",
              "    .dataframe tbody tr th:only-of-type {\n",
              "        vertical-align: middle;\n",
              "    }\n",
              "\n",
              "    .dataframe tbody tr th {\n",
              "        vertical-align: top;\n",
              "    }\n",
              "\n",
              "    .dataframe thead th {\n",
              "        text-align: right;\n",
              "    }\n",
              "</style>\n",
              "<table border=\"1\" class=\"dataframe\">\n",
              "  <thead>\n",
              "    <tr style=\"text-align: right;\">\n",
              "      <th></th>\n",
              "      <th>age</th>\n",
              "      <th>race</th>\n",
              "      <th>educat</th>\n",
              "      <th>marital</th>\n",
              "      <th>hip</th>\n",
              "      <th>neck</th>\n",
              "      <th>av_weight_kg</th>\n",
              "      <th>smoking_rate</th>\n",
              "      <th>hypertension</th>\n",
              "      <th>diabetes</th>\n",
              "      <th>happiness_rate</th>\n",
              "      <th>fatigue_rate</th>\n",
              "      <th>activity_rate</th>\n",
              "    </tr>\n",
              "  </thead>\n",
              "  <tbody>\n",
              "    <tr>\n",
              "      <th>0</th>\n",
              "      <td>54</td>\n",
              "      <td>1</td>\n",
              "      <td>2</td>\n",
              "      <td>1</td>\n",
              "      <td>110.0</td>\n",
              "      <td>40.0</td>\n",
              "      <td>87.5</td>\n",
              "      <td>34.00</td>\n",
              "      <td>1</td>\n",
              "      <td>0</td>\n",
              "      <td>2</td>\n",
              "      <td>3</td>\n",
              "      <td>4</td>\n",
              "    </tr>\n",
              "    <tr>\n",
              "      <th>1</th>\n",
              "      <td>56</td>\n",
              "      <td>3</td>\n",
              "      <td>2</td>\n",
              "      <td>1</td>\n",
              "      <td>113.0</td>\n",
              "      <td>34.0</td>\n",
              "      <td>83.5</td>\n",
              "      <td>0.00</td>\n",
              "      <td>0</td>\n",
              "      <td>0</td>\n",
              "      <td>2</td>\n",
              "      <td>1</td>\n",
              "      <td>3</td>\n",
              "    </tr>\n",
              "    <tr>\n",
              "      <th>2</th>\n",
              "      <td>54</td>\n",
              "      <td>1</td>\n",
              "      <td>3</td>\n",
              "      <td>1</td>\n",
              "      <td>110.0</td>\n",
              "      <td>44.5</td>\n",
              "      <td>86.2</td>\n",
              "      <td>49.50</td>\n",
              "      <td>0</td>\n",
              "      <td>0</td>\n",
              "      <td>2</td>\n",
              "      <td>6</td>\n",
              "      <td>4</td>\n",
              "    </tr>\n",
              "    <tr>\n",
              "      <th>3</th>\n",
              "      <td>54</td>\n",
              "      <td>1</td>\n",
              "      <td>3</td>\n",
              "      <td>1</td>\n",
              "      <td>129.0</td>\n",
              "      <td>42.5</td>\n",
              "      <td>89.1</td>\n",
              "      <td>0.00</td>\n",
              "      <td>0</td>\n",
              "      <td>0</td>\n",
              "      <td>2</td>\n",
              "      <td>1</td>\n",
              "      <td>3</td>\n",
              "    </tr>\n",
              "    <tr>\n",
              "      <th>4</th>\n",
              "      <td>51</td>\n",
              "      <td>3</td>\n",
              "      <td>2</td>\n",
              "      <td>1</td>\n",
              "      <td>122.0</td>\n",
              "      <td>37.0</td>\n",
              "      <td>81.3</td>\n",
              "      <td>0.00</td>\n",
              "      <td>0</td>\n",
              "      <td>0</td>\n",
              "      <td>1</td>\n",
              "      <td>1</td>\n",
              "      <td>2</td>\n",
              "    </tr>\n",
              "    <tr>\n",
              "      <th>5</th>\n",
              "      <td>67</td>\n",
              "      <td>1</td>\n",
              "      <td>3</td>\n",
              "      <td>3</td>\n",
              "      <td>140.0</td>\n",
              "      <td>35.5</td>\n",
              "      <td>87.2</td>\n",
              "      <td>0.00</td>\n",
              "      <td>1</td>\n",
              "      <td>0</td>\n",
              "      <td>1</td>\n",
              "      <td>4</td>\n",
              "      <td>4</td>\n",
              "    </tr>\n",
              "    <tr>\n",
              "      <th>6</th>\n",
              "      <td>68</td>\n",
              "      <td>1</td>\n",
              "      <td>2</td>\n",
              "      <td>1</td>\n",
              "      <td>101.0</td>\n",
              "      <td>39.0</td>\n",
              "      <td>80.5</td>\n",
              "      <td>9.20</td>\n",
              "      <td>0</td>\n",
              "      <td>0</td>\n",
              "      <td>3</td>\n",
              "      <td>4</td>\n",
              "      <td>4</td>\n",
              "    </tr>\n",
              "    <tr>\n",
              "      <th>7</th>\n",
              "      <td>67</td>\n",
              "      <td>1</td>\n",
              "      <td>2</td>\n",
              "      <td>1</td>\n",
              "      <td>107.0</td>\n",
              "      <td>32.0</td>\n",
              "      <td>73.2</td>\n",
              "      <td>0.00</td>\n",
              "      <td>1</td>\n",
              "      <td>0</td>\n",
              "      <td>2</td>\n",
              "      <td>4</td>\n",
              "      <td>4</td>\n",
              "    </tr>\n",
              "    <tr>\n",
              "      <th>8</th>\n",
              "      <td>44</td>\n",
              "      <td>1</td>\n",
              "      <td>2</td>\n",
              "      <td>1</td>\n",
              "      <td>100.0</td>\n",
              "      <td>36.5</td>\n",
              "      <td>79.1</td>\n",
              "      <td>6.75</td>\n",
              "      <td>0</td>\n",
              "      <td>0</td>\n",
              "      <td>3</td>\n",
              "      <td>4</td>\n",
              "      <td>4</td>\n",
              "    </tr>\n",
              "    <tr>\n",
              "      <th>9</th>\n",
              "      <td>42</td>\n",
              "      <td>1</td>\n",
              "      <td>2</td>\n",
              "      <td>1</td>\n",
              "      <td>105.0</td>\n",
              "      <td>35.5</td>\n",
              "      <td>78.1</td>\n",
              "      <td>21.00</td>\n",
              "      <td>0</td>\n",
              "      <td>0</td>\n",
              "      <td>2</td>\n",
              "      <td>3</td>\n",
              "      <td>3</td>\n",
              "    </tr>\n",
              "  </tbody>\n",
              "</table>\n",
              "</div>"
            ],
            "text/plain": [
              "   age  race  educat  ...  happiness_rate  fatigue_rate  activity_rate\n",
              "0   54     1       2  ...               2             3              4\n",
              "1   56     3       2  ...               2             1              3\n",
              "2   54     1       3  ...               2             6              4\n",
              "3   54     1       3  ...               2             1              3\n",
              "4   51     3       2  ...               1             1              2\n",
              "5   67     1       3  ...               1             4              4\n",
              "6   68     1       2  ...               3             4              4\n",
              "7   67     1       2  ...               2             4              4\n",
              "8   44     1       2  ...               3             4              4\n",
              "9   42     1       2  ...               2             3              3\n",
              "\n",
              "[10 rows x 13 columns]"
            ]
          },
          "metadata": {
            "tags": []
          },
          "execution_count": 19
        }
      ]
    },
    {
      "cell_type": "markdown",
      "metadata": {
        "id": "O1QAL6gC7Nui"
      },
      "source": [
        "##Splitting x and y into train and test"
      ]
    },
    {
      "cell_type": "code",
      "metadata": {
        "id": "LPPfQJ_y14uz"
      },
      "source": [
        "#splitting train and test data\n",
        "from sklearn.model_selection import train_test_split"
      ],
      "execution_count": 20,
      "outputs": []
    },
    {
      "cell_type": "code",
      "metadata": {
        "id": "GEKUItK_2x2C"
      },
      "source": [
        "#splitting train to 70% and test to 30%\n",
        "#random state ensures that once the dataset is split, x and y values do not change\n",
        "x_train, x_test, y_train, y_test = train_test_split(x, y, test_size = 0.3, random_state = 101)"
      ],
      "execution_count": 21,
      "outputs": []
    },
    {
      "cell_type": "code",
      "metadata": {
        "colab": {
          "base_uri": "https://localhost:8080/",
          "height": 363
        },
        "id": "aayL5EUw4pzY",
        "outputId": "a127ce78-64ca-4e30-aa69-376284bfffa3"
      },
      "source": [
        "#ctrl + shift + enter to run the focused selection\n",
        "x_train.head(10)\n",
        "x_test.head(10)\n",
        "y_train.head(10)\n",
        "y_test.head(10)"
      ],
      "execution_count": 22,
      "outputs": [
        {
          "output_type": "execute_result",
          "data": {
            "text/html": [
              "<div>\n",
              "<style scoped>\n",
              "    .dataframe tbody tr th:only-of-type {\n",
              "        vertical-align: middle;\n",
              "    }\n",
              "\n",
              "    .dataframe tbody tr th {\n",
              "        vertical-align: top;\n",
              "    }\n",
              "\n",
              "    .dataframe thead th {\n",
              "        text-align: right;\n",
              "    }\n",
              "</style>\n",
              "<table border=\"1\" class=\"dataframe\">\n",
              "  <thead>\n",
              "    <tr style=\"text-align: right;\">\n",
              "      <th></th>\n",
              "      <th>cvd_risk</th>\n",
              "    </tr>\n",
              "  </thead>\n",
              "  <tbody>\n",
              "    <tr>\n",
              "      <th>2858</th>\n",
              "      <td>1</td>\n",
              "    </tr>\n",
              "    <tr>\n",
              "      <th>1238</th>\n",
              "      <td>0</td>\n",
              "    </tr>\n",
              "    <tr>\n",
              "      <th>3113</th>\n",
              "      <td>1</td>\n",
              "    </tr>\n",
              "    <tr>\n",
              "      <th>2796</th>\n",
              "      <td>0</td>\n",
              "    </tr>\n",
              "    <tr>\n",
              "      <th>647</th>\n",
              "      <td>0</td>\n",
              "    </tr>\n",
              "    <tr>\n",
              "      <th>980</th>\n",
              "      <td>0</td>\n",
              "    </tr>\n",
              "    <tr>\n",
              "      <th>372</th>\n",
              "      <td>0</td>\n",
              "    </tr>\n",
              "    <tr>\n",
              "      <th>6</th>\n",
              "      <td>0</td>\n",
              "    </tr>\n",
              "    <tr>\n",
              "      <th>431</th>\n",
              "      <td>0</td>\n",
              "    </tr>\n",
              "    <tr>\n",
              "      <th>1416</th>\n",
              "      <td>1</td>\n",
              "    </tr>\n",
              "  </tbody>\n",
              "</table>\n",
              "</div>"
            ],
            "text/plain": [
              "      cvd_risk\n",
              "2858         1\n",
              "1238         0\n",
              "3113         1\n",
              "2796         0\n",
              "647          0\n",
              "980          0\n",
              "372          0\n",
              "6            0\n",
              "431          0\n",
              "1416         1"
            ]
          },
          "metadata": {
            "tags": []
          },
          "execution_count": 22
        }
      ]
    },
    {
      "cell_type": "markdown",
      "metadata": {
        "id": "-gD52AzK8tU-"
      },
      "source": [
        "# Part 1: build a binary classifier model to predict the CVD Risk (Yes/No, or 1/0) using a Logistic Regression Model with the best performance possible"
      ]
    },
    {
      "cell_type": "code",
      "metadata": {
        "id": "e9BRetbh9DE_"
      },
      "source": [
        "from sklearn import linear_model"
      ],
      "execution_count": 23,
      "outputs": []
    },
    {
      "cell_type": "markdown",
      "metadata": {
        "id": "ribI7vuV90c4"
      },
      "source": [
        "- C = Inverse of regularization strength; must be a positive float. Like in support vector machines, smaller values specify stronger regularization.\n",
        " - Regularization normally tries to reduce or penalize the complexity of the model\n",
        " - Default = 1\n",
        " - Overfitting: C is too large; Underfitting: C is too small\n",
        "- Penalty = Used to specify the norm used in the penalization \n",
        "  - L1 regularization penalizes the LLF with the scaled sum of the absolute values of the weights\n",
        "  - L2 regularization penalizes the LLF with the scaled sum of the squares of the weights (DEFAULT)\n",
        "  - Elastic-net regularization is a linear combination of L1 and L2 regularization\n",
        "- solver = Algorithm to use in the optimization problem\n",
        "  - liblinear = It is a good choice for small datasets. It also handles L1 penalty. For multiclass problems, it is limited to one-versus-rest schemes. (DEFAULT)\n",
        "  - newton-cg − It handles only L2 penalty\n",
        "- predict = Predict class labels for samples -> array-like or sparse matrix, shape (n_samples, n_features)"
      ]
    },
    {
      "cell_type": "code",
      "metadata": {
        "id": "CUno0SZQST-d"
      },
      "source": [
        "from sklearn.metrics import accuracy_score\n",
        "from sklearn.linear_model import LogisticRegression"
      ],
      "execution_count": 24,
      "outputs": []
    },
    {
      "cell_type": "code",
      "metadata": {
        "colab": {
          "base_uri": "https://localhost:8080/"
        },
        "id": "2VL5bAq0QMB8",
        "outputId": "e273bfdc-aabc-4f33-a8fb-6b8d24d57c3e"
      },
      "source": [
        "#check the data with variety of C score\n",
        "results = []\n",
        "c_values = [1e-20, 1e-10, 1, 1e10, 1e20, 1e30, 1e40]\n",
        "\n",
        "for value in c_values:\n",
        "  clf = linear_model.LogisticRegression(C=value, solver= 'newton-cg')\n",
        "  clf.fit(x_train, y_train)\n",
        "  y_pred = clf.predict(x_test)\n",
        "  accuracy = accuracy_score(y_test, y_pred)\n",
        "  results.append(accuracy)\n",
        "\n",
        "#Please note that the accuracy score is on the next line"
      ],
      "execution_count": 25,
      "outputs": [
        {
          "output_type": "stream",
          "text": [
            "/usr/local/lib/python3.7/dist-packages/sklearn/utils/validation.py:760: DataConversionWarning: A column-vector y was passed when a 1d array was expected. Please change the shape of y to (n_samples, ), for example using ravel().\n",
            "  y = column_or_1d(y, warn=True)\n",
            "/usr/local/lib/python3.7/dist-packages/scipy/optimize/linesearch.py:466: LineSearchWarning: The line search algorithm did not converge\n",
            "  warn('The line search algorithm did not converge', LineSearchWarning)\n",
            "/usr/local/lib/python3.7/dist-packages/scipy/optimize/linesearch.py:314: LineSearchWarning: The line search algorithm did not converge\n",
            "  warn('The line search algorithm did not converge', LineSearchWarning)\n",
            "/usr/local/lib/python3.7/dist-packages/scipy/optimize/linesearch.py:466: LineSearchWarning: The line search algorithm did not converge\n",
            "  warn('The line search algorithm did not converge', LineSearchWarning)\n",
            "/usr/local/lib/python3.7/dist-packages/scipy/optimize/linesearch.py:314: LineSearchWarning: The line search algorithm did not converge\n",
            "  warn('The line search algorithm did not converge', LineSearchWarning)\n",
            "/usr/local/lib/python3.7/dist-packages/scipy/optimize/linesearch.py:426: LineSearchWarning: Rounding errors prevent the line search from converging\n",
            "  warn(msg, LineSearchWarning)\n",
            "/usr/local/lib/python3.7/dist-packages/scipy/optimize/linesearch.py:314: LineSearchWarning: The line search algorithm did not converge\n",
            "  warn('The line search algorithm did not converge', LineSearchWarning)\n",
            "/usr/local/lib/python3.7/dist-packages/sklearn/utils/optimize.py:204: UserWarning: Line Search failed\n",
            "  warnings.warn('Line Search failed')\n",
            "/usr/local/lib/python3.7/dist-packages/sklearn/utils/validation.py:760: DataConversionWarning: A column-vector y was passed when a 1d array was expected. Please change the shape of y to (n_samples, ), for example using ravel().\n",
            "  y = column_or_1d(y, warn=True)\n",
            "/usr/local/lib/python3.7/dist-packages/sklearn/utils/validation.py:760: DataConversionWarning: A column-vector y was passed when a 1d array was expected. Please change the shape of y to (n_samples, ), for example using ravel().\n",
            "  y = column_or_1d(y, warn=True)\n",
            "/usr/local/lib/python3.7/dist-packages/sklearn/utils/validation.py:760: DataConversionWarning: A column-vector y was passed when a 1d array was expected. Please change the shape of y to (n_samples, ), for example using ravel().\n",
            "  y = column_or_1d(y, warn=True)\n",
            "/usr/local/lib/python3.7/dist-packages/sklearn/utils/validation.py:760: DataConversionWarning: A column-vector y was passed when a 1d array was expected. Please change the shape of y to (n_samples, ), for example using ravel().\n",
            "  y = column_or_1d(y, warn=True)\n",
            "/usr/local/lib/python3.7/dist-packages/sklearn/utils/validation.py:760: DataConversionWarning: A column-vector y was passed when a 1d array was expected. Please change the shape of y to (n_samples, ), for example using ravel().\n",
            "  y = column_or_1d(y, warn=True)\n",
            "/usr/local/lib/python3.7/dist-packages/sklearn/utils/validation.py:760: DataConversionWarning: A column-vector y was passed when a 1d array was expected. Please change the shape of y to (n_samples, ), for example using ravel().\n",
            "  y = column_or_1d(y, warn=True)\n"
          ],
          "name": "stderr"
        }
      ]
    },
    {
      "cell_type": "code",
      "metadata": {
        "colab": {
          "base_uri": "https://localhost:8080/"
        },
        "id": "_hqIxdMIcF0b",
        "outputId": "7258dcda-4546-40e0-b25d-7c5debfe73bb"
      },
      "source": [
        "print(results)"
      ],
      "execution_count": 26,
      "outputs": [
        {
          "output_type": "stream",
          "text": [
            "[0.5734840698869476, 0.5734840698869476, 0.6628982528263104, 0.6618705035971223, 0.6618705035971223, 0.6618705035971223, 0.6618705035971223]\n"
          ],
          "name": "stdout"
        }
      ]
    },
    {
      "cell_type": "markdown",
      "metadata": {
        "id": "uhxcglpZaZUt"
      },
      "source": [
        "The accuracy score above shows that the most optimum c values is 1e10"
      ]
    },
    {
      "cell_type": "code",
      "metadata": {
        "colab": {
          "base_uri": "https://localhost:8080/"
        },
        "id": "XLIzHYiH9Oxc",
        "outputId": "271927a0-5c57-4764-8a01-ca6aa16d0d69"
      },
      "source": [
        "#fit (train) the logistic regression classfiers\n",
        "clf = linear_model.LogisticRegression(C=1e10, solver= 'newton-cg')\n",
        "clf.fit(x_train, y_train)\n",
        "\n",
        "#predict\n",
        "y_pred = clf.predict(x_test)\n",
        "print(y_pred)"
      ],
      "execution_count": 27,
      "outputs": [
        {
          "output_type": "stream",
          "text": [
            "[1 1 1 1 1 1 1 1 1 1 1 1 0 0 0 1 1 0 0 1 0 1 1 0 1 1 1 1 0 1 1 1 1 1 1 1 1\n",
            " 1 1 1 1 1 1 1 1 1 1 1 1 1 0 0 1 1 1 1 1 0 0 1 1 1 0 1 1 1 1 1 1 1 0 0 1 1\n",
            " 1 1 1 1 1 1 1 1 1 1 0 0 0 1 0 1 1 1 0 1 1 1 1 1 0 1 1 1 1 1 1 1 0 1 1 1 1\n",
            " 1 1 0 1 1 1 0 1 0 1 1 1 0 0 1 1 1 0 1 1 1 1 1 1 0 0 1 1 1 1 0 0 1 1 0 1 1\n",
            " 1 1 1 1 0 1 1 1 1 1 1 1 1 1 1 1 1 1 0 1 1 1 1 1 1 0 1 1 0 1 1 1 1 1 1 1 1\n",
            " 1 0 1 1 1 1 1 1 1 1 1 1 1 0 1 1 1 1 1 1 1 1 1 1 1 1 1 0 1 0 1 1 1 1 1 1 1\n",
            " 0 1 1 1 0 1 0 1 0 0 0 1 0 1 1 1 0 0 1 1 1 1 1 0 1 0 1 1 0 0 1 1 1 1 0 1 1\n",
            " 1 1 1 1 1 1 0 1 1 1 0 1 1 1 0 1 1 1 1 1 0 1 0 1 1 1 1 1 1 0 1 0 1 1 1 1 1\n",
            " 1 1 1 0 1 1 1 0 0 1 1 1 1 1 1 1 1 1 1 1 1 1 0 0 1 1 1 1 1 1 1 0 1 1 1 1 1\n",
            " 0 1 1 1 1 1 1 1 1 0 1 1 0 1 1 1 1 1 1 1 1 1 1 1 1 1 1 1 1 1 1 1 0 1 1 0 1\n",
            " 1 1 1 1 1 1 1 1 1 1 1 1 1 1 0 1 1 1 0 1 1 1 1 1 1 1 1 1 0 1 1 1 1 1 0 0 1\n",
            " 0 1 0 1 1 1 1 1 1 1 1 0 0 0 1 1 1 1 1 1 1 1 1 1 1 1 1 1 1 1 1 1 1 1 0 1 1\n",
            " 1 1 1 1 0 1 1 1 1 1 1 1 1 1 0 0 1 1 1 1 0 1 1 0 1 0 0 0 1 0 1 1 1 0 1 1 1\n",
            " 1 1 1 1 1 0 1 1 1 1 1 1 0 1 0 1 1 1 1 0 1 1 1 1 1 0 1 1 1 0 1 1 1 0 1 0 1\n",
            " 1 1 1 0 1 0 0 1 1 1 1 1 0 1 0 1 0 1 1 1 1 1 0 1 1 0 1 0 1 1 1 1 1 1 1 1 1\n",
            " 0 0 1 1 1 0 0 1 1 1 1 1 1 0 1 1 1 1 1 1 1 0 1 1 1 1 0 1 1 0 1 1 1 1 0 1 1\n",
            " 1 1 1 1 1 0 0 1 1 1 1 1 1 1 1 1 1 1 1 0 1 1 1 1 0 1 1 1 0 1 0 0 1 1 0 0 1\n",
            " 1 0 1 1 1 1 1 1 1 0 1 1 1 1 1 1 0 1 1 1 1 1 1 0 0 1 0 1 1 1 1 1 0 1 1 1 1\n",
            " 1 1 1 1 1 1 0 0 0 1 1 0 1 0 1 1 1 0 1 1 1 1 1 1 0 0 1 1 1 1 1 1 1 1 1 1 1\n",
            " 1 1 1 0 1 1 0 1 1 1 1 1 1 1 0 1 1 1 1 1 0 1 1 1 0 1 0 1 1 0 1 1 0 0 1 1 1\n",
            " 1 0 1 1 1 0 1 1 0 1 0 1 0 0 1 0 0 1 1 1 1 1 1 1 1 1 1 1 1 1 1 1 1 0 1 0 1\n",
            " 1 1 1 1 1 1 1 1 0 1 0 1 0 1 1 1 0 1 1 1 1 1 1 1 1 1 1 1 1 1 1 1 1 0 0 1 0\n",
            " 1 1 1 1 1 1 1 1 0 0 0 1 1 1 1 1 1 1 1 1 1 1 0 1 1 0 0 1 1 1 1 1 1 1 1 1 1\n",
            " 1 1 1 1 0 1 1 0 1 1 1 0 1 1 0 1 1 0 1 1 0 0 0 0 1 1 1 1 1 1 0 1 1 1 1 0 1\n",
            " 1 1 1 1 0 1 1 0 1 1 1 1 1 0 1 1 1 0 1 1 0 1 0 1 1 1 0 1 1 0 1 1 0 1 1 1 1\n",
            " 0 1 1 0 1 1 1 1 1 1 1 1 1 1 0 1 1 0 1 1 1 1 1 1 1 1 0 0 0 1 1 1 1 1 1 0 1\n",
            " 1 1 0 1 0 1 1 0 1 0 1]\n"
          ],
          "name": "stdout"
        },
        {
          "output_type": "stream",
          "text": [
            "/usr/local/lib/python3.7/dist-packages/sklearn/utils/validation.py:760: DataConversionWarning: A column-vector y was passed when a 1d array was expected. Please change the shape of y to (n_samples, ), for example using ravel().\n",
            "  y = column_or_1d(y, warn=True)\n"
          ],
          "name": "stderr"
        }
      ]
    },
    {
      "cell_type": "code",
      "metadata": {
        "colab": {
          "base_uri": "https://localhost:8080/"
        },
        "id": "J9Zrye7KBI8J",
        "outputId": "f424a4fb-8b80-4f49-af23-58287bf1bf39"
      },
      "source": [
        "#measure the accuracy of the model\n",
        "clf.score(x_test, y_test)"
      ],
      "execution_count": 28,
      "outputs": [
        {
          "output_type": "execute_result",
          "data": {
            "text/plain": [
              "0.6618705035971223"
            ]
          },
          "metadata": {
            "tags": []
          },
          "execution_count": 28
        }
      ]
    },
    {
      "cell_type": "code",
      "metadata": {
        "colab": {
          "base_uri": "https://localhost:8080/"
        },
        "id": "-w-QTyfU1MRN",
        "outputId": "31984e4b-ccfb-4750-dcca-e30c67cd0583"
      },
      "source": [
        "#prediction outcome based on the trained model\n",
        "#the first value refers to the probability that a patient doesn't have cvd risk or cvd_risk = 0\n",
        "#the second value refers to the porbability that a patient has cvd_risk or cvd_risk = 1\n",
        "clf.predict_proba(x_test)"
      ],
      "execution_count": 29,
      "outputs": [
        {
          "output_type": "execute_result",
          "data": {
            "text/plain": [
              "array([[0.39785965, 0.60214035],\n",
              "       [0.37414912, 0.62585088],\n",
              "       [0.33598911, 0.66401089],\n",
              "       ...,\n",
              "       [0.32664773, 0.67335227],\n",
              "       [0.59511345, 0.40488655],\n",
              "       [0.4116717 , 0.5883283 ]])"
            ]
          },
          "metadata": {
            "tags": []
          },
          "execution_count": 29
        }
      ]
    },
    {
      "cell_type": "markdown",
      "metadata": {
        "id": "mN0CTF6ZBiQi"
      },
      "source": [
        "# Part 2: Display the Feature Importance of all the features sorted in the order of decreasing influence on the CVD Risk "
      ]
    },
    {
      "cell_type": "code",
      "metadata": {
        "id": "dqoobJG6E87_"
      },
      "source": [
        "from sklearn.linear_model import LogisticRegression\n",
        "model = LogisticRegression()"
      ],
      "execution_count": 31,
      "outputs": []
    },
    {
      "cell_type": "code",
      "metadata": {
        "colab": {
          "base_uri": "https://localhost:8080/"
        },
        "id": "utBRzd8qGqKn",
        "outputId": "af723de1-b4e8-4444-b079-2a6ac5fd6a09"
      },
      "source": [
        "#approach 1 does not work\n",
        "#A higher value (sign considered) of the Coefficients will imply larger influence of the corresponding features on the Outcome (Target Variable)\n",
        "model.fit(x_train / np.std(x_train, 0), y_train)\n",
        "print(model.coef_)"
      ],
      "execution_count": 32,
      "outputs": [
        {
          "output_type": "stream",
          "text": [
            "[[ 0.1089149  -0.34247279  0.18301287 -0.13314464 -0.02185253  0.13525195\n",
            "   0.08857879  0.02885068  0.08200392  0.15108188 -0.08354745  0.1156996\n",
            "  -0.39456157]]\n"
          ],
          "name": "stdout"
        },
        {
          "output_type": "stream",
          "text": [
            "/usr/local/lib/python3.7/dist-packages/sklearn/utils/validation.py:760: DataConversionWarning: A column-vector y was passed when a 1d array was expected. Please change the shape of y to (n_samples, ), for example using ravel().\n",
            "  y = column_or_1d(y, warn=True)\n"
          ],
          "name": "stderr"
        }
      ]
    },
    {
      "cell_type": "code",
      "metadata": {
        "colab": {
          "base_uri": "https://localhost:8080/",
          "height": 80
        },
        "id": "ujWVaxzUi6GM",
        "outputId": "c9097213-e9dc-4f35-da04-3d34c5ea2784"
      },
      "source": [
        "coeff_df = pd.DataFrame(model.coef_, columns=[x_train], index=['Coefficient'])\n",
        "coeff_df"
      ],
      "execution_count": 33,
      "outputs": [
        {
          "output_type": "execute_result",
          "data": {
            "text/html": [
              "<div>\n",
              "<style scoped>\n",
              "    .dataframe tbody tr th:only-of-type {\n",
              "        vertical-align: middle;\n",
              "    }\n",
              "\n",
              "    .dataframe tbody tr th {\n",
              "        vertical-align: top;\n",
              "    }\n",
              "\n",
              "    .dataframe thead tr th {\n",
              "        text-align: left;\n",
              "    }\n",
              "</style>\n",
              "<table border=\"1\" class=\"dataframe\">\n",
              "  <thead>\n",
              "    <tr>\n",
              "      <th></th>\n",
              "      <th>age</th>\n",
              "      <th>race</th>\n",
              "      <th>educat</th>\n",
              "      <th>marital</th>\n",
              "      <th>hip</th>\n",
              "      <th>neck</th>\n",
              "      <th>av_weight_kg</th>\n",
              "      <th>smoking_rate</th>\n",
              "      <th>hypertension</th>\n",
              "      <th>diabetes</th>\n",
              "      <th>happiness_rate</th>\n",
              "      <th>fatigue_rate</th>\n",
              "      <th>activity_rate</th>\n",
              "    </tr>\n",
              "  </thead>\n",
              "  <tbody>\n",
              "    <tr>\n",
              "      <th>Coefficient</th>\n",
              "      <td>0.108915</td>\n",
              "      <td>-0.342473</td>\n",
              "      <td>0.183013</td>\n",
              "      <td>-0.133145</td>\n",
              "      <td>-0.021853</td>\n",
              "      <td>0.135252</td>\n",
              "      <td>0.088579</td>\n",
              "      <td>0.028851</td>\n",
              "      <td>0.082004</td>\n",
              "      <td>0.151082</td>\n",
              "      <td>-0.083547</td>\n",
              "      <td>0.1157</td>\n",
              "      <td>-0.394562</td>\n",
              "    </tr>\n",
              "  </tbody>\n",
              "</table>\n",
              "</div>"
            ],
            "text/plain": [
              "                  age      race  ... fatigue_rate activity_rate\n",
              "Coefficient  0.108915 -0.342473  ...       0.1157     -0.394562\n",
              "\n",
              "[1 rows x 13 columns]"
            ]
          },
          "metadata": {
            "tags": []
          },
          "execution_count": 33
        }
      ]
    },
    {
      "cell_type": "code",
      "metadata": {
        "colab": {
          "base_uri": "https://localhost:8080/",
          "height": 457
        },
        "id": "MGok1Ok2J0F7",
        "outputId": "5827f812-c2c1-4d1e-ceb0-ca8b88b323e7"
      },
      "source": [
        "coeff_df = coeff_df.transpose()\n",
        "coeff_df.sort_values('Coefficient', ascending=False)"
      ],
      "execution_count": 34,
      "outputs": [
        {
          "output_type": "execute_result",
          "data": {
            "text/html": [
              "<div>\n",
              "<style scoped>\n",
              "    .dataframe tbody tr th:only-of-type {\n",
              "        vertical-align: middle;\n",
              "    }\n",
              "\n",
              "    .dataframe tbody tr th {\n",
              "        vertical-align: top;\n",
              "    }\n",
              "\n",
              "    .dataframe thead th {\n",
              "        text-align: right;\n",
              "    }\n",
              "</style>\n",
              "<table border=\"1\" class=\"dataframe\">\n",
              "  <thead>\n",
              "    <tr style=\"text-align: right;\">\n",
              "      <th></th>\n",
              "      <th>Coefficient</th>\n",
              "    </tr>\n",
              "  </thead>\n",
              "  <tbody>\n",
              "    <tr>\n",
              "      <th>educat</th>\n",
              "      <td>0.183013</td>\n",
              "    </tr>\n",
              "    <tr>\n",
              "      <th>diabetes</th>\n",
              "      <td>0.151082</td>\n",
              "    </tr>\n",
              "    <tr>\n",
              "      <th>neck</th>\n",
              "      <td>0.135252</td>\n",
              "    </tr>\n",
              "    <tr>\n",
              "      <th>fatigue_rate</th>\n",
              "      <td>0.115700</td>\n",
              "    </tr>\n",
              "    <tr>\n",
              "      <th>age</th>\n",
              "      <td>0.108915</td>\n",
              "    </tr>\n",
              "    <tr>\n",
              "      <th>av_weight_kg</th>\n",
              "      <td>0.088579</td>\n",
              "    </tr>\n",
              "    <tr>\n",
              "      <th>hypertension</th>\n",
              "      <td>0.082004</td>\n",
              "    </tr>\n",
              "    <tr>\n",
              "      <th>smoking_rate</th>\n",
              "      <td>0.028851</td>\n",
              "    </tr>\n",
              "    <tr>\n",
              "      <th>hip</th>\n",
              "      <td>-0.021853</td>\n",
              "    </tr>\n",
              "    <tr>\n",
              "      <th>happiness_rate</th>\n",
              "      <td>-0.083547</td>\n",
              "    </tr>\n",
              "    <tr>\n",
              "      <th>marital</th>\n",
              "      <td>-0.133145</td>\n",
              "    </tr>\n",
              "    <tr>\n",
              "      <th>race</th>\n",
              "      <td>-0.342473</td>\n",
              "    </tr>\n",
              "    <tr>\n",
              "      <th>activity_rate</th>\n",
              "      <td>-0.394562</td>\n",
              "    </tr>\n",
              "  </tbody>\n",
              "</table>\n",
              "</div>"
            ],
            "text/plain": [
              "                Coefficient\n",
              "educat             0.183013\n",
              "diabetes           0.151082\n",
              "neck               0.135252\n",
              "fatigue_rate       0.115700\n",
              "age                0.108915\n",
              "av_weight_kg       0.088579\n",
              "hypertension       0.082004\n",
              "smoking_rate       0.028851\n",
              "hip               -0.021853\n",
              "happiness_rate    -0.083547\n",
              "marital           -0.133145\n",
              "race              -0.342473\n",
              "activity_rate     -0.394562"
            ]
          },
          "metadata": {
            "tags": []
          },
          "execution_count": 34
        }
      ]
    },
    {
      "cell_type": "code",
      "metadata": {
        "colab": {
          "base_uri": "https://localhost:8080/",
          "height": 596
        },
        "id": "EvIttzqIKA2j",
        "outputId": "6c6ea166-4979-4833-d6d7-0041f3d9f253"
      },
      "source": [
        "\n",
        "coeff_df.sort_values('Coefficient', ascending=False).plot(kind = 'bar',  figsize = (12,8), legend = None)\n",
        "plt.title('Feature Importance on the CVD Risk', fontsize = 15)\n",
        "plt.xticks(rotation = 75, fontsize=12)\n",
        "plt.yticks(fontsize=12)\n",
        "plt.grid()"
      ],
      "execution_count": 35,
      "outputs": [
        {
          "output_type": "display_data",
          "data": {
            "image/png": "[encoded data removed]",
            "text/plain": [
              "<Figure size 864x576 with 1 Axes>"
            ]
          },
          "metadata": {
            "tags": [],
            "needs_background": "light"
          }
        }
      ]
    },
    {
      "cell_type": "markdown",
      "metadata": {
        "id": "QgYx9NhHQWPK"
      },
      "source": [
        "These coefficients can provide the basis for a feature importance score. The positive scores indicate a feature that predicts class 1, whereas the negative scores indicate a feature that predicts class 0.\n"
      ]
    },
    {
      "cell_type": "code",
      "metadata": {
        "colab": {
          "base_uri": "https://localhost:8080/",
          "height": 730
        },
        "id": "Gx61TvX8iFfK",
        "outputId": "e745426a-ceec-4c86-fe84-11f688406e9a"
      },
      "source": [
        "plt.figure(figsize=(8, 12))\n",
        "heatmap = sn.heatmap(coeff_df.sort_values('Coefficient', ascending=False), annot=True, cmap='Blues')\n",
        "heatmap.set_title('Feature Importance on the CVD Risk', fontdict={'fontsize':18}, pad=16);"
      ],
      "execution_count": 36,
      "outputs": [
        {
          "output_type": "display_data",
          "data": {
            "image/png": "[encoded data removed]",
            "text/plain": [
              "<Figure size 576x864 with 2 Axes>"
            ]
          },
          "metadata": {
            "tags": [],
            "needs_background": "light"
          }
        }
      ]
    },
    {
      "cell_type": "markdown",
      "metadata": {
        "id": "hLlz7Xxc-gi_"
      },
      "source": [
        "# Part 3: Evaluate the performance of your model (including ROC Curve), explain the performance and draw a meaningful conclusion."
      ]
    },
    {
      "cell_type": "code",
      "metadata": {
        "id": "sQSHxPJvAvKW"
      },
      "source": [
        "from sklearn.metrics import accuracy_score\n",
        "from sklearn.metrics import recall_score\n",
        "from sklearn.metrics import confusion_matrix\n",
        "from sklearn.metrics import precision_score\n",
        "from sklearn.metrics import f1_score\n",
        "from sklearn.metrics import roc_auc_score\n",
        "from sklearn.metrics import auc\n",
        "from sklearn.metrics import roc_curve\n",
        "from sklearn.metrics import classification_report"
      ],
      "execution_count": 37,
      "outputs": []
    },
    {
      "cell_type": "code",
      "metadata": {
        "colab": {
          "base_uri": "https://localhost:8080/"
        },
        "id": "7sgF_UeDVRug",
        "outputId": "2014b14d-1b64-4824-96ed-6c08d88f1983"
      },
      "source": [
        "#without print, the result returns as a list\n",
        "print(classification_report(y_test, y_pred))"
      ],
      "execution_count": 38,
      "outputs": [
        {
          "output_type": "stream",
          "text": [
            "              precision    recall  f1-score   support\n",
            "\n",
            "           0       0.71      0.35      0.47       415\n",
            "           1       0.65      0.89      0.75       558\n",
            "\n",
            "    accuracy                           0.66       973\n",
            "   macro avg       0.68      0.62      0.61       973\n",
            "weighted avg       0.67      0.66      0.63       973\n",
            "\n"
          ],
          "name": "stdout"
        }
      ]
    },
    {
      "cell_type": "code",
      "metadata": {
        "colab": {
          "base_uri": "https://localhost:8080/"
        },
        "id": "g4T6Y5hXFpL7",
        "outputId": "7f70eda2-bd78-4b1f-fa70-c94b15fb3fd9"
      },
      "source": [
        "conf = confusion_matrix(y_test, y_pred)\n",
        "print(conf)"
      ],
      "execution_count": 39,
      "outputs": [
        {
          "output_type": "stream",
          "text": [
            "[[147 268]\n",
            " [ 61 497]]\n"
          ],
          "name": "stdout"
        }
      ]
    },
    {
      "cell_type": "code",
      "metadata": {
        "colab": {
          "base_uri": "https://localhost:8080/",
          "height": 520
        },
        "id": "aRJ3zp6kLiY5",
        "outputId": "fb058255-15f3-4bcb-9324-27b5fd213d14"
      },
      "source": [
        "import seaborn as sn\n",
        "#annot_kws to show font size\n",
        "#cmap -> to change the color\n",
        "plt.figure(figsize=(10,8))\n",
        "sn.heatmap(conf, annot=True, cmap=\"Blues\", fmt= \"d\", annot_kws={\"size\": 15})\n",
        "plt.title('Confusion Matrix', fontsize = 15)\n",
        "plt.xlabel('Predicted', fontsize = 15) # x-axis label with fontsize 15\n",
        "plt.ylabel('Actual', fontsize = 15)\n",
        "plt.show()"
      ],
      "execution_count": 40,
      "outputs": [
        {
          "output_type": "display_data",
          "data": {
            "image/png": "[encoded data removed]",
            "text/plain": [
              "<Figure size 720x576 with 2 Axes>"
            ]
          },
          "metadata": {
            "tags": [],
            "needs_background": "light"
          }
        }
      ]
    },
    {
      "cell_type": "code",
      "metadata": {
        "colab": {
          "base_uri": "https://localhost:8080/"
        },
        "id": "RgX5ugLQNH3h",
        "outputId": "9d0f5e62-f53e-48fc-8fad-34d05ff60472"
      },
      "source": [
        "#Accuracy Score\n",
        "accuracy_score(y_test, y_pred)"
      ],
      "execution_count": 41,
      "outputs": [
        {
          "output_type": "execute_result",
          "data": {
            "text/plain": [
              "0.6618705035971223"
            ]
          },
          "metadata": {
            "tags": []
          },
          "execution_count": 41
        }
      ]
    },
    {
      "cell_type": "code",
      "metadata": {
        "colab": {
          "base_uri": "https://localhost:8080/"
        },
        "id": "qbEC09p8Fd9b",
        "outputId": "3d24db7a-8c0a-4337-cb42-6274285ad908"
      },
      "source": [
        "#AUC Score\n",
        "AUC = roc_auc_score(y_test, y_pred)\n",
        "AUC"
      ],
      "execution_count": 42,
      "outputs": [
        {
          "output_type": "execute_result",
          "data": {
            "text/plain": [
              "0.6224489355270545"
            ]
          },
          "metadata": {
            "tags": []
          },
          "execution_count": 42
        }
      ]
    },
    {
      "cell_type": "code",
      "metadata": {
        "colab": {
          "base_uri": "https://localhost:8080/"
        },
        "id": "kUilKmwANW0S",
        "outputId": "d4007e31-e480-46eb-e7b5-fb298e08aa4c"
      },
      "source": [
        "#True Positive Rate or Recall\n",
        "recall = recall_score(y_test, y_pred)\n",
        "recall"
      ],
      "execution_count": 43,
      "outputs": [
        {
          "output_type": "execute_result",
          "data": {
            "text/plain": [
              "0.8906810035842294"
            ]
          },
          "metadata": {
            "tags": []
          },
          "execution_count": 43
        }
      ]
    },
    {
      "cell_type": "code",
      "metadata": {
        "colab": {
          "base_uri": "https://localhost:8080/"
        },
        "id": "qMLPZAecNnoD",
        "outputId": "d36cebf3-fd94-4c7c-9ce4-c23b4a4b0d3a"
      },
      "source": [
        "#False Positive Rate\n",
        "\n",
        "FPR = 268/(268+147)\n",
        "FPR"
      ],
      "execution_count": 44,
      "outputs": [
        {
          "output_type": "execute_result",
          "data": {
            "text/plain": [
              "0.6457831325301204"
            ]
          },
          "metadata": {
            "tags": []
          },
          "execution_count": 44
        }
      ]
    },
    {
      "cell_type": "code",
      "metadata": {
        "colab": {
          "base_uri": "https://localhost:8080/"
        },
        "id": "zBT2Y002OWKH",
        "outputId": "ea953653-8f31-4cf6-aaf0-f36d07b05499"
      },
      "source": [
        "malignant_probs = y_pred\n",
        "\n",
        "FPR, recall, thresholds = roc_curve(y_test, malignant_probs)\n",
        "\n",
        "roc_auc = auc(FPR, recall)\n",
        "print(roc_auc)"
      ],
      "execution_count": 45,
      "outputs": [
        {
          "output_type": "stream",
          "text": [
            "0.6224489355270545\n"
          ],
          "name": "stdout"
        }
      ]
    },
    {
      "cell_type": "code",
      "metadata": {
        "colab": {
          "base_uri": "https://localhost:8080/",
          "height": 520
        },
        "id": "zKdBMEdxN9Dc",
        "outputId": "e4b0fe63-0aa4-4ca7-ab50-57e41338294b"
      },
      "source": [
        "#ROC\n",
        "#AUC = %number\" -> to show how many number behind the decimal value\n",
        "#'b' -> refer to collor\n",
        "\n",
        "plt.figure(figsize=(10,8))\n",
        "plt.title('AUC score', fontsize = 15)\n",
        "plt.plot(FPR, recall, color= 'darkorange', label = 'AUC = %0.2f' % roc_auc)\n",
        "plt.legend(loc = 'lower right')\n",
        "#creating dot blue line to show AUC at 50% or 0.5\n",
        "#AUC 0.5 = worst prediction\n",
        "plt.plot([0, 1], [0, 1],'b--')\n",
        "plt.xlim([0, 1])\n",
        "plt.ylim([0, 1])\n",
        "plt.ylabel('True Positive Rate', fontsize = 15)\n",
        "plt.xlabel('False Positive Rate', fontsize = 15)\n",
        "plt.show()\n"
      ],
      "execution_count": 46,
      "outputs": [
        {
          "output_type": "display_data",
          "data": {
            "image/png": "[encoded data removed]",
            "text/plain": [
              "<Figure size 720x576 with 1 Axes>"
            ]
          },
          "metadata": {
            "tags": [],
            "needs_background": "light"
          }
        }
      ]
    },
    {
      "cell_type": "code",
      "metadata": {
        "colab": {
          "base_uri": "https://localhost:8080/",
          "height": 506
        },
        "id": "jAHvjDUPqXK2",
        "outputId": "d852f21b-b203-4194-f99a-19edef3980b0"
      },
      "source": [
        "#Other graph idea\n",
        "y_pred_prob = clf.predict_proba(x_test)[:,1]\n",
        "fpr, tpr, thresholds = roc_curve(y_test, y_pred_prob)\n",
        "\n",
        "\n",
        "plt.figure(figsize=(10,8))\n",
        "plt.plot(fpr,tpr, color= 'darkorange', label = 'AUC = %0.2f' % roc_auc)\n",
        "plt.plot([0, 1], [0, 1],'g-')\n",
        "plt.legend(loc = 'lower right')\n",
        "#creating dot blue line to show AUC at 50% or 0.5\n",
        "#AUC 0.5 = worst prediction\n",
        "plt.plot([0, 1], [0, 1],'b--')\n",
        "plt.xlim([0, 1])\n",
        "plt.ylim([0, 1])\n",
        "plt.ylabel('True Positive Rate', fontsize = 15)\n",
        "plt.xlabel('False Positive Rate', fontsize = 15)\n",
        "plt.show()"
      ],
      "execution_count": 62,
      "outputs": [
        {
          "output_type": "display_data",
          "data": {
            "image/png": "[encoded data removed]",
            "text/plain": [
              "<Figure size 720x576 with 1 Axes>"
            ]
          },
          "metadata": {
            "tags": [],
            "needs_background": "light"
          }
        }
      ]
    },
    {
      "cell_type": "markdown",
      "metadata": {
        "id": "fHLbRcrMbvpP"
      },
      "source": [
        "**Model:** The multi-collinearity variable has been eliminated to ensure that the variables do not affect the regression outcome. Additionally, some variables that show a zero relationship with cardiovascular risk have been eliminated because I want to reduce the possibility of hypothesis error from occuring\n",
        "\n",
        "**Conclusion:** This model is a well-acceptable model with AUC score at 62.24%. The graph also shows that the true positive rate is significantly higher than the false positive rate. The recall score shows that the model is very good at making an accurate prediction out of the overall positive cases. "
      ]
    }
  ]
}